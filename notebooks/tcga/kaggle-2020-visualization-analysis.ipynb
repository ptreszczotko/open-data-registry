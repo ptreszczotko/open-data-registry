{
 "cells": [
  {
   "cell_type": "markdown",
   "metadata": {
    "papermill": {
     "duration": 0.01713,
     "end_time": "2020-11-10T13:52:17.088623",
     "exception": false,
     "start_time": "2020-11-10T13:52:17.071493",
     "status": "completed"
    },
    "tags": []
   },
   "source": [
    "![https://www.googleapis.com/download/storage/v1/b/kaggle-user-content/o/inbox%2F3244747%2Fdf2bd9836c198215ed033d0678a02ef2%2Fheader.png?generation=1604778403014926&alt=media](https://www.googleapis.com/download/storage/v1/b/kaggle-user-content/o/inbox%2F3244747%2Fdf2bd9836c198215ed033d0678a02ef2%2Fheader.png?generation=1604778403014926&alt=media)"
   ]
  },
  {
   "cell_type": "code",
   "execution_count": 1,
   "metadata": {
    "_kg_hide-output": true,
    "execution": {
     "iopub.execute_input": "2020-11-10T13:52:17.129345Z",
     "iopub.status.busy": "2020-11-10T13:52:17.128614Z",
     "iopub.status.idle": "2020-11-10T13:52:52.167376Z",
     "shell.execute_reply": "2020-11-10T13:52:52.166816Z"
    },
    "id": "cHzJlfARJu-n",
    "outputId": "7f8b34d0-3831-488d-e6b9-45edd9470034",
    "papermill": {
     "duration": 35.062691,
     "end_time": "2020-11-10T13:52:52.167528",
     "exception": false,
     "start_time": "2020-11-10T13:52:17.104837",
     "status": "completed"
    },
    "tags": []
   },
   "outputs": [
    {
     "name": "stdout",
     "output_type": "stream",
     "text": [
      "Collecting plotly-geo\r\n",
      "  Downloading plotly_geo-1.0.0-py3-none-any.whl (23.7 MB)\r\n",
      "\u001b[K     |████████████████████████████████| 23.7 MB 209 kB/s \r\n",
      "\u001b[?25hInstalling collected packages: plotly-geo\r\n",
      "Successfully installed plotly-geo-1.0.0\r\n",
      "Requirement already up-to-date: geopandas in /opt/conda/lib/python3.7/site-packages (0.8.1)\r\n",
      "Requirement already satisfied, skipping upgrade: pandas>=0.23.0 in /opt/conda/lib/python3.7/site-packages (from geopandas) (1.1.3)\r\n",
      "Requirement already satisfied, skipping upgrade: pyproj>=2.2.0 in /opt/conda/lib/python3.7/site-packages (from geopandas) (2.6.1.post1)\r\n",
      "Requirement already satisfied, skipping upgrade: fiona in /opt/conda/lib/python3.7/site-packages (from geopandas) (1.8.17)\r\n",
      "Requirement already satisfied, skipping upgrade: shapely in /opt/conda/lib/python3.7/site-packages (from geopandas) (1.7.1)\r\n",
      "Requirement already satisfied, skipping upgrade: pytz>=2017.2 in /opt/conda/lib/python3.7/site-packages (from pandas>=0.23.0->geopandas) (2019.3)\r\n",
      "Requirement already satisfied, skipping upgrade: python-dateutil>=2.7.3 in /opt/conda/lib/python3.7/site-packages (from pandas>=0.23.0->geopandas) (2.8.1)\r\n",
      "Requirement already satisfied, skipping upgrade: numpy>=1.15.4 in /opt/conda/lib/python3.7/site-packages (from pandas>=0.23.0->geopandas) (1.18.5)\r\n",
      "Requirement already satisfied, skipping upgrade: attrs>=17 in /opt/conda/lib/python3.7/site-packages (from fiona->geopandas) (19.3.0)\r\n",
      "Requirement already satisfied, skipping upgrade: click<8,>=4.0 in /opt/conda/lib/python3.7/site-packages (from fiona->geopandas) (7.1.1)\r\n",
      "Requirement already satisfied, skipping upgrade: cligj>=0.5 in /opt/conda/lib/python3.7/site-packages (from fiona->geopandas) (0.7.0)\r\n",
      "Requirement already satisfied, skipping upgrade: click-plugins>=1.0 in /opt/conda/lib/python3.7/site-packages (from fiona->geopandas) (1.1.1)\r\n",
      "Requirement already satisfied, skipping upgrade: six>=1.7 in /opt/conda/lib/python3.7/site-packages (from fiona->geopandas) (1.14.0)\r\n",
      "Requirement already satisfied, skipping upgrade: munch in /opt/conda/lib/python3.7/site-packages (from fiona->geopandas) (2.5.0)\r\n",
      "Requirement already up-to-date: pyshp in /opt/conda/lib/python3.7/site-packages (2.1.2)\r\n",
      "Requirement already up-to-date: shapely in /opt/conda/lib/python3.7/site-packages (1.7.1)\r\n"
     ]
    }
   ],
   "source": [
    "!pip install --upgrade plotly-geo\n",
    "!pip install --upgrade geopandas\n",
    "!pip install --upgrade pyshp\n",
    "!pip install --upgrade shapely"
   ]
  },
  {
   "cell_type": "code",
   "execution_count": 2,
   "metadata": {
    "_cell_guid": "b1076dfc-b9ad-4769-8c92-a6c4dae69d19",
    "_uuid": "8f2839f25d086af736a60e9eeb907d3b93b6e0e5",
    "execution": {
     "iopub.execute_input": "2020-11-10T13:52:52.267942Z",
     "iopub.status.busy": "2020-11-10T13:52:52.267044Z",
     "iopub.status.idle": "2020-11-10T13:52:55.198440Z",
     "shell.execute_reply": "2020-11-10T13:52:55.197778Z"
    },
    "id": "nFdCqP8LJu-u",
    "papermill": {
     "duration": 2.983887,
     "end_time": "2020-11-10T13:52:55.198570",
     "exception": false,
     "start_time": "2020-11-10T13:52:52.214683",
     "status": "completed"
    },
    "tags": []
   },
   "outputs": [],
   "source": [
    "# This Python 3 environment comes with many helpful analytics libraries installed\n",
    "# It is defined by the kaggle/python Docker image: https://github.com/kaggle/docker-python\n",
    "# For example, here's several helpful packages to load\n",
    "\n",
    "import numpy as np # linear algebra\n",
    "import pandas as pd # data processing, CSV file I/O (e.g. pd.read_csv)\n",
    "import plotly.figure_factory as ff\n",
    "import plotly.express as px\n",
    "import time\n",
    "from datetime import datetime"
   ]
  },
  {
   "cell_type": "markdown",
   "metadata": {
    "id": "6yEL8Ksj-tgk",
    "papermill": {
     "duration": 0.046466,
     "end_time": "2020-11-10T13:52:55.292308",
     "exception": false,
     "start_time": "2020-11-10T13:52:55.245842",
     "status": "completed"
    },
    "tags": []
   },
   "source": [
    "## US Voting Results"
   ]
  },
  {
   "cell_type": "code",
   "execution_count": 3,
   "metadata": {
    "execution": {
     "iopub.execute_input": "2020-11-10T13:52:55.394093Z",
     "iopub.status.busy": "2020-11-10T13:52:55.393409Z",
     "iopub.status.idle": "2020-11-10T13:52:55.424274Z",
     "shell.execute_reply": "2020-11-10T13:52:55.423640Z"
    },
    "id": "1MW7woPT-z9C",
    "papermill": {
     "duration": 0.085301,
     "end_time": "2020-11-10T13:52:55.424412",
     "exception": false,
     "start_time": "2020-11-10T13:52:55.339111",
     "status": "completed"
    },
    "tags": []
   },
   "outputs": [],
   "source": [
    "datafile = pd.read_csv('../input/us-election-2020/president_state.csv')\n",
    "state_codes = pd.read_csv('../input/coordinates/world_country_and_usa_states_latitude_and_longitude_values.csv')\n",
    "datafile = datafile.merge(state_codes, left_on='state', right_on='usa_state')"
   ]
  },
  {
   "cell_type": "code",
   "execution_count": 4,
   "metadata": {
    "execution": {
     "iopub.execute_input": "2020-11-10T13:52:55.524479Z",
     "iopub.status.busy": "2020-11-10T13:52:55.523840Z",
     "iopub.status.idle": "2020-11-10T13:52:56.524955Z",
     "shell.execute_reply": "2020-11-10T13:52:56.525383Z"
    },
    "id": "tal0ncUr_FTi",
    "outputId": "9f3605b3-c241-4918-d327-d8c0a281aaba",
    "papermill": {
     "duration": 1.053987,
     "end_time": "2020-11-10T13:52:56.525525",
     "exception": false,
     "start_time": "2020-11-10T13:52:55.471538",
     "status": "completed"
    },
    "tags": []
   },
   "outputs": [
    {
     "data": {
      "text/html": [
       "        <script type=\"text/javascript\">\n",
       "        window.PlotlyConfig = {MathJaxConfig: 'local'};\n",
       "        if (window.MathJax) {MathJax.Hub.Config({SVG: {font: \"STIX-Web\"}});}\n",
       "        if (typeof require !== 'undefined') {\n",
       "        require.undef(\"plotly\");\n",
       "        requirejs.config({\n",
       "            paths: {\n",
       "                'plotly': ['https://cdn.plot.ly/plotly-latest.min']\n",
       "            }\n",
       "        });\n",
       "        require(['plotly'], function(Plotly) {\n",
       "            window._Plotly = Plotly;\n",
       "        });\n",
       "        }\n",
       "        </script>\n",
       "        "
      ]
     },
     "metadata": {},
     "output_type": "display_data"
    },
    {
     "data": {
      "text/html": [
       "<div>                            <div id=\"e10636a9-f385-41e4-b1ac-978c8e514f64\" class=\"plotly-graph-div\" style=\"height:525px; width:100%;\"></div>            <script type=\"text/javascript\">                require([\"plotly\"], function(Plotly) {                    window.PLOTLYENV=window.PLOTLYENV || {};                                    if (document.getElementById(\"e10636a9-f385-41e4-b1ac-978c8e514f64\")) {                    Plotly.newPlot(                        \"e10636a9-f385-41e4-b1ac-978c8e514f64\",                        [{\"coloraxis\": \"coloraxis\", \"geo\": \"geo\", \"hovertemplate\": \"usa_state_code=%{location}<br>votes=%{z}<extra></extra>\", \"locationmode\": \"USA-states\", \"locations\": [\"DE\", \"DC\", \"FL\", \"GA\", \"HI\", \"ID\", \"IL\", \"IN\", \"IA\", \"KS\", \"KY\", \"LA\", \"ME\", \"MD\", \"MA\", \"MI\", \"MN\", \"MS\", \"MO\", \"MT\", \"NE\", \"NV\", \"NH\", \"NJ\", \"NM\", \"NY\", \"NC\", \"ND\", \"OH\", \"OK\", \"OR\", \"PA\", \"RI\", \"SC\", \"SD\", \"TN\", \"TX\", \"UT\", \"VT\", \"VA\", \"WA\", \"WV\", \"WI\", \"WY\", \"AL\", \"AR\", \"CA\", \"CO\", \"CT\", \"AK\", \"AZ\"], \"name\": \"\", \"type\": \"choropleth\", \"z\": [502384, 279152, 11075706, 4983735, 573854, 867971, 5501352, 3031629, 1686591, 1334330, 2158802, 2147395, 783776, 2497959, 3453974, 5530390, 3271288, 1148432, 3010315, 602777, 940210, 1323719, 803195, 3610021, 919261, 6641544, 5464097, 361279, 5769689, 1560699, 2334762, 6765139, 505201, 2515926, 422678, 3049471, 11259148, 1300030, 350178, 4424408, 3917784, 786188, 3297473, 276528, 2309900, 1216818, 14414296, 3173127, 1786557, 172031, 3322535]}],                        {\"coloraxis\": {\"cmax\": 10000000, \"cmin\": 0, \"colorbar\": {\"title\": {\"text\": \"votes\"}}, \"colorscale\": [[0.0, \"#0d0887\"], [0.1111111111111111, \"#46039f\"], [0.2222222222222222, \"#7201a8\"], [0.3333333333333333, \"#9c179e\"], [0.4444444444444444, \"#bd3786\"], [0.5555555555555556, \"#d8576b\"], [0.6666666666666666, \"#ed7953\"], [0.7777777777777778, \"#fb9f3a\"], [0.8888888888888888, \"#fdca26\"], [1.0, \"#f0f921\"]]}, \"geo\": {\"center\": {}, \"domain\": {\"x\": [0.0, 1.0], \"y\": [0.0, 1.0]}, \"scope\": \"usa\"}, \"legend\": {\"tracegroupgap\": 0}, \"margin\": {\"b\": 0, \"l\": 0, \"r\": 0, \"t\": 0}, \"template\": {\"data\": {\"bar\": [{\"error_x\": {\"color\": \"#2a3f5f\"}, \"error_y\": {\"color\": \"#2a3f5f\"}, \"marker\": {\"line\": {\"color\": \"#E5ECF6\", \"width\": 0.5}}, \"type\": \"bar\"}], \"barpolar\": [{\"marker\": {\"line\": {\"color\": \"#E5ECF6\", \"width\": 0.5}}, \"type\": \"barpolar\"}], \"carpet\": [{\"aaxis\": {\"endlinecolor\": \"#2a3f5f\", \"gridcolor\": \"white\", \"linecolor\": \"white\", \"minorgridcolor\": \"white\", \"startlinecolor\": \"#2a3f5f\"}, \"baxis\": {\"endlinecolor\": \"#2a3f5f\", \"gridcolor\": \"white\", \"linecolor\": \"white\", \"minorgridcolor\": \"white\", \"startlinecolor\": \"#2a3f5f\"}, \"type\": \"carpet\"}], \"choropleth\": [{\"colorbar\": {\"outlinewidth\": 0, \"ticks\": \"\"}, \"type\": \"choropleth\"}], \"contour\": [{\"colorbar\": {\"outlinewidth\": 0, \"ticks\": \"\"}, \"colorscale\": [[0.0, \"#0d0887\"], [0.1111111111111111, \"#46039f\"], [0.2222222222222222, \"#7201a8\"], [0.3333333333333333, \"#9c179e\"], [0.4444444444444444, \"#bd3786\"], [0.5555555555555556, \"#d8576b\"], [0.6666666666666666, \"#ed7953\"], [0.7777777777777778, \"#fb9f3a\"], [0.8888888888888888, \"#fdca26\"], [1.0, \"#f0f921\"]], \"type\": \"contour\"}], \"contourcarpet\": [{\"colorbar\": {\"outlinewidth\": 0, \"ticks\": \"\"}, \"type\": \"contourcarpet\"}], \"heatmap\": [{\"colorbar\": {\"outlinewidth\": 0, \"ticks\": \"\"}, \"colorscale\": [[0.0, \"#0d0887\"], [0.1111111111111111, \"#46039f\"], [0.2222222222222222, \"#7201a8\"], [0.3333333333333333, \"#9c179e\"], [0.4444444444444444, \"#bd3786\"], [0.5555555555555556, \"#d8576b\"], [0.6666666666666666, \"#ed7953\"], [0.7777777777777778, \"#fb9f3a\"], [0.8888888888888888, \"#fdca26\"], [1.0, \"#f0f921\"]], \"type\": \"heatmap\"}], \"heatmapgl\": [{\"colorbar\": {\"outlinewidth\": 0, \"ticks\": \"\"}, \"colorscale\": [[0.0, \"#0d0887\"], [0.1111111111111111, \"#46039f\"], [0.2222222222222222, \"#7201a8\"], [0.3333333333333333, \"#9c179e\"], [0.4444444444444444, \"#bd3786\"], [0.5555555555555556, \"#d8576b\"], [0.6666666666666666, \"#ed7953\"], [0.7777777777777778, \"#fb9f3a\"], [0.8888888888888888, \"#fdca26\"], [1.0, \"#f0f921\"]], \"type\": \"heatmapgl\"}], \"histogram\": [{\"marker\": {\"colorbar\": {\"outlinewidth\": 0, \"ticks\": \"\"}}, \"type\": \"histogram\"}], \"histogram2d\": [{\"colorbar\": {\"outlinewidth\": 0, \"ticks\": \"\"}, \"colorscale\": [[0.0, \"#0d0887\"], [0.1111111111111111, \"#46039f\"], [0.2222222222222222, \"#7201a8\"], [0.3333333333333333, \"#9c179e\"], [0.4444444444444444, \"#bd3786\"], [0.5555555555555556, \"#d8576b\"], [0.6666666666666666, \"#ed7953\"], [0.7777777777777778, \"#fb9f3a\"], [0.8888888888888888, \"#fdca26\"], [1.0, \"#f0f921\"]], \"type\": \"histogram2d\"}], \"histogram2dcontour\": [{\"colorbar\": {\"outlinewidth\": 0, \"ticks\": \"\"}, \"colorscale\": [[0.0, \"#0d0887\"], [0.1111111111111111, \"#46039f\"], [0.2222222222222222, \"#7201a8\"], [0.3333333333333333, \"#9c179e\"], [0.4444444444444444, \"#bd3786\"], [0.5555555555555556, \"#d8576b\"], [0.6666666666666666, \"#ed7953\"], [0.7777777777777778, \"#fb9f3a\"], [0.8888888888888888, \"#fdca26\"], [1.0, \"#f0f921\"]], \"type\": \"histogram2dcontour\"}], \"mesh3d\": [{\"colorbar\": {\"outlinewidth\": 0, \"ticks\": \"\"}, \"type\": \"mesh3d\"}], \"parcoords\": [{\"line\": {\"colorbar\": {\"outlinewidth\": 0, \"ticks\": \"\"}}, \"type\": \"parcoords\"}], \"pie\": [{\"automargin\": true, \"type\": \"pie\"}], \"scatter\": [{\"marker\": {\"colorbar\": {\"outlinewidth\": 0, \"ticks\": \"\"}}, \"type\": \"scatter\"}], \"scatter3d\": [{\"line\": {\"colorbar\": {\"outlinewidth\": 0, \"ticks\": \"\"}}, \"marker\": {\"colorbar\": {\"outlinewidth\": 0, \"ticks\": \"\"}}, \"type\": \"scatter3d\"}], \"scattercarpet\": [{\"marker\": {\"colorbar\": {\"outlinewidth\": 0, \"ticks\": \"\"}}, \"type\": \"scattercarpet\"}], \"scattergeo\": [{\"marker\": {\"colorbar\": {\"outlinewidth\": 0, \"ticks\": \"\"}}, \"type\": \"scattergeo\"}], \"scattergl\": [{\"marker\": {\"colorbar\": {\"outlinewidth\": 0, \"ticks\": \"\"}}, \"type\": \"scattergl\"}], \"scattermapbox\": [{\"marker\": {\"colorbar\": {\"outlinewidth\": 0, \"ticks\": \"\"}}, \"type\": \"scattermapbox\"}], \"scatterpolar\": [{\"marker\": {\"colorbar\": {\"outlinewidth\": 0, \"ticks\": \"\"}}, \"type\": \"scatterpolar\"}], \"scatterpolargl\": [{\"marker\": {\"colorbar\": {\"outlinewidth\": 0, \"ticks\": \"\"}}, \"type\": \"scatterpolargl\"}], \"scatterternary\": [{\"marker\": {\"colorbar\": {\"outlinewidth\": 0, \"ticks\": \"\"}}, \"type\": \"scatterternary\"}], \"surface\": [{\"colorbar\": {\"outlinewidth\": 0, \"ticks\": \"\"}, \"colorscale\": [[0.0, \"#0d0887\"], [0.1111111111111111, \"#46039f\"], [0.2222222222222222, \"#7201a8\"], [0.3333333333333333, \"#9c179e\"], [0.4444444444444444, \"#bd3786\"], [0.5555555555555556, \"#d8576b\"], [0.6666666666666666, \"#ed7953\"], [0.7777777777777778, \"#fb9f3a\"], [0.8888888888888888, \"#fdca26\"], [1.0, \"#f0f921\"]], \"type\": \"surface\"}], \"table\": [{\"cells\": {\"fill\": {\"color\": \"#EBF0F8\"}, \"line\": {\"color\": \"white\"}}, \"header\": {\"fill\": {\"color\": \"#C8D4E3\"}, \"line\": {\"color\": \"white\"}}, \"type\": \"table\"}]}, \"layout\": {\"annotationdefaults\": {\"arrowcolor\": \"#2a3f5f\", \"arrowhead\": 0, \"arrowwidth\": 1}, \"coloraxis\": {\"colorbar\": {\"outlinewidth\": 0, \"ticks\": \"\"}}, \"colorscale\": {\"diverging\": [[0, \"#8e0152\"], [0.1, \"#c51b7d\"], [0.2, \"#de77ae\"], [0.3, \"#f1b6da\"], [0.4, \"#fde0ef\"], [0.5, \"#f7f7f7\"], [0.6, \"#e6f5d0\"], [0.7, \"#b8e186\"], [0.8, \"#7fbc41\"], [0.9, \"#4d9221\"], [1, \"#276419\"]], \"sequential\": [[0.0, \"#0d0887\"], [0.1111111111111111, \"#46039f\"], [0.2222222222222222, \"#7201a8\"], [0.3333333333333333, \"#9c179e\"], [0.4444444444444444, \"#bd3786\"], [0.5555555555555556, \"#d8576b\"], [0.6666666666666666, \"#ed7953\"], [0.7777777777777778, \"#fb9f3a\"], [0.8888888888888888, \"#fdca26\"], [1.0, \"#f0f921\"]], \"sequentialminus\": [[0.0, \"#0d0887\"], [0.1111111111111111, \"#46039f\"], [0.2222222222222222, \"#7201a8\"], [0.3333333333333333, \"#9c179e\"], [0.4444444444444444, \"#bd3786\"], [0.5555555555555556, \"#d8576b\"], [0.6666666666666666, \"#ed7953\"], [0.7777777777777778, \"#fb9f3a\"], [0.8888888888888888, \"#fdca26\"], [1.0, \"#f0f921\"]]}, \"colorway\": [\"#636efa\", \"#EF553B\", \"#00cc96\", \"#ab63fa\", \"#FFA15A\", \"#19d3f3\", \"#FF6692\", \"#B6E880\", \"#FF97FF\", \"#FECB52\"], \"font\": {\"color\": \"#2a3f5f\"}, \"geo\": {\"bgcolor\": \"white\", \"lakecolor\": \"white\", \"landcolor\": \"#E5ECF6\", \"showlakes\": true, \"showland\": true, \"subunitcolor\": \"white\"}, \"hoverlabel\": {\"align\": \"left\"}, \"hovermode\": \"closest\", \"mapbox\": {\"style\": \"light\"}, \"paper_bgcolor\": \"white\", \"plot_bgcolor\": \"#E5ECF6\", \"polar\": {\"angularaxis\": {\"gridcolor\": \"white\", \"linecolor\": \"white\", \"ticks\": \"\"}, \"bgcolor\": \"#E5ECF6\", \"radialaxis\": {\"gridcolor\": \"white\", \"linecolor\": \"white\", \"ticks\": \"\"}}, \"scene\": {\"xaxis\": {\"backgroundcolor\": \"#E5ECF6\", \"gridcolor\": \"white\", \"gridwidth\": 2, \"linecolor\": \"white\", \"showbackground\": true, \"ticks\": \"\", \"zerolinecolor\": \"white\"}, \"yaxis\": {\"backgroundcolor\": \"#E5ECF6\", \"gridcolor\": \"white\", \"gridwidth\": 2, \"linecolor\": \"white\", \"showbackground\": true, \"ticks\": \"\", \"zerolinecolor\": \"white\"}, \"zaxis\": {\"backgroundcolor\": \"#E5ECF6\", \"gridcolor\": \"white\", \"gridwidth\": 2, \"linecolor\": \"white\", \"showbackground\": true, \"ticks\": \"\", \"zerolinecolor\": \"white\"}}, \"shapedefaults\": {\"line\": {\"color\": \"#2a3f5f\"}}, \"ternary\": {\"aaxis\": {\"gridcolor\": \"white\", \"linecolor\": \"white\", \"ticks\": \"\"}, \"baxis\": {\"gridcolor\": \"white\", \"linecolor\": \"white\", \"ticks\": \"\"}, \"bgcolor\": \"#E5ECF6\", \"caxis\": {\"gridcolor\": \"white\", \"linecolor\": \"white\", \"ticks\": \"\"}}, \"title\": {\"x\": 0.05}, \"xaxis\": {\"automargin\": true, \"gridcolor\": \"white\", \"linecolor\": \"white\", \"ticks\": \"\", \"title\": {\"standoff\": 15}, \"zerolinecolor\": \"white\", \"zerolinewidth\": 2}, \"yaxis\": {\"automargin\": true, \"gridcolor\": \"white\", \"linecolor\": \"white\", \"ticks\": \"\", \"title\": {\"standoff\": 15}, \"zerolinecolor\": \"white\", \"zerolinewidth\": 2}}}, \"title\": {\"text\": \"USA Presidential Votes Counts\"}},                        {\"responsive\": true}                    ).then(function(){\n",
       "                            \n",
       "var gd = document.getElementById('e10636a9-f385-41e4-b1ac-978c8e514f64');\n",
       "var x = new MutationObserver(function (mutations, observer) {{\n",
       "        var display = window.getComputedStyle(gd).display;\n",
       "        if (!display || display === 'none') {{\n",
       "            console.log([gd, 'removed!']);\n",
       "            Plotly.purge(gd);\n",
       "            observer.disconnect();\n",
       "        }}\n",
       "}});\n",
       "\n",
       "// Listen for the removal of the full notebook cells\n",
       "var notebookContainer = gd.closest('#notebook-container');\n",
       "if (notebookContainer) {{\n",
       "    x.observe(notebookContainer, {childList: true});\n",
       "}}\n",
       "\n",
       "// Listen for the clearing of the current output cell\n",
       "var outputEl = gd.closest('.output');\n",
       "if (outputEl) {{\n",
       "    x.observe(outputEl, {childList: true});\n",
       "}}\n",
       "\n",
       "                        })                };                });            </script>        </div>"
      ]
     },
     "metadata": {},
     "output_type": "display_data"
    }
   ],
   "source": [
    "fig = px.choropleth(datafile, locations='usa_state_code', color=\"votes\",\n",
    "                           range_color=(0, 10000000),\n",
    "                           locationmode = 'USA-states',  \n",
    "                           scope=\"usa\",\n",
    "                           title='USA Presidential Votes Counts' \n",
    "                          )\n",
    "fig.update_layout(margin={\"r\":0,\"t\":0,\"l\":0,\"b\":0})\n",
    "fig.show()"
   ]
  },
  {
   "cell_type": "markdown",
   "metadata": {
    "papermill": {
     "duration": 0.048061,
     "end_time": "2020-11-10T13:52:56.621532",
     "exception": false,
     "start_time": "2020-11-10T13:52:56.573471",
     "status": "completed"
    },
    "tags": []
   },
   "source": [
    "## 2020 USA Election: Vote Percentages by State"
   ]
  },
  {
   "cell_type": "code",
   "execution_count": 5,
   "metadata": {
    "execution": {
     "iopub.execute_input": "2020-11-10T13:52:56.727836Z",
     "iopub.status.busy": "2020-11-10T13:52:56.726760Z",
     "iopub.status.idle": "2020-11-10T13:52:56.806530Z",
     "shell.execute_reply": "2020-11-10T13:52:56.805859Z"
    },
    "papermill": {
     "duration": 0.136636,
     "end_time": "2020-11-10T13:52:56.806648",
     "exception": false,
     "start_time": "2020-11-10T13:52:56.670012",
     "status": "completed"
    },
    "tags": []
   },
   "outputs": [],
   "source": [
    "#referennce : https://www.kaggle.com/paultimothymooney/2020-usa-election-vote-percentages-by-state\n",
    "\n",
    "df_president_county = pd.read_csv('/kaggle/input/us-election-2020/president_county_candidate.csv')\n",
    "democrat = df_president_county['party'] == 'DEM'\n",
    "republican = df_president_county['party'] == 'REP'\n",
    "df_president_county = df_president_county[democrat|republican]\n",
    "df_president_county = df_president_county.groupby(['state','party']).sum()\n",
    "df_president_county = df_president_county.unstack()\n",
    "df_president_county.columns = ['DEM','REP']\n",
    "df_president_county = df_president_county.reset_index()\n",
    "\n",
    "state_codes = pd.read_csv('/kaggle/input/coordinates/world_country_and_usa_states_latitude_and_longitude_values.csv')\n",
    "state_codes = state_codes[['usa_state','usa_state_code']]\n",
    "df_president_county = df_president_county.merge(state_codes, left_on='state', right_on='usa_state')\n",
    "df_president_county['percent_democrat'] = df_president_county['DEM']*100/(df_president_county['REP']+df_president_county['DEM'])"
   ]
  },
  {
   "cell_type": "code",
   "execution_count": 6,
   "metadata": {
    "execution": {
     "iopub.execute_input": "2020-11-10T13:52:56.918385Z",
     "iopub.status.busy": "2020-11-10T13:52:56.917697Z",
     "iopub.status.idle": "2020-11-10T13:52:56.958050Z",
     "shell.execute_reply": "2020-11-10T13:52:56.957465Z"
    },
    "papermill": {
     "duration": 0.102237,
     "end_time": "2020-11-10T13:52:56.958170",
     "exception": false,
     "start_time": "2020-11-10T13:52:56.855933",
     "status": "completed"
    },
    "tags": []
   },
   "outputs": [
    {
     "data": {
      "text/html": [
       "<div>                            <div id=\"b427fffb-b279-4a78-9c1c-74bcd2fc7256\" class=\"plotly-graph-div\" style=\"height:525px; width:100%;\"></div>            <script type=\"text/javascript\">                require([\"plotly\"], function(Plotly) {                    window.PLOTLYENV=window.PLOTLYENV || {};                                    if (document.getElementById(\"b427fffb-b279-4a78-9c1c-74bcd2fc7256\")) {                    Plotly.newPlot(                        \"b427fffb-b279-4a78-9c1c-74bcd2fc7256\",                        [{\"coloraxis\": \"coloraxis\", \"geo\": \"geo\", \"hovertemplate\": \"<b>%{hovertext}</b><br><br>usa_state_code=%{location}<br>percent_democrat=%{z}<extra></extra>\", \"hovertext\": [\"Alabama\", \"Alaska\", \"Arizona\", \"Arkansas\", \"California\", \"Colorado\", \"Connecticut\", \"Delaware\", \"District of Columbia\", \"Florida\", \"Georgia\", \"Hawaii\", \"Idaho\", \"Illinois\", \"Indiana\", \"Iowa\", \"Kansas\", \"Kentucky\", \"Louisiana\", \"Maine\", \"Maryland\", \"Massachusetts\", \"Michigan\", \"Minnesota\", \"Mississippi\", \"Missouri\", \"Montana\", \"Nebraska\", \"Nevada\", \"New Hampshire\", \"New Jersey\", \"New Mexico\", \"New York\", \"North Carolina\", \"North Dakota\", \"Ohio\", \"Oklahoma\", \"Oregon\", \"Pennsylvania\", \"Rhode Island\", \"South Carolina\", \"South Dakota\", \"Tennessee\", \"Texas\", \"Utah\", \"Vermont\", \"Virginia\", \"Washington\", \"West Virginia\", \"Wisconsin\", \"Wyoming\"], \"locationmode\": \"USA-states\", \"locations\": [\"AL\", \"AK\", \"AZ\", \"AR\", \"CA\", \"CO\", \"CT\", \"DE\", \"DC\", \"FL\", \"GA\", \"HI\", \"ID\", \"IL\", \"IN\", \"IA\", \"KS\", \"KY\", \"LA\", \"ME\", \"MD\", \"MA\", \"MI\", \"MN\", \"MS\", \"MO\", \"MT\", \"NE\", \"NV\", \"NH\", \"NJ\", \"NM\", \"NY\", \"NC\", \"ND\", \"OH\", \"OK\", \"OR\", \"PA\", \"RI\", \"SC\", \"SD\", \"TN\", \"TX\", \"UT\", \"VT\", \"VA\", \"WA\", \"WV\", \"WI\", \"WY\"], \"name\": \"\", \"type\": \"choropleth\", \"z\": [37.03289205631111, 36.09899256056865, 50.25968224128172, 35.60921846399535, 65.9347604479447, 56.769307426597024, 60.24189984707089, 59.64685928887273, 94.70751987106699, 48.29845581354279, 50.10517729974758, 65.0425672648132, 34.124564511718056, 57.92343070096754, 41.78261816333369, 45.81564177573857, 42.25142556660476, 36.68463939676491, 40.52894193613174, 55.18523441705349, 64.85334507796108, 66.78335600756544, 51.3588955437429, 53.62575023379451, 39.5477447821638, 42.06354014402144, 41.62657115480198, 40.07251435747248, 51.324648909887706, 53.62118618672003, 59.249226680546975, 55.40090461898543, 56.48107603359185, 49.300746833205764, 32.80060861034924, 45.94796084553157, 33.059960503093485, 58.30833199186985, 50.341960798877935, 60.33699919235916, 44.075805101413025, 36.56006200450456, 38.11659147819367, 47.04190376680916, 39.18704485336032, 67.15618184075043, 54.94849735930412, 60.330912078675894, 30.112470729635078, 50.31690128892837, 27.51790002959921]}],                        {\"coloraxis\": {\"cmax\": 75, \"cmin\": 25, \"colorbar\": {\"title\": {\"text\": \"percent_democrat\"}}, \"colorscale\": [[0.0, \"rgb(103,0,31)\"], [0.1, \"rgb(178,24,43)\"], [0.2, \"rgb(214,96,77)\"], [0.3, \"rgb(244,165,130)\"], [0.4, \"rgb(253,219,199)\"], [0.5, \"rgb(247,247,247)\"], [0.6, \"rgb(209,229,240)\"], [0.7, \"rgb(146,197,222)\"], [0.8, \"rgb(67,147,195)\"], [0.9, \"rgb(33,102,172)\"], [1.0, \"rgb(5,48,97)\"]]}, \"geo\": {\"center\": {}, \"domain\": {\"x\": [0.0, 1.0], \"y\": [0.0, 1.0]}, \"scope\": \"usa\"}, \"legend\": {\"tracegroupgap\": 0}, \"template\": {\"data\": {\"bar\": [{\"error_x\": {\"color\": \"#2a3f5f\"}, \"error_y\": {\"color\": \"#2a3f5f\"}, \"marker\": {\"line\": {\"color\": \"#E5ECF6\", \"width\": 0.5}}, \"type\": \"bar\"}], \"barpolar\": [{\"marker\": {\"line\": {\"color\": \"#E5ECF6\", \"width\": 0.5}}, \"type\": \"barpolar\"}], \"carpet\": [{\"aaxis\": {\"endlinecolor\": \"#2a3f5f\", \"gridcolor\": \"white\", \"linecolor\": \"white\", \"minorgridcolor\": \"white\", \"startlinecolor\": \"#2a3f5f\"}, \"baxis\": {\"endlinecolor\": \"#2a3f5f\", \"gridcolor\": \"white\", \"linecolor\": \"white\", \"minorgridcolor\": \"white\", \"startlinecolor\": \"#2a3f5f\"}, \"type\": \"carpet\"}], \"choropleth\": [{\"colorbar\": {\"outlinewidth\": 0, \"ticks\": \"\"}, \"type\": \"choropleth\"}], \"contour\": [{\"colorbar\": {\"outlinewidth\": 0, \"ticks\": \"\"}, \"colorscale\": [[0.0, \"#0d0887\"], [0.1111111111111111, \"#46039f\"], [0.2222222222222222, \"#7201a8\"], [0.3333333333333333, \"#9c179e\"], [0.4444444444444444, \"#bd3786\"], [0.5555555555555556, \"#d8576b\"], [0.6666666666666666, \"#ed7953\"], [0.7777777777777778, \"#fb9f3a\"], [0.8888888888888888, \"#fdca26\"], [1.0, \"#f0f921\"]], \"type\": \"contour\"}], \"contourcarpet\": [{\"colorbar\": {\"outlinewidth\": 0, \"ticks\": \"\"}, \"type\": \"contourcarpet\"}], \"heatmap\": [{\"colorbar\": {\"outlinewidth\": 0, \"ticks\": \"\"}, \"colorscale\": [[0.0, \"#0d0887\"], [0.1111111111111111, \"#46039f\"], [0.2222222222222222, \"#7201a8\"], [0.3333333333333333, \"#9c179e\"], [0.4444444444444444, \"#bd3786\"], [0.5555555555555556, \"#d8576b\"], [0.6666666666666666, \"#ed7953\"], [0.7777777777777778, \"#fb9f3a\"], [0.8888888888888888, \"#fdca26\"], [1.0, \"#f0f921\"]], \"type\": \"heatmap\"}], \"heatmapgl\": [{\"colorbar\": {\"outlinewidth\": 0, \"ticks\": \"\"}, \"colorscale\": [[0.0, \"#0d0887\"], [0.1111111111111111, \"#46039f\"], [0.2222222222222222, \"#7201a8\"], [0.3333333333333333, \"#9c179e\"], [0.4444444444444444, \"#bd3786\"], [0.5555555555555556, \"#d8576b\"], [0.6666666666666666, \"#ed7953\"], [0.7777777777777778, \"#fb9f3a\"], [0.8888888888888888, \"#fdca26\"], [1.0, \"#f0f921\"]], \"type\": \"heatmapgl\"}], \"histogram\": [{\"marker\": {\"colorbar\": {\"outlinewidth\": 0, \"ticks\": \"\"}}, \"type\": \"histogram\"}], \"histogram2d\": [{\"colorbar\": {\"outlinewidth\": 0, \"ticks\": \"\"}, \"colorscale\": [[0.0, \"#0d0887\"], [0.1111111111111111, \"#46039f\"], [0.2222222222222222, \"#7201a8\"], [0.3333333333333333, \"#9c179e\"], [0.4444444444444444, \"#bd3786\"], [0.5555555555555556, \"#d8576b\"], [0.6666666666666666, \"#ed7953\"], [0.7777777777777778, \"#fb9f3a\"], [0.8888888888888888, \"#fdca26\"], [1.0, \"#f0f921\"]], \"type\": \"histogram2d\"}], \"histogram2dcontour\": [{\"colorbar\": {\"outlinewidth\": 0, \"ticks\": \"\"}, \"colorscale\": [[0.0, \"#0d0887\"], [0.1111111111111111, \"#46039f\"], [0.2222222222222222, \"#7201a8\"], [0.3333333333333333, \"#9c179e\"], [0.4444444444444444, \"#bd3786\"], [0.5555555555555556, \"#d8576b\"], [0.6666666666666666, \"#ed7953\"], [0.7777777777777778, \"#fb9f3a\"], [0.8888888888888888, \"#fdca26\"], [1.0, \"#f0f921\"]], \"type\": \"histogram2dcontour\"}], \"mesh3d\": [{\"colorbar\": {\"outlinewidth\": 0, \"ticks\": \"\"}, \"type\": \"mesh3d\"}], \"parcoords\": [{\"line\": {\"colorbar\": {\"outlinewidth\": 0, \"ticks\": \"\"}}, \"type\": \"parcoords\"}], \"pie\": [{\"automargin\": true, \"type\": \"pie\"}], \"scatter\": [{\"marker\": {\"colorbar\": {\"outlinewidth\": 0, \"ticks\": \"\"}}, \"type\": \"scatter\"}], \"scatter3d\": [{\"line\": {\"colorbar\": {\"outlinewidth\": 0, \"ticks\": \"\"}}, \"marker\": {\"colorbar\": {\"outlinewidth\": 0, \"ticks\": \"\"}}, \"type\": \"scatter3d\"}], \"scattercarpet\": [{\"marker\": {\"colorbar\": {\"outlinewidth\": 0, \"ticks\": \"\"}}, \"type\": \"scattercarpet\"}], \"scattergeo\": [{\"marker\": {\"colorbar\": {\"outlinewidth\": 0, \"ticks\": \"\"}}, \"type\": \"scattergeo\"}], \"scattergl\": [{\"marker\": {\"colorbar\": {\"outlinewidth\": 0, \"ticks\": \"\"}}, \"type\": \"scattergl\"}], \"scattermapbox\": [{\"marker\": {\"colorbar\": {\"outlinewidth\": 0, \"ticks\": \"\"}}, \"type\": \"scattermapbox\"}], \"scatterpolar\": [{\"marker\": {\"colorbar\": {\"outlinewidth\": 0, \"ticks\": \"\"}}, \"type\": \"scatterpolar\"}], \"scatterpolargl\": [{\"marker\": {\"colorbar\": {\"outlinewidth\": 0, \"ticks\": \"\"}}, \"type\": \"scatterpolargl\"}], \"scatterternary\": [{\"marker\": {\"colorbar\": {\"outlinewidth\": 0, \"ticks\": \"\"}}, \"type\": \"scatterternary\"}], \"surface\": [{\"colorbar\": {\"outlinewidth\": 0, \"ticks\": \"\"}, \"colorscale\": [[0.0, \"#0d0887\"], [0.1111111111111111, \"#46039f\"], [0.2222222222222222, \"#7201a8\"], [0.3333333333333333, \"#9c179e\"], [0.4444444444444444, \"#bd3786\"], [0.5555555555555556, \"#d8576b\"], [0.6666666666666666, \"#ed7953\"], [0.7777777777777778, \"#fb9f3a\"], [0.8888888888888888, \"#fdca26\"], [1.0, \"#f0f921\"]], \"type\": \"surface\"}], \"table\": [{\"cells\": {\"fill\": {\"color\": \"#EBF0F8\"}, \"line\": {\"color\": \"white\"}}, \"header\": {\"fill\": {\"color\": \"#C8D4E3\"}, \"line\": {\"color\": \"white\"}}, \"type\": \"table\"}]}, \"layout\": {\"annotationdefaults\": {\"arrowcolor\": \"#2a3f5f\", \"arrowhead\": 0, \"arrowwidth\": 1}, \"coloraxis\": {\"colorbar\": {\"outlinewidth\": 0, \"ticks\": \"\"}}, \"colorscale\": {\"diverging\": [[0, \"#8e0152\"], [0.1, \"#c51b7d\"], [0.2, \"#de77ae\"], [0.3, \"#f1b6da\"], [0.4, \"#fde0ef\"], [0.5, \"#f7f7f7\"], [0.6, \"#e6f5d0\"], [0.7, \"#b8e186\"], [0.8, \"#7fbc41\"], [0.9, \"#4d9221\"], [1, \"#276419\"]], \"sequential\": [[0.0, \"#0d0887\"], [0.1111111111111111, \"#46039f\"], [0.2222222222222222, \"#7201a8\"], [0.3333333333333333, \"#9c179e\"], [0.4444444444444444, \"#bd3786\"], [0.5555555555555556, \"#d8576b\"], [0.6666666666666666, \"#ed7953\"], [0.7777777777777778, \"#fb9f3a\"], [0.8888888888888888, \"#fdca26\"], [1.0, \"#f0f921\"]], \"sequentialminus\": [[0.0, \"#0d0887\"], [0.1111111111111111, \"#46039f\"], [0.2222222222222222, \"#7201a8\"], [0.3333333333333333, \"#9c179e\"], [0.4444444444444444, \"#bd3786\"], [0.5555555555555556, \"#d8576b\"], [0.6666666666666666, \"#ed7953\"], [0.7777777777777778, \"#fb9f3a\"], [0.8888888888888888, \"#fdca26\"], [1.0, \"#f0f921\"]]}, \"colorway\": [\"#636efa\", \"#EF553B\", \"#00cc96\", \"#ab63fa\", \"#FFA15A\", \"#19d3f3\", \"#FF6692\", \"#B6E880\", \"#FF97FF\", \"#FECB52\"], \"font\": {\"color\": \"#2a3f5f\"}, \"geo\": {\"bgcolor\": \"white\", \"lakecolor\": \"white\", \"landcolor\": \"#E5ECF6\", \"showlakes\": true, \"showland\": true, \"subunitcolor\": \"white\"}, \"hoverlabel\": {\"align\": \"left\"}, \"hovermode\": \"closest\", \"mapbox\": {\"style\": \"light\"}, \"paper_bgcolor\": \"white\", \"plot_bgcolor\": \"#E5ECF6\", \"polar\": {\"angularaxis\": {\"gridcolor\": \"white\", \"linecolor\": \"white\", \"ticks\": \"\"}, \"bgcolor\": \"#E5ECF6\", \"radialaxis\": {\"gridcolor\": \"white\", \"linecolor\": \"white\", \"ticks\": \"\"}}, \"scene\": {\"xaxis\": {\"backgroundcolor\": \"#E5ECF6\", \"gridcolor\": \"white\", \"gridwidth\": 2, \"linecolor\": \"white\", \"showbackground\": true, \"ticks\": \"\", \"zerolinecolor\": \"white\"}, \"yaxis\": {\"backgroundcolor\": \"#E5ECF6\", \"gridcolor\": \"white\", \"gridwidth\": 2, \"linecolor\": \"white\", \"showbackground\": true, \"ticks\": \"\", \"zerolinecolor\": \"white\"}, \"zaxis\": {\"backgroundcolor\": \"#E5ECF6\", \"gridcolor\": \"white\", \"gridwidth\": 2, \"linecolor\": \"white\", \"showbackground\": true, \"ticks\": \"\", \"zerolinecolor\": \"white\"}}, \"shapedefaults\": {\"line\": {\"color\": \"#2a3f5f\"}}, \"ternary\": {\"aaxis\": {\"gridcolor\": \"white\", \"linecolor\": \"white\", \"ticks\": \"\"}, \"baxis\": {\"gridcolor\": \"white\", \"linecolor\": \"white\", \"ticks\": \"\"}, \"bgcolor\": \"#E5ECF6\", \"caxis\": {\"gridcolor\": \"white\", \"linecolor\": \"white\", \"ticks\": \"\"}}, \"title\": {\"x\": 0.05}, \"xaxis\": {\"automargin\": true, \"gridcolor\": \"white\", \"linecolor\": \"white\", \"ticks\": \"\", \"title\": {\"standoff\": 15}, \"zerolinecolor\": \"white\", \"zerolinewidth\": 2}, \"yaxis\": {\"automargin\": true, \"gridcolor\": \"white\", \"linecolor\": \"white\", \"ticks\": \"\", \"title\": {\"standoff\": 15}, \"zerolinecolor\": \"white\", \"zerolinewidth\": 2}}}, \"title\": {\"text\": \"2020 USA Election: Percent of Population Voting for the Democratic Party\"}},                        {\"responsive\": true}                    ).then(function(){\n",
       "                            \n",
       "var gd = document.getElementById('b427fffb-b279-4a78-9c1c-74bcd2fc7256');\n",
       "var x = new MutationObserver(function (mutations, observer) {{\n",
       "        var display = window.getComputedStyle(gd).display;\n",
       "        if (!display || display === 'none') {{\n",
       "            console.log([gd, 'removed!']);\n",
       "            Plotly.purge(gd);\n",
       "            observer.disconnect();\n",
       "        }}\n",
       "}});\n",
       "\n",
       "// Listen for the removal of the full notebook cells\n",
       "var notebookContainer = gd.closest('#notebook-container');\n",
       "if (notebookContainer) {{\n",
       "    x.observe(notebookContainer, {childList: true});\n",
       "}}\n",
       "\n",
       "// Listen for the clearing of the current output cell\n",
       "var outputEl = gd.closest('.output');\n",
       "if (outputEl) {{\n",
       "    x.observe(outputEl, {childList: true});\n",
       "}}\n",
       "\n",
       "                        })                };                });            </script>        </div>"
      ]
     },
     "metadata": {},
     "output_type": "display_data"
    }
   ],
   "source": [
    "fig = px.choropleth(df_president_county, \n",
    "                    locations=\"usa_state_code\", \n",
    "                    color = \"percent_democrat\",\n",
    "                    locationmode = 'USA-states', \n",
    "                    hover_name=\"state\",\n",
    "                    range_color=[25,75],\n",
    "                    color_continuous_scale = 'RdBu',#blues\n",
    "                    scope=\"usa\",\n",
    "                    title='2020 USA Election: Percent of Population Voting for the Democratic Party')\n",
    "fig.show()"
   ]
  },
  {
   "cell_type": "markdown",
   "metadata": {
    "id": "fNf4rm-WJu-z",
    "papermill": {
     "duration": 0.049028,
     "end_time": "2020-11-10T13:52:57.056606",
     "exception": false,
     "start_time": "2020-11-10T13:52:57.007578",
     "status": "completed"
    },
    "tags": []
   },
   "source": [
    "## Governor's County Results"
   ]
  },
  {
   "cell_type": "code",
   "execution_count": 7,
   "metadata": {
    "execution": {
     "iopub.execute_input": "2020-11-10T13:52:57.163011Z",
     "iopub.status.busy": "2020-11-10T13:52:57.162307Z",
     "iopub.status.idle": "2020-11-10T13:52:57.175143Z",
     "shell.execute_reply": "2020-11-10T13:52:57.174376Z"
    },
    "id": "jV1OphdIJu-0",
    "papermill": {
     "duration": 0.069616,
     "end_time": "2020-11-10T13:52:57.175289",
     "exception": false,
     "start_time": "2020-11-10T13:52:57.105673",
     "status": "completed"
    },
    "tags": []
   },
   "outputs": [],
   "source": [
    "flips_main = pd.read_csv('../input/flips-for-maps/Flip_v2.csv')\n",
    "flips = flips_main[['State','County Full Name','FIPS Full County']]\n",
    "flips.columns = ['state','county','Flips']"
   ]
  },
  {
   "cell_type": "code",
   "execution_count": 8,
   "metadata": {
    "execution": {
     "iopub.execute_input": "2020-11-10T13:52:57.283601Z",
     "iopub.status.busy": "2020-11-10T13:52:57.282957Z",
     "iopub.status.idle": "2020-11-10T13:52:57.290535Z",
     "shell.execute_reply": "2020-11-10T13:52:57.289937Z"
    },
    "id": "AxNrpuwGFm0p",
    "outputId": "7314708a-bfdf-4865-84ad-163eb82af851",
    "papermill": {
     "duration": 0.065324,
     "end_time": "2020-11-10T13:52:57.290645",
     "exception": false,
     "start_time": "2020-11-10T13:52:57.225321",
     "status": "completed"
    },
    "tags": []
   },
   "outputs": [
    {
     "data": {
      "text/html": [
       "<div>\n",
       "<style scoped>\n",
       "    .dataframe tbody tr th:only-of-type {\n",
       "        vertical-align: middle;\n",
       "    }\n",
       "\n",
       "    .dataframe tbody tr th {\n",
       "        vertical-align: top;\n",
       "    }\n",
       "\n",
       "    .dataframe thead th {\n",
       "        text-align: right;\n",
       "    }\n",
       "</style>\n",
       "<table border=\"1\" class=\"dataframe\">\n",
       "  <thead>\n",
       "    <tr style=\"text-align: right;\">\n",
       "      <th></th>\n",
       "      <th>state</th>\n",
       "      <th>county</th>\n",
       "      <th>Flips</th>\n",
       "    </tr>\n",
       "  </thead>\n",
       "  <tbody>\n",
       "    <tr>\n",
       "      <th>0</th>\n",
       "      <td>Alabama</td>\n",
       "      <td>Autauga County</td>\n",
       "      <td>1001</td>\n",
       "    </tr>\n",
       "    <tr>\n",
       "      <th>1</th>\n",
       "      <td>Alabama</td>\n",
       "      <td>Baldwin County</td>\n",
       "      <td>1003</td>\n",
       "    </tr>\n",
       "  </tbody>\n",
       "</table>\n",
       "</div>"
      ],
      "text/plain": [
       "     state          county  Flips\n",
       "0  Alabama  Autauga County   1001\n",
       "1  Alabama  Baldwin County   1003"
      ]
     },
     "execution_count": 8,
     "metadata": {},
     "output_type": "execute_result"
    }
   ],
   "source": [
    "flips.head(2)"
   ]
  },
  {
   "cell_type": "code",
   "execution_count": 9,
   "metadata": {
    "execution": {
     "iopub.execute_input": "2020-11-10T13:52:57.400940Z",
     "iopub.status.busy": "2020-11-10T13:52:57.400139Z",
     "iopub.status.idle": "2020-11-10T13:52:57.404383Z",
     "shell.execute_reply": "2020-11-10T13:52:57.403645Z"
    },
    "id": "xCbcCwXIgpiB",
    "outputId": "15d5934d-3b5c-414c-985c-e5f23c5c690e",
    "papermill": {
     "duration": 0.06429,
     "end_time": "2020-11-10T13:52:57.404558",
     "exception": false,
     "start_time": "2020-11-10T13:52:57.340268",
     "status": "completed"
    },
    "tags": []
   },
   "outputs": [
    {
     "name": "stdout",
     "output_type": "stream",
     "text": [
      "<class 'pandas.core.frame.DataFrame'>\n",
      "RangeIndex: 3142 entries, 0 to 3141\n",
      "Data columns (total 3 columns):\n",
      " #   Column  Non-Null Count  Dtype \n",
      "---  ------  --------------  ----- \n",
      " 0   state   3142 non-null   object\n",
      " 1   county  3142 non-null   object\n",
      " 2   Flips   3142 non-null   int64 \n",
      "dtypes: int64(1), object(2)\n",
      "memory usage: 73.8+ KB\n"
     ]
    }
   ],
   "source": [
    "flips.info()"
   ]
  },
  {
   "cell_type": "code",
   "execution_count": 10,
   "metadata": {
    "_cell_guid": "79c7e3d0-c299-4dcb-8224-4455121ee9b0",
    "_uuid": "d629ff2d2480ee46fbb7e2d37f6b5fab8052498a",
    "execution": {
     "iopub.execute_input": "2020-11-10T13:52:57.510148Z",
     "iopub.status.busy": "2020-11-10T13:52:57.509416Z",
     "iopub.status.idle": "2020-11-10T13:52:57.522226Z",
     "shell.execute_reply": "2020-11-10T13:52:57.522687Z"
    },
    "id": "N91-UMIxJu-6",
    "outputId": "6e6eb870-c8ab-489b-eb30-70b3fe50b186",
    "papermill": {
     "duration": 0.068364,
     "end_time": "2020-11-10T13:52:57.522864",
     "exception": false,
     "start_time": "2020-11-10T13:52:57.454500",
     "status": "completed"
    },
    "tags": []
   },
   "outputs": [
    {
     "data": {
      "text/html": [
       "<div>\n",
       "<style scoped>\n",
       "    .dataframe tbody tr th:only-of-type {\n",
       "        vertical-align: middle;\n",
       "    }\n",
       "\n",
       "    .dataframe tbody tr th {\n",
       "        vertical-align: top;\n",
       "    }\n",
       "\n",
       "    .dataframe thead th {\n",
       "        text-align: right;\n",
       "    }\n",
       "</style>\n",
       "<table border=\"1\" class=\"dataframe\">\n",
       "  <thead>\n",
       "    <tr style=\"text-align: right;\">\n",
       "      <th></th>\n",
       "      <th>state</th>\n",
       "      <th>county</th>\n",
       "      <th>current_votes</th>\n",
       "      <th>total_votes</th>\n",
       "      <th>percent</th>\n",
       "    </tr>\n",
       "  </thead>\n",
       "  <tbody>\n",
       "    <tr>\n",
       "      <th>0</th>\n",
       "      <td>Delaware</td>\n",
       "      <td>Kent County</td>\n",
       "      <td>85399</td>\n",
       "      <td>88000</td>\n",
       "      <td>95</td>\n",
       "    </tr>\n",
       "    <tr>\n",
       "      <th>1</th>\n",
       "      <td>Delaware</td>\n",
       "      <td>New Castle County</td>\n",
       "      <td>278691</td>\n",
       "      <td>293878</td>\n",
       "      <td>95</td>\n",
       "    </tr>\n",
       "  </tbody>\n",
       "</table>\n",
       "</div>"
      ],
      "text/plain": [
       "      state             county  current_votes  total_votes  percent\n",
       "0  Delaware        Kent County          85399        88000       95\n",
       "1  Delaware  New Castle County         278691       293878       95"
      ]
     },
     "execution_count": 10,
     "metadata": {},
     "output_type": "execute_result"
    }
   ],
   "source": [
    "gov_county = pd.read_csv('../input/us-election-2020/governors_county.csv')\n",
    "gov_county.head(2)"
   ]
  },
  {
   "cell_type": "markdown",
   "metadata": {
    "id": "ITXsLhY_Ju--",
    "papermill": {
     "duration": 0.050512,
     "end_time": "2020-11-10T13:52:57.623941",
     "exception": false,
     "start_time": "2020-11-10T13:52:57.573429",
     "status": "completed"
    },
    "tags": []
   },
   "source": [
    "## Delaware"
   ]
  },
  {
   "cell_type": "code",
   "execution_count": 11,
   "metadata": {
    "execution": {
     "iopub.execute_input": "2020-11-10T13:52:57.732495Z",
     "iopub.status.busy": "2020-11-10T13:52:57.731793Z",
     "iopub.status.idle": "2020-11-10T13:52:57.734983Z",
     "shell.execute_reply": "2020-11-10T13:52:57.734443Z"
    },
    "id": "RubFmZoNJu--",
    "papermill": {
     "duration": 0.060497,
     "end_time": "2020-11-10T13:52:57.735097",
     "exception": false,
     "start_time": "2020-11-10T13:52:57.674600",
     "status": "completed"
    },
    "tags": []
   },
   "outputs": [],
   "source": [
    "Delaware_County = gov_county[gov_county['state'] == 'Delaware']\n",
    "Delaware_Flips = flips[flips['state']=='Delaware']"
   ]
  },
  {
   "cell_type": "code",
   "execution_count": 12,
   "metadata": {
    "execution": {
     "iopub.execute_input": "2020-11-10T13:52:57.856622Z",
     "iopub.status.busy": "2020-11-10T13:52:57.853691Z",
     "iopub.status.idle": "2020-11-10T13:52:57.861774Z",
     "shell.execute_reply": "2020-11-10T13:52:57.861125Z"
    },
    "id": "lc95mF4gJu_H",
    "outputId": "6f0133fb-2964-47b2-b324-22914a1e9169",
    "papermill": {
     "duration": 0.074569,
     "end_time": "2020-11-10T13:52:57.861898",
     "exception": false,
     "start_time": "2020-11-10T13:52:57.787329",
     "status": "completed"
    },
    "tags": []
   },
   "outputs": [
    {
     "data": {
      "text/html": [
       "<div>\n",
       "<style scoped>\n",
       "    .dataframe tbody tr th:only-of-type {\n",
       "        vertical-align: middle;\n",
       "    }\n",
       "\n",
       "    .dataframe tbody tr th {\n",
       "        vertical-align: top;\n",
       "    }\n",
       "\n",
       "    .dataframe thead th {\n",
       "        text-align: right;\n",
       "    }\n",
       "</style>\n",
       "<table border=\"1\" class=\"dataframe\">\n",
       "  <thead>\n",
       "    <tr style=\"text-align: right;\">\n",
       "      <th></th>\n",
       "      <th>state_x</th>\n",
       "      <th>county</th>\n",
       "      <th>current_votes</th>\n",
       "      <th>total_votes</th>\n",
       "      <th>percent</th>\n",
       "      <th>Flips</th>\n",
       "    </tr>\n",
       "  </thead>\n",
       "  <tbody>\n",
       "    <tr>\n",
       "      <th>0</th>\n",
       "      <td>Delaware</td>\n",
       "      <td>Kent County</td>\n",
       "      <td>85399</td>\n",
       "      <td>88000</td>\n",
       "      <td>95</td>\n",
       "      <td>10001</td>\n",
       "    </tr>\n",
       "    <tr>\n",
       "      <th>1</th>\n",
       "      <td>Delaware</td>\n",
       "      <td>New Castle County</td>\n",
       "      <td>278691</td>\n",
       "      <td>293878</td>\n",
       "      <td>95</td>\n",
       "      <td>10003</td>\n",
       "    </tr>\n",
       "  </tbody>\n",
       "</table>\n",
       "</div>"
      ],
      "text/plain": [
       "    state_x             county  current_votes  total_votes  percent  Flips\n",
       "0  Delaware        Kent County          85399        88000       95  10001\n",
       "1  Delaware  New Castle County         278691       293878       95  10003"
      ]
     },
     "execution_count": 12,
     "metadata": {},
     "output_type": "execute_result"
    }
   ],
   "source": [
    "Delaware_County = Delaware_County.merge(Delaware_Flips, on='county', how='left')\n",
    "Delaware_County = Delaware_County.drop(['state_y'],axis=1)\n",
    "Delaware_County.head(2)"
   ]
  },
  {
   "cell_type": "code",
   "execution_count": 13,
   "metadata": {
    "execution": {
     "iopub.execute_input": "2020-11-10T13:52:57.982571Z",
     "iopub.status.busy": "2020-11-10T13:52:57.972884Z",
     "iopub.status.idle": "2020-11-10T13:53:00.087031Z",
     "shell.execute_reply": "2020-11-10T13:53:00.086511Z"
    },
    "id": "lR5bJUMRJu_J",
    "outputId": "dd02cacf-4938-4d58-b306-efe01304ff53",
    "papermill": {
     "duration": 2.174283,
     "end_time": "2020-11-10T13:53:00.087157",
     "exception": false,
     "start_time": "2020-11-10T13:52:57.912874",
     "status": "completed"
    },
    "tags": []
   },
   "outputs": [
    {
     "data": {
      "text/html": [
       "<div>                            <div id=\"8a4643a5-9b14-4da4-9035-779c3c2b500a\" class=\"plotly-graph-div\" style=\"height:400px; width:750px;\"></div>            <script type=\"text/javascript\">                require([\"plotly\"], function(Plotly) {                    window.PLOTLYENV=window.PLOTLYENV || {};                                    if (document.getElementById(\"8a4643a5-9b14-4da4-9035-779c3c2b500a\")) {                    Plotly.newPlot(                        \"8a4643a5-9b14-4da4-9035-779c3c2b500a\",                        [{\"fill\": \"toself\", \"fillcolor\": \"rgb(68, 1, 84)\", \"hoverinfo\": \"none\", \"line\": {\"color\": \"rgb(255,255,255)\", \"width\": 0.5}, \"mode\": \"lines\", \"name\": \"< 85.40K\", \"type\": \"scatter\", \"x\": [-75.760104352373, -75.58476499999999, -75.5123720823948, -75.439027, -75.39457999999999, -75.402035, -75.34089, -75.314951, -75.31192256161259, -75.38064899999999, -75.40231, -75.48412499999999, -75.555013, -75.7225990918529, -75.760104352373, null], \"y\": [39.2968165224723, 39.308644, 39.3656561384634, 39.313384, 39.203227, 39.066885, 39.01996, 38.980775, 38.945916812795794, 38.961873, 38.91767, 38.904447999999995, 38.835649, 38.8298593718107, 39.2968165224723, null]}, {\"fill\": \"toself\", \"fillcolor\": \"rgb(59, 82, 139)\", \"hoverinfo\": \"none\", \"line\": {\"color\": \"rgb(255,255,255)\", \"width\": 0.5}, \"mode\": \"lines\", \"name\": \"85.40K - 149.83K\", \"type\": \"scatter\", \"x\": [-75.7225990918529, -75.555013, -75.48412499999999, -75.40231, -75.39321199999999, -75.31668599999999, -75.190552, -75.134022, -75.09201399999999, -75.04893899999999, -75.69367, -75.7225990918529, null], \"y\": [38.8298593718107, 38.835649, 38.904447999999995, 38.91767, 38.95574, 38.952912999999995, 38.806861, 38.782242, 38.803902, 38.451263, 38.46008, 38.8298593718107, null]}, {\"fill\": \"toself\", \"fillcolor\": \"rgb(33, 145, 140)\", \"hoverinfo\": \"none\", \"line\": {\"color\": \"rgb(255,255,255)\", \"width\": 0.5}, \"mode\": \"lines\", \"name\": \"149.83K - 214.26K\", \"type\": \"scatter\", \"x\": [], \"y\": []}, {\"fill\": \"toself\", \"fillcolor\": \"rgb(94, 201, 98)\", \"hoverinfo\": \"none\", \"line\": {\"color\": \"rgb(255,255,255)\", \"width\": 0.5}, \"mode\": \"lines\", \"name\": \"214.26K - 278.69K\", \"type\": \"scatter\", \"x\": [-75.565546, -75.56174299999999, -75.567447, -75.565546, null, -75.57129909859229, -75.559446, -75.55587, -75.561934, -75.57129909859229, null, -75.58036299999999, -75.570774, -75.564604, -75.572118, -75.58036299999999, null, -75.78865590755069, -75.788596, -75.66282199999999, -75.539346, -75.423416, -75.614929, -75.563034, -75.59232899999999, -75.5123720823948, -75.57462, -75.760104352373, -75.78865590755069, null], \"y\": [39.514849999999996, 39.520534, 39.508615999999996, 39.514849999999996, null, 39.6251077524268, 39.629812, 39.605824, 39.605216, 39.6251077524268, null, 39.599455, 39.594091, 39.589337, 39.58586, 39.599455, null, 39.659333499406, 39.722198999999996, 39.821149999999996, 39.838211, 39.806615, 39.615952, 39.562239999999996, 39.467577999999996, 39.3656561384634, 39.313434, 39.2968165224723, 39.659333499406, null]}, {\"fill\": \"toself\", \"fillcolor\": \"rgb(253, 231, 37)\", \"hoverinfo\": \"none\", \"line\": {\"color\": \"rgb(255,255,255)\", \"width\": 0.5}, \"mode\": \"lines\", \"name\": \"> 278.69K\", \"type\": \"scatter\", \"x\": [], \"y\": []}, {\"hoverinfo\": \"text\", \"legendgroup\": \"centroids\", \"marker\": {\"color\": \"white\", \"opacity\": 0}, \"mode\": \"markers\", \"name\": \"US Counties\", \"selected\": {\"marker\": {\"color\": \"white\", \"opacity\": 1, \"size\": 3}}, \"showlegend\": false, \"text\": [\"County: New Castle<br>State: Delaware<br>FIPS: 10003<br>Value: 278691\", \"County: New Castle<br>State: Delaware<br>FIPS: 10003<br>Value: 278691\", \"County: New Castle<br>State: Delaware<br>FIPS: 10003<br>Value: 278691\", \"County: New Castle<br>State: Delaware<br>FIPS: 10003<br>Value: 278691\", \"County: Kent<br>State: Delaware<br>FIPS: 10001<br>Value: 85399\", \"County: Sussex<br>State: Delaware<br>FIPS: 10005<br>Value: 127168\"], \"type\": \"scatter\", \"unselected\": {\"marker\": {\"opacity\": 0}}, \"x\": [[-75.5635501913874], [-75.56347561435875], [-75.57266461823681], [-75.65296218882102], -75.56842092703009, -75.39003794588707], \"y\": [[39.51463671342687], [39.618360938065194], [39.591236702753875], [39.576749940639694], 39.08616556056527, 38.66055235559099]}, {\"hoverinfo\": \"text\", \"legendgroup\": \"States\", \"line\": {\"color\": \"rgb(240, 240, 240)\", \"width\": 1}, \"mode\": \"lines\", \"showlegend\": false, \"type\": \"scatter\", \"x\": [-75.565546, -75.56174299999999, -75.567447, -75.565546, null, -75.57129909859229, -75.559446, -75.55587, -75.561934, -75.57129909859229, null, -75.58036299999999, -75.570774, -75.564604, -75.572118, -75.58036299999999, null, -75.78865590755069, -75.788596, -75.66282199999999, -75.539346, -75.423416, -75.613153, -75.563034, -75.59232899999999, -75.404688, -75.402035, -75.318354, -75.30407799999999, -75.159022, -75.09201399999999, -75.04893899999999, -75.69367, -75.78865590755069, null, null], \"y\": [39.514849999999996, 39.520534, 39.508615999999996, 39.514849999999996, null, 39.6251077524268, 39.629812, 39.605824, 39.605216, 39.6251077524268, null, 39.599455, 39.594091, 39.589337, 39.58586, 39.599455, null, 39.659333499406, 39.722198999999996, 39.821149999999996, 39.838211, 39.806615, 39.62096, 39.562239999999996, 39.467577999999996, 39.257835, 39.066885, 38.988191, 38.91316, 38.790192999999995, 38.803902, 38.451263, 38.46008, 39.659333499406, null, null]}],                        {\"annotations\": [{\"showarrow\": false, \"text\": \"<b>Total Votes by County</b>\", \"x\": 1, \"xanchor\": \"right\", \"xref\": \"paper\", \"y\": 1.05, \"yref\": \"paper\"}], \"dragmode\": \"select\", \"height\": 400, \"hovermode\": \"closest\", \"legend\": {\"traceorder\": \"reversed\", \"x\": 1, \"xanchor\": \"right\", \"y\": 1, \"yanchor\": \"top\"}, \"margin\": {\"b\": 0, \"l\": 0, \"r\": 0, \"t\": 0}, \"paper_bgcolor\": \"rgb(229,229,229)\", \"plot_bgcolor\": \"rgb(229,229,229)\", \"title\": {\"text\": \"Delaware\"}, \"width\": 750, \"xaxis\": {\"autorange\": false, \"fixedrange\": true, \"range\": [-77.15248245377535, -73.68511245377533], \"showgrid\": false, \"showticklabels\": false, \"zeroline\": false}, \"yaxis\": {\"autorange\": false, \"fixedrange\": true, \"range\": [38.451263, 39.838211], \"showgrid\": false, \"showticklabels\": false, \"zeroline\": false}},                        {\"responsive\": true}                    ).then(function(){\n",
       "                            \n",
       "var gd = document.getElementById('8a4643a5-9b14-4da4-9035-779c3c2b500a');\n",
       "var x = new MutationObserver(function (mutations, observer) {{\n",
       "        var display = window.getComputedStyle(gd).display;\n",
       "        if (!display || display === 'none') {{\n",
       "            console.log([gd, 'removed!']);\n",
       "            Plotly.purge(gd);\n",
       "            observer.disconnect();\n",
       "        }}\n",
       "}});\n",
       "\n",
       "// Listen for the removal of the full notebook cells\n",
       "var notebookContainer = gd.closest('#notebook-container');\n",
       "if (notebookContainer) {{\n",
       "    x.observe(notebookContainer, {childList: true});\n",
       "}}\n",
       "\n",
       "// Listen for the clearing of the current output cell\n",
       "var outputEl = gd.closest('.output');\n",
       "if (outputEl) {{\n",
       "    x.observe(outputEl, {childList: true});\n",
       "}}\n",
       "\n",
       "                        })                };                });            </script>        </div>"
      ]
     },
     "metadata": {},
     "output_type": "display_data"
    }
   ],
   "source": [
    "county = Delaware_County['county'].tolist()\n",
    "values = Delaware_County['current_votes'].tolist()\n",
    "fips = Delaware_County['Flips'].tolist()\n",
    "\n",
    "endpts = list(np.mgrid[min(values):max(values):4j])\n",
    "\n",
    "fig = ff.create_choropleth(\n",
    "    fips=fips, values=values, scope=['Delaware'], show_state_data=True,\n",
    "    binning_endpoints=endpts, round_legend_values=True,\n",
    "    plot_bgcolor='rgb(229,229,229)',\n",
    "    paper_bgcolor='rgb(229,229,229)',\n",
    "    legend_title='Total Votes by County',\n",
    "    show_hover=True,\n",
    "    county_outline={'color': 'rgb(255,255,255)', 'width': 0.5},\n",
    "    exponent_format=True,\n",
    "    title='Delaware'\n",
    ")\n",
    "fig.update_layout(height=400, width=750, margin={\"r\":0,\"t\":0,\"l\":0,\"b\":0})\n",
    "fig.layout.template = None\n",
    "fig.show()"
   ]
  },
  {
   "cell_type": "markdown",
   "metadata": {
    "id": "K5As5LdekdwP",
    "papermill": {
     "duration": 0.051275,
     "end_time": "2020-11-10T13:53:00.191037",
     "exception": false,
     "start_time": "2020-11-10T13:53:00.139762",
     "status": "completed"
    },
    "tags": []
   },
   "source": [
    "## Indiana"
   ]
  },
  {
   "cell_type": "code",
   "execution_count": 14,
   "metadata": {
    "execution": {
     "iopub.execute_input": "2020-11-10T13:53:00.303691Z",
     "iopub.status.busy": "2020-11-10T13:53:00.302959Z",
     "iopub.status.idle": "2020-11-10T13:53:00.306183Z",
     "shell.execute_reply": "2020-11-10T13:53:00.305510Z"
    },
    "id": "556Kk5T3kk8x",
    "papermill": {
     "duration": 0.062737,
     "end_time": "2020-11-10T13:53:00.306303",
     "exception": false,
     "start_time": "2020-11-10T13:53:00.243566",
     "status": "completed"
    },
    "tags": []
   },
   "outputs": [],
   "source": [
    "Indiana_County = gov_county[gov_county['state'] == 'Indiana']\n",
    "Indiana_Flips = flips[flips['state']=='Indiana']"
   ]
  },
  {
   "cell_type": "code",
   "execution_count": 15,
   "metadata": {
    "execution": {
     "iopub.execute_input": "2020-11-10T13:53:00.422568Z",
     "iopub.status.busy": "2020-11-10T13:53:00.417617Z",
     "iopub.status.idle": "2020-11-10T13:53:00.427661Z",
     "shell.execute_reply": "2020-11-10T13:53:00.426858Z"
    },
    "id": "RbBnftJKIDU8",
    "outputId": "70e5d413-bfc7-4551-a685-8ffccc6fa6cc",
    "papermill": {
     "duration": 0.068763,
     "end_time": "2020-11-10T13:53:00.427811",
     "exception": false,
     "start_time": "2020-11-10T13:53:00.359048",
     "status": "completed"
    },
    "tags": []
   },
   "outputs": [
    {
     "name": "stdout",
     "output_type": "stream",
     "text": [
      "<class 'pandas.core.frame.DataFrame'>\n",
      "Int64Index: 92 entries, 694 to 785\n",
      "Data columns (total 3 columns):\n",
      " #   Column  Non-Null Count  Dtype \n",
      "---  ------  --------------  ----- \n",
      " 0   state   92 non-null     object\n",
      " 1   county  92 non-null     object\n",
      " 2   Flips   92 non-null     int64 \n",
      "dtypes: int64(1), object(2)\n",
      "memory usage: 2.9+ KB\n"
     ]
    }
   ],
   "source": [
    "Indiana_Flips.info()"
   ]
  },
  {
   "cell_type": "code",
   "execution_count": 16,
   "metadata": {
    "execution": {
     "iopub.execute_input": "2020-11-10T13:53:00.542636Z",
     "iopub.status.busy": "2020-11-10T13:53:00.542006Z",
     "iopub.status.idle": "2020-11-10T13:53:00.553014Z",
     "shell.execute_reply": "2020-11-10T13:53:00.553531Z"
    },
    "id": "DLEZnlI6kwoF",
    "outputId": "d85728e3-4de2-42c3-dc77-deb7413951e5",
    "papermill": {
     "duration": 0.073519,
     "end_time": "2020-11-10T13:53:00.553675",
     "exception": false,
     "start_time": "2020-11-10T13:53:00.480156",
     "status": "completed"
    },
    "tags": []
   },
   "outputs": [
    {
     "data": {
      "text/html": [
       "<div>\n",
       "<style scoped>\n",
       "    .dataframe tbody tr th:only-of-type {\n",
       "        vertical-align: middle;\n",
       "    }\n",
       "\n",
       "    .dataframe tbody tr th {\n",
       "        vertical-align: top;\n",
       "    }\n",
       "\n",
       "    .dataframe thead th {\n",
       "        text-align: right;\n",
       "    }\n",
       "</style>\n",
       "<table border=\"1\" class=\"dataframe\">\n",
       "  <thead>\n",
       "    <tr style=\"text-align: right;\">\n",
       "      <th></th>\n",
       "      <th>state_x</th>\n",
       "      <th>county</th>\n",
       "      <th>current_votes</th>\n",
       "      <th>total_votes</th>\n",
       "      <th>percent</th>\n",
       "      <th>Flips</th>\n",
       "    </tr>\n",
       "  </thead>\n",
       "  <tbody>\n",
       "    <tr>\n",
       "      <th>0</th>\n",
       "      <td>Indiana</td>\n",
       "      <td>Adams County</td>\n",
       "      <td>14153</td>\n",
       "      <td>14238</td>\n",
       "      <td>99</td>\n",
       "      <td>18001</td>\n",
       "    </tr>\n",
       "    <tr>\n",
       "      <th>1</th>\n",
       "      <td>Indiana</td>\n",
       "      <td>Allen County</td>\n",
       "      <td>140363</td>\n",
       "      <td>164793</td>\n",
       "      <td>85</td>\n",
       "      <td>18003</td>\n",
       "    </tr>\n",
       "  </tbody>\n",
       "</table>\n",
       "</div>"
      ],
      "text/plain": [
       "   state_x        county  current_votes  total_votes  percent  Flips\n",
       "0  Indiana  Adams County          14153        14238       99  18001\n",
       "1  Indiana  Allen County         140363       164793       85  18003"
      ]
     },
     "execution_count": 16,
     "metadata": {},
     "output_type": "execute_result"
    }
   ],
   "source": [
    "Indiana_County = Indiana_County.merge(Indiana_Flips, on='county', how='left')\n",
    "Indiana_County = Indiana_County.drop(['state_y'],axis=1)\n",
    "Indiana_County.head(2)"
   ]
  },
  {
   "cell_type": "code",
   "execution_count": 17,
   "metadata": {
    "execution": {
     "iopub.execute_input": "2020-11-10T13:53:00.668870Z",
     "iopub.status.busy": "2020-11-10T13:53:00.668156Z",
     "iopub.status.idle": "2020-11-10T13:53:02.796752Z",
     "shell.execute_reply": "2020-11-10T13:53:02.796114Z"
    },
    "id": "9MEewq-Wl-Wj",
    "outputId": "afd8856f-2d09-4aee-f08c-5dcf263d0887",
    "papermill": {
     "duration": 2.190369,
     "end_time": "2020-11-10T13:53:02.796868",
     "exception": false,
     "start_time": "2020-11-10T13:53:00.606499",
     "status": "completed"
    },
    "tags": []
   },
   "outputs": [
    {
     "data": {
      "text/html": [
       "<div>                            <div id=\"29b0c26f-cb80-4d37-9845-d755c106d4a3\" class=\"plotly-graph-div\" style=\"height:400px; width:750px;\"></div>            <script type=\"text/javascript\">                require([\"plotly\"], function(Plotly) {                    window.PLOTLYENV=window.PLOTLYENV || {};                                    if (document.getElementById(\"29b0c26f-cb80-4d37-9845-d755c106d4a3\")) {                    Plotly.newPlot(                        \"29b0c26f-cb80-4d37-9845-d755c106d4a3\",                        [{\"fill\": \"toself\", \"fillcolor\": \"rgb(68, 1, 84)\", \"hoverinfo\": \"none\", \"line\": {\"color\": \"rgb(255,255,255)\", \"width\": 0.5}, \"mode\": \"lines\", \"name\": \"< 3.12K\", \"type\": \"scatter\", \"x\": [-85.135832, -84.87805047759561, -84.830619, -84.8706197834529, -85.140312, -85.135832, null], \"y\": [38.929578, 39.0308192384939, 38.974897999999996, 38.9010084241634, 38.903194, 38.929578, null]}, {\"fill\": \"toself\", \"fillcolor\": \"rgb(59, 82, 139)\", \"hoverinfo\": \"none\", \"line\": {\"color\": \"rgb(255,255,255)\", \"width\": 0.5}, \"mode\": \"lines\", \"name\": \"3.12K - 132.12K\", \"type\": \"scatter\", \"x\": [-85.073861, -84.8029360779022, -84.80226501503509, -85.068479, -85.073861, null, -86.085601, -85.68451499999999, -85.68678299999999, -85.79983399999999, -85.79880399999999, -85.86049799999999, -86.079899, -86.085601, null, -87.526502, -87.5261290525058, -87.096819, -87.093676, -87.526502, null, -85.447014, -85.201146, -85.206831, -85.444323, -85.447014, null, -86.695821, -86.695804, -86.24236499999999, -86.239739, -86.695071, -86.695821, null, -86.381395, -86.085601, -86.080272, -86.370066, -86.381395, null, -86.77423, -86.742693, -86.74776399999999, -86.525143, -86.52516399999999, -86.373521, -86.375762, -86.694665, -86.695353, -86.771293, -86.77423, null, -86.581616, -86.581532, -86.169012, -86.165024, -86.374417, -86.373521, -86.52516399999999, -86.525143, -86.581616, null, -85.994633, -85.99331699999999, -85.884776, -85.793584, -85.49666599999999, -85.415821, -85.49886599999999, -85.607629, -85.653641, -85.744862, -85.7915759433308, -85.79682299999999, -85.76084399999999, -85.807704, -85.966882, -85.994633, null, -87.24069899999999, -87.238964, -87.200107, -87.199012, -87.01306199999999, -87.014533, -86.939981, -86.94247299999999, -87.053646, -87.05457799999999, -87.24069899999999, null, -86.69563699999999, -86.694665, -86.309249, -86.309325, -86.242992, -86.24236499999999, -86.695804, -86.69563699999999, null, -86.68142399999999, -86.30886799999999, -86.308674, -86.255045, -86.247158, -86.271534, -86.28972399999999, -86.253137, -86.280424, -86.30981899999999, -86.378151, -86.32839799999999, -86.405068, -86.4610338985719, -86.460425, -86.571685, -86.57013599999999, -86.67951099999999, -86.68142399999999, null, -87.279173, -87.238204, -87.239915, -87.144728, -87.120832, -86.904252, -86.94251299999999, -87.242097, -87.23889299999999, -87.279173, null, -85.132508, -85.065574, -84.81945096866738, -84.820157, -84.893873, -84.87805047759561, -85.09589799999999, -85.132508, null, -85.68716099999999, -85.68451499999999, -85.63063, -85.62932699999999, -85.297575, -85.29654, -85.56631999999999, -85.68678299999999, -85.68716099999999, null, -85.19408399999999, -84.804729, -84.8035816909474, -85.192094, -85.19408399999999, null, -85.578616, -85.219901, -85.21438599999999, -85.576197, -85.578616, null, -87.07323799999999, -87.072369, -86.94766299999999, -86.837462, -86.68235899999999, -86.678992, -86.792152, -86.79149699999999, -87.07314099999999, -87.07323799999999, null, -86.0625749882628, -85.6597500080009, -85.65350699999999, -86.05923, -86.0625749882628, null, -85.30158399999999, -85.183472, -85.18508899999999, -85.03457499999999, -85.036087, -85.29811, -85.30158399999999, null, -86.032947, -86.032817, -85.807704, -85.76084399999999, -85.89955038654419, -85.957576, -85.955224, -86.03255899999999, -86.032947, null, -87.440263, -87.4199, -87.24489799999999, -87.092148, -87.090008, -87.440263, null, -85.29811, -84.81535501751969, -84.81945096866738, -85.217883, -85.29654, -85.29811, null, -86.468509, -86.467046, -86.077551, -86.07593899999999, -86.01841399999999, -86.018664, -85.945561, -85.945402, -86.168459, -86.169012, -86.468509, null, -87.98772103693929, -87.960225, -87.936819, -87.908542, -87.870537, -87.85113, -87.822721, -87.744381942629, -87.66416199999999, -87.65584199999999, -87.599317, -87.582498, -87.54106399999999, -87.539946, -87.49525799999999, -87.462892, -87.462499, -87.407327, -87.407583, -87.31588599999999, -87.31703, -87.46674399999999, -87.46728399999999, -87.688374, -87.688208, -87.9836946651829, -87.98772103693929, null, -85.864791, -85.448825, -85.44433, -85.862296, -85.864791, null, -87.241063, -87.240737, -86.683002, -86.682853, -87.241027, -87.241063, null, -85.95401299999999, -85.937587, -85.862489, -85.57619199999999, -85.633228, -85.95172099999999, -85.95401299999999, null, -86.327677, -86.289721, -86.280424, -86.253137, -86.28972399999999, -86.271534, -86.247158, -86.255045, -86.032817, -86.03255899999999, -85.955224, -85.957576, -85.900604, -85.922395, -86.02950899999999, -86.048458, -86.095766, -86.178983, -86.266891, -86.271802, -86.327677, null, -86.695071, -86.32629299999999, -86.326341, -86.65665, -86.641745, -86.687406, -86.695071, null, -85.59688, -85.576197, -85.21438599999999, -85.22111799999999, -85.59688, null, -86.375501, -86.374417, -85.863641, -85.862117, -86.242812, -86.242992, -86.280755, -86.309249, -86.375762, -86.375501, null, -85.643841, -85.33564299999999, -85.334667, -85.638587, -85.643841, null, -86.318133, -85.86049799999999, -85.79880399999999, -85.80490499999999, -85.88140399999999, -85.909677, -86.09170499999999, -86.27528099999999, -86.280389, -86.31747399999999, -86.318133, null, -87.27650799999999, -87.275882, -87.13124499999999, -86.97701699999999, -86.93007899999999, -86.930759, -86.987438, -86.98643799999999, -87.09979299999999, -87.09839, -87.267298, -87.27650799999999, null, -85.219901, -85.201146, -84.80226501503509, -84.8039175091218, -85.218758, -85.219901, null, -85.684068, -85.61059499999999, -85.5382, -85.203166, -85.2015826164201, -85.267639, -85.416631, -85.45697799999999, -85.42829037139839, -85.56998, -85.570926, -85.68333799999999, -85.684068, null, -85.79983399999999, -85.56631999999999, -85.44005399999999, -85.444897, -85.5382, -85.537431, -85.57380599999999, -85.628855, -85.73319099999999, -85.795357, -85.79983399999999, null, -86.25150000000001, -86.24988499999999, -85.95208, -85.952005, -86.251684, -86.25150000000001, null, -87.75650473003589, -87.64835, -87.670071, -87.611104, -87.62012, -87.53123099999999, -87.497526, -87.544089, -87.09137, -87.122473, -87.144728, -87.2466, -87.238204, -87.279173, -87.23889299999999, -87.255884, -87.302302, -87.360233, -87.372548, -87.426006, -87.499009, -87.539946, -87.54106399999999, -87.585893, -87.599317, -87.65584199999999, -87.71552, -87.744381942629, -87.731974, -87.75650473003589, null, -86.077551, -86.054047, -86.05923, -85.65350699999999, -85.652715, -85.686574, -85.684181, -86.018664, -86.01841399999999, -86.07593899999999, -86.077551, null, -85.6597500080009, -85.19677373742039, -85.19408399999999, -85.654747, -85.6597500080009, null, -86.93272032594778, -86.824828, -86.524222859982, -86.526682, -86.487567, -86.486378, -86.500286, -86.52494, -86.524711, -86.64254199999999, -86.69998199999999, -86.783473, -86.93007899999999, -86.93272032594778, null, -86.683498, -86.682277, -86.280389, -86.27528099999999, -86.308701, -86.68310199999999, -86.683498, null, -85.86357799999999, -85.862296, -85.578589, -85.57619199999999, -85.862489, -85.86357799999999, null, -86.467108, -86.059451, -86.054047, -86.467046, -86.467108, null, -86.924212, -86.904252, -86.682853, -86.68235899999999, -86.837462, -86.88005299999999, -86.92002099999999, -86.924212, null, -86.169144, -86.168459, -85.94643599999999, -85.93952499999999, -85.864791, -85.863641, -86.165024, -86.169144, null, -86.68561, -86.381395, -86.370066, -86.318133, -86.31747399999999, -86.682277, -86.68561, null, -87.092563, -86.69563699999999, -86.695127, -87.09154199999999, -87.092563, null, -86.687561, -86.65140699999999, -86.65665, -86.24988499999999, -86.251684, -86.630844, -86.632206, -86.686875, -86.687561, null, -87.526719, -87.39365699999999, -87.275882, -87.267298, -87.5261290525058, -87.526719, null, -85.654747, -85.19408399999999, -85.192094, -85.53717999999999, -85.536288, -85.651928, -85.654747, null, -86.68310199999999, -86.308701, -86.30886799999999, -86.68142399999999, -86.68310199999999, null, -87.05483199999999, -87.053646, -86.94247299999999, -86.939981, -86.632206, -86.63081799999999, -86.68561, -86.683002, -87.05457799999999, -87.05483199999999, null, -87.433667, -87.091006, -87.09154199999999, -87.00947699999999, -87.01306199999999, -87.382418, -87.385538, -87.35386299999999, -87.433667, null, -86.81324, -86.772273, -86.76706999999999, -86.76861, -86.80715099999999, -86.792152, -86.57013599999999, -86.571685, -86.460425, -86.466217, -86.432789, -86.519404, -86.50662, -86.58858099999999, -86.609163, -86.65826799999999, -86.650087, -86.734718, -86.81324, null, -87.46291599999999, -87.462892, -87.426006, -87.301231, -87.20371, -87.151243, -87.100511, -87.072369, -87.073067, -87.298388, -87.316243, -87.407583, -87.407327, -87.46291599999999, null, -87.2226429797274, -86.93272032594778, -86.937691, -87.122124, -87.218862, -87.2226429797274, null, -88.09776, -88.01345099999999, -88.06889199999999, -88.012929, -88.00763099999999, -88.040432, -87.967226, -87.96046299999999, -88.01666499999999, -87.911428, -87.9836946651829, -87.688208, -87.7006847636268, -87.830578, -87.904789, -87.94102099999999, -87.904595, -87.95259, -88.09003899999999, -88.027127, -88.09776, null, -86.930925, -86.93016999999999, -86.467046, -86.468509, -86.930759, -86.930925, null, -87.014539, -87.00947699999999, -86.686843, -86.687406, -86.641745, -86.68571, -87.014539, null, -85.218758, -84.8039175091218, -84.8109329724325, -85.21349599999999, -85.218758, null, -85.44465799999999, -85.44005399999999, -85.217883, -85.0651, -85.135832, -85.444897, -85.44465799999999, null, -85.63349099999999, -85.30158399999999, -85.297575, -85.62932699999999, -85.63349099999999, null, -86.526006, -86.524222859982, -86.0625749882628, -86.059451, -86.467108, -86.46660299999999, -86.524711, -86.48646, -86.526006, null, -85.888334, -85.84722699999999, -85.794277, -85.710258, -85.68383899999999, -85.68333799999999, -85.570926, -85.56998, -85.793584, -85.821162, -85.885643, -85.888334, null, -85.95276, -85.95172099999999, -85.632505, -85.63063, -85.952005, -85.95276, null, -87.268445, -87.26795, -87.153598, -87.15312, -87.08842, -87.072332, -87.01745299999999, -87.01749, -86.79149699999999, -86.80715099999999, -86.76861, -86.772273, -86.800709, -86.91932899999999, -87.033444, -87.0999, -87.268445, null, -86.929782, -86.783473, -86.69998199999999, -86.64254199999999, -86.46660299999999, -86.467046, -86.93016999999999, -86.929782, null, -85.196637, -84.805883, -84.804729, -85.19408399999999, -85.196637, null, -87.658745, -87.577029, -87.571333, -87.603619131131, -87.24037899999999, -87.241067, -87.521084032768, -87.513346, -87.577415, -87.572588, -87.658745, null, -85.203589, -85.202849, -84.785234, -84.82995799999999, -84.814641, -84.990006, -85.172528, -85.2015826164201, -85.203589, null, -87.09535699999999, -86.695353, -86.69563699999999, -87.092563, -87.09535699999999, null, -86.242992, -86.242812, -85.862117, -85.861903, -86.24274299999999, -86.242992, null, -85.0361, -85.034408, -84.81412906532259, -84.81535501751969, -85.036087, -85.0361, null, -87.70046699999999, -87.688374, -87.46728399999999, -87.4511762695734, -87.511499, -87.601416, -87.628416, -87.588729, -87.635806, -87.675538, -87.665025, -87.70046699999999, null, -87.533227, -87.5314376605081, -87.406667, -87.440263, -87.35386299999999, -87.385538, -87.382418, -87.5321962235158, -87.533227, null, -87.6209, -87.531761, -87.5321962235158, -87.199012, -87.200107, -87.238964, -87.24037899999999, -87.603619131131, -87.6209, null, -85.94643599999999, -85.945561, -85.684181, -85.68319799999999, -85.643841, -85.638587, -85.93952499999999, -85.94643599999999, null, -87.53143478790179, -87.526510746795, -87.09277399999999, -87.092148, -87.24489799999999, -87.4199, -87.438774, -87.406667, -87.53143478790179, null, -87.47303199999999, -87.46674399999999, -87.31703, -87.316893, -87.073067, -87.07314099999999, -87.01749, -87.01745299999999, -87.072332, -87.08842, -87.15312, -87.153598, -87.26795, -87.2686936894134, -87.4511762695734, -87.47303199999999, null, -86.310058, -86.28281899999999, -86.184102, -85.900587, -85.885643, -85.848575, -85.847588, -85.884776, -85.99331699999999, -85.99462, -86.308674, -86.310058, null, -85.22111699999999, -85.201473, -84.8109329724325, -84.81412906532259, -85.18508899999999, -85.183472, -85.22111799999999, -85.22111699999999, null, -85.448825, -85.334667, -85.33603, -85.073861, -85.068479, -85.447014, -85.448825, null, -87.099645, -86.98643799999999, -86.987438, -86.581532, -86.581739, -86.752676, -86.771293, -87.09535699999999, -87.099645, null, -85.686574, -85.652715, -85.651928, -85.30778099999999, -85.30978999999999, -85.33855199999999, -85.33564299999999, -85.68319799999999, -85.686574, null], \"y\": [40.917823, 40.9225675776629, 40.57221195372949, 40.568239999999996, 40.917823, null, 39.344189, 39.350049, 39.130859, 39.128896999999995, 39.068536, 39.040921, 39.036017, 39.344189, null, 40.477157999999996, 40.7368850793018, 40.736489999999996, 40.475744999999996, 40.477157999999996, null, 40.566928999999995, 40.567242, 40.379182, 40.378746, 40.566928999999995, null, 40.039949, 40.178657, 40.180778, 39.926055, 39.92277, 40.039949, null, 39.339752, 39.344189, 39.05027, 39.048375, 39.339752, null, 40.664026, 40.678367, 40.737539999999996, 40.735445, 40.692419, 40.69246, 40.431850999999995, 40.432156, 40.561873999999996, 40.562082, 40.664026, null, 40.750386999999996, 40.910925, 40.909836, 40.562649, 40.561361, 40.69246, 40.692419, 40.735445, 40.750386999999996, null, 38.429686, 38.48854, 38.503468999999996, 38.604814, 38.606736, 38.563558, 38.468242, 38.439295, 38.327107999999996, 38.26717, 38.2885653758674, 38.333042999999996, 38.350218, 38.404443, 38.403455, 38.429686, null, 39.186217, 39.52062, 39.519858, 39.607137, 39.604787, 39.473572, 39.473344999999995, 39.342043, 39.342621, 39.168085999999995, 39.186217, null, 40.214366999999996, 40.432156, 40.431712, 40.388372, 40.373661, 40.180778, 40.178657, 40.214366999999996, null, 38.394767, 38.394069, 38.422875, 38.422685, 38.34946, 38.360692, 38.31652, 38.291900000000005, 38.284824, 38.180451, 38.185845, 38.132877, 38.105801, 38.1211744087398, 38.206824999999995, 38.207539, 38.266328, 38.263086, 38.394767, null, 38.693937999999996, 38.742675999999996, 38.819264, 38.839541, 38.898900000000005, 38.904204, 38.492593, 38.54493, 38.659639999999996, 38.693937999999996, null, 38.948055, 39.307232, 39.305153361544896, 39.10548, 39.062466, 39.0308192384939, 38.935604999999995, 38.948055, null, 39.189026, 39.350049, 39.350204999999995, 39.45275, 39.453275, 39.268291, 39.132760999999995, 39.130859, 39.189026, null, 41.526437, 41.5301345906643, 41.271273026028304, 41.264209, 41.526437, null, 40.379312, 40.379034, 40.076889, 40.077143, 40.379312, null, 38.422354, 38.514700000000005, 38.490452999999995, 38.526468, 38.526378, 38.248062, 38.2491, 38.20513, 38.203821, 38.422354, null, 41.7605284110677, 41.759100801830094, 41.436856, 41.435812, 41.7605284110677, null, 39.787579, 39.788396999999996, 39.715514999999996, 39.714763999999995, 39.526213, 39.525476, 39.787579, null, 38.385143, 38.417898, 38.404443, 38.350218, 38.1803432766511, 38.186071999999996, 38.260501, 38.33066, 38.385143, null, 39.960302999999996, 40.192257999999995, 40.309252, 40.366611999999996, 39.952995, 39.960302999999996, null, 39.525476, 39.521950045262, 39.305153361544896, 39.308474, 39.268291, 39.525476, null, 40.909889, 41.171442, 41.172868, 41.084877999999996, 41.086118, 41.041878, 41.042876, 40.999255999999995, 40.996097, 40.909836, 40.909889, null, 38.25691499761349, 38.237117999999995, 38.293014, 38.268581, 38.312219999999996, 38.27512, 38.346911999999996, 38.4144965422212, 38.430873999999996, 38.458051999999995, 38.450721, 38.499851, 38.492044, 38.518656, 38.495498, 38.533519, 38.465724, 38.436319999999995, 38.375501, 38.38023, 38.201753, 38.201285999999996, 38.165403, 38.168419, 38.201001, 38.230353370938204, 38.25691499761349, null, 40.651693, 40.653607, 40.37914, 40.378367, 40.651693, null, 39.100794, 39.171773, 39.165746, 38.904697, 38.907874, 39.100794, null, 39.869645999999996, 39.927136999999995, 39.943618, 39.945755999999996, 39.698462, 39.697136, 39.869645999999996, null, 38.182736, 38.202027, 38.284824, 38.291900000000005, 38.31652, 38.360692, 38.34946, 38.422685, 38.417898, 38.33066, 38.260501, 38.186071999999996, 38.185701, 38.028679, 37.99264, 37.959368999999995, 38.00893, 38.011308, 38.057125, 38.137874, 38.182736, null, 39.92277, 39.924029, 39.632177, 39.601395, 39.63004, 39.630437, 39.92277, null, 39.791900999999996, 40.077143, 40.076889, 39.788449, 39.791900999999996, null, 40.489007, 40.561361, 40.565525, 40.406889, 40.402913999999996, 40.373661, 40.373734, 40.431712, 40.431850999999995, 40.489007, null, 41.002305, 41.00525, 40.654413, 40.653129, 41.002305, null, 39.048809999999996, 39.040921, 39.068536, 38.77954, 38.725026, 38.757112, 38.783398999999996, 38.763795, 38.991028, 38.99087, 39.048809999999996, null, 40.965947, 41.218595, 41.286260999999996, 41.221548999999996, 41.236798, 40.912417999999995, 40.912177, 40.837921, 40.837607, 40.736540999999995, 40.736582, 40.965947, null, 40.379034, 40.567242, 40.57221195372949, 40.310093574693596, 40.306706, 40.379034, null, 38.823873, 38.824247, 38.912217, 38.913803, 38.6909118349635, 38.739899, 38.736272, 38.689135, 38.5863257242075, 38.606155, 38.678455, 38.736731, 38.823873, null, 39.128896999999995, 39.132760999999995, 39.195617, 38.912998, 38.912217, 38.88278, 38.882658, 38.817583, 38.831812, 38.807508, 39.128896999999995, null, 39.37122, 39.633645, 39.638345, 39.347373, 39.341671999999996, 39.37122, null, 38.461556154931, 38.506060999999995, 38.545237, 38.590181, 38.639489, 38.684036, 38.738532, 38.895092999999996, 38.901593999999996, 38.897676, 38.839541, 38.807701, 38.742675999999996, 38.693937999999996, 38.659639999999996, 38.526585, 38.510425999999995, 38.544128, 38.512156999999995, 38.540575, 38.495365, 38.518656, 38.492044, 38.497783999999996, 38.450721, 38.458051999999995, 38.417093, 38.4144965422212, 38.45078, 38.461556154931, null, 41.172868, 41.173147, 41.435812, 41.436856, 41.178489, 41.178376, 41.046715999999996, 41.041878, 41.086118, 41.084877999999996, 41.172868, null, 41.759100801830094, 41.7597353928585, 41.526437, 41.523347, 41.759100801830094, null, 41.7095240688235, 41.760239999999996, 41.7594561006795, 41.650439999999996, 41.649325, 41.595864, 41.52101, 41.519675, 41.432885999999996, 41.432638999999995, 41.402646999999995, 41.285464999999995, 41.236798, 41.7095240688235, null, 38.76211, 38.992404, 38.991028, 38.763795, 38.688100999999996, 38.686561, 38.76211, null, 40.132998, 40.378367, 40.379523999999996, 39.945755999999996, 39.943618, 40.132998, null, 41.476459, 41.479154, 41.173147, 41.171442, 41.476459, null, 38.530602, 38.904204, 38.904697, 38.526378, 38.526468, 38.494796, 38.497994999999996, 38.530602, null, 40.931329, 40.996097, 40.999195, 40.650991, 40.651693, 40.565525, 40.562649, 40.931329, null, 39.336043, 39.339752, 39.048375, 39.048809999999996, 38.99087, 38.992404, 39.336043, null, 40.214805999999996, 40.214366999999996, 39.864844999999995, 39.867264999999996, 40.214805999999996, null, 39.521902, 39.549991999999996, 39.601395, 39.633645, 39.341671999999996, 39.340755, 39.470214, 39.470690999999995, 39.521902, null, 41.159448, 41.16283, 41.218595, 40.736582, 40.7368850793018, 41.159448, null, 41.523347, 41.526437, 41.264209, 41.266157, 41.295241, 41.294776, 41.523347, null, 38.686561, 38.688100999999996, 38.394069, 38.394767, 38.686561, null, 39.269901, 39.342621, 39.342043, 39.473344999999995, 39.470214, 39.346948, 39.336043, 39.165746, 39.168085999999995, 39.269901, null, 39.935165, 39.953009, 39.867264999999996, 39.866704999999996, 39.604787, 39.607937, 39.833365, 39.862077, 39.935165, null, 37.998787, 37.998276, 38.029178, 38.102793999999996, 38.117839, 38.2491, 38.266328, 38.207539, 38.206824999999995, 38.106781, 38.067170999999995, 38.041241, 37.930718999999996, 37.921158999999996, 37.855408, 37.844144, 37.910616, 37.896587, 37.998787, null, 38.467518, 38.533519, 38.540575, 38.510262999999995, 38.55222, 38.515814, 38.534406, 38.514700000000005, 38.232596, 38.231671, 38.381482, 38.375501, 38.436319999999995, 38.467518, null, 41.6241704979427, 41.7095240688235, 41.230208999999995, 41.286364999999996, 41.242027, 41.6241704979427, null, 37.904026, 37.893951, 37.923120999999995, 37.966544, 38.029145, 38.048445, 38.067105, 38.099086, 38.100335, 38.16174, 38.230353370938204, 38.201001, 37.8973691919489, 37.876515999999995, 37.924892, 37.879168, 37.812526, 37.771741999999996, 37.816770999999996, 37.836521, 37.904026, null, 40.984583, 41.172318, 41.171442, 40.909889, 40.912417999999995, 40.984583, null, 39.488091, 39.866704999999996, 39.864841999999996, 39.630437, 39.63004, 39.470062999999996, 39.488091, null, 40.306706, 40.310093574693596, 40.005078914562695, 40.00438, 40.306706, null, 39.000659, 39.195617, 39.308474, 39.310069, 38.929578, 38.912998, 39.000659, null, 39.786176999999995, 39.787579, 39.453275, 39.45275, 39.786176999999995, null, 41.67245, 41.7594561006795, 41.7605284110677, 41.479154, 41.476459, 41.432967999999995, 41.432885999999996, 41.616395, 41.67245, null, 38.734443, 38.735298, 38.808268, 38.827515999999996, 38.815405999999996, 38.736731, 38.678455, 38.606155, 38.604814, 38.561417999999996, 38.575412, 38.734443, null, 39.41974, 39.697136, 39.698454999999996, 39.350204999999995, 39.347373, 39.41974, null, 37.879163999999996, 37.925171999999996, 38.019496, 38.054303, 38.049814, 38.11828, 38.118300999999995, 38.203579999999995, 38.20513, 38.117839, 38.102793999999996, 37.998276, 38.014854, 37.936664, 37.906593, 37.784639999999996, 37.879163999999996, null, 41.234397, 41.285464999999995, 41.402646999999995, 41.432638999999995, 41.432967999999995, 41.171442, 41.172318, 41.234397, null, 41.759735, 41.760216, 41.5301345906643, 41.526437, 41.759735, null, 39.135996999999996, 39.211123, 39.251380999999995, 39.259462122186896, 39.259063999999995, 38.901590999999996, 38.9023911305233, 38.956, 38.984854999999996, 39.057286, 39.135996999999996, null, 38.816917, 38.928523, 38.880438999999996, 38.830632, 38.784487999999996, 38.778383, 38.688082, 38.6909118349635, 38.816917, null, 40.562895, 40.561873999999996, 40.214366999999996, 40.214805999999996, 40.562895, null, 40.373661, 40.402913999999996, 40.406889, 40.218936, 40.215834, 40.373661, null, 39.569162, 39.729262999999996, 39.7266202480145, 39.521950045262, 39.526213, 39.569162, null, 37.89889, 38.168419, 38.165403, 37.9410807495909, 37.906425999999996, 37.972542, 37.92145, 37.860983999999995, 37.827014999999996, 37.831731999999995, 37.893513999999996, 37.89889, null, 39.883126999999995, 40.1481233164708, 40.127508, 39.960302999999996, 39.862077, 39.833365, 39.607937, 39.6073059903329, 39.883126999999995, null, 39.306021, 39.349976999999996, 39.6073059903329, 39.607137, 39.519858, 39.52062, 39.259063999999995, 39.259462122186896, 39.306021, null, 40.999195, 41.042876, 41.046715999999996, 41.001909, 41.002305, 40.653129, 40.650991, 40.999195, null, 40.14832987188559, 40.476879033070006, 40.475736999999995, 40.366611999999996, 40.309252, 40.192257999999995, 40.164457999999996, 40.127508, 40.14832987188559, null, 38.049423999999995, 38.201285999999996, 38.201753, 38.246077, 38.232596, 38.203821, 38.203579999999995, 38.118300999999995, 38.11828, 38.049814, 38.054303, 38.019496, 37.925171999999996, 37.878649438995495, 37.9410807495909, 38.049423999999995, null, 38.733131, 38.76631, 38.783588, 38.753814, 38.575412, 38.576266, 38.54714, 38.503468999999996, 38.48854, 38.418344999999995, 38.422875, 38.733131, null, 39.829751, 40.004521, 40.005078914562695, 39.7266202480145, 39.715514999999996, 39.788396999999996, 39.788449, 39.829751, null, 40.653607, 40.654413, 40.917082, 40.917823, 40.568239999999996, 40.566928999999995, 40.653607, null, 40.823035999999995, 40.837921, 40.912177, 40.910925, 40.735765, 40.733866, 40.562082, 40.562895, 40.823035999999995, null, 41.178376, 41.178489, 41.294776, 41.264157999999995, 41.179257, 41.17912, 41.00525, 41.001909, 41.178376, null]}, {\"fill\": \"toself\", \"fillcolor\": \"rgb(33, 145, 140)\", \"hoverinfo\": \"none\", \"line\": {\"color\": \"rgb(255,255,255)\", \"width\": 0.5}, \"mode\": \"lines\", \"name\": \"132.12K - 261.12K\", \"type\": \"scatter\", \"x\": [-85.33855199999999, -85.30978999999999, -85.30778099999999, -84.8035816909474, -84.8029360779022, -85.33603, -85.33855199999999, null, -86.24274299999999, -85.861903, -85.86239499999999, -86.239739, -86.24274299999999, null, -87.52676799999999, -87.52404399999999, -87.470742, -87.41581599999999, -87.420765, -87.2226429797274, -87.218862, -87.39365699999999, -87.5265703397201, -87.52676799999999, null], \"y\": [41.17912, 41.179257, 41.264157999999995, 41.271273026028304, 40.9225675776629, 40.917082, 41.17912, null, 40.215834, 40.218936, 39.928943, 39.926055, 40.215834, null, 41.298176999999995, 41.708335, 41.672835, 41.688182999999995, 41.641011, 41.6241704979427, 41.242027, 41.16283, 41.166096664112004, 41.298176999999995, null]}, {\"fill\": \"toself\", \"fillcolor\": \"rgb(94, 201, 98)\", \"hoverinfo\": \"none\", \"line\": {\"color\": \"rgb(255,255,255)\", \"width\": 0.5}, \"mode\": \"lines\", \"name\": \"261.12K - 390.12K\", \"type\": \"scatter\", \"x\": [-86.328121, -86.32629299999999, -85.937587, -85.95208, -86.326341, -86.328121, null], \"y\": [39.866125, 39.924029, 39.927136999999995, 39.638345, 39.632177, 39.866125, null]}, {\"fill\": \"toself\", \"fillcolor\": \"rgb(253, 231, 37)\", \"hoverinfo\": \"none\", \"line\": {\"color\": \"rgb(255,255,255)\", \"width\": 0.5}, \"mode\": \"lines\", \"name\": \"> 390.12K\", \"type\": \"scatter\", \"x\": [], \"y\": []}, {\"hoverinfo\": \"text\", \"legendgroup\": \"centroids\", \"marker\": {\"color\": \"white\", \"opacity\": 0}, \"mode\": \"markers\", \"name\": \"US Counties\", \"selected\": {\"marker\": {\"color\": \"white\", \"opacity\": 1, \"size\": 3}}, \"showlegend\": false, \"text\": [\"County: Adams<br>State: Indiana<br>FIPS: 18001<br>Value: 14153\", \"County: Allen<br>State: Indiana<br>FIPS: 18003<br>Value: 140363\", \"County: Bartholomew<br>State: Indiana<br>FIPS: 18005<br>Value: 36036\", \"County: Benton<br>State: Indiana<br>FIPS: 18007<br>Value: 4100\", \"County: Blackford<br>State: Indiana<br>FIPS: 18009<br>Value: 5279\", \"County: Boone<br>State: Indiana<br>FIPS: 18011<br>Value: 38492\", \"County: Brown<br>State: Indiana<br>FIPS: 18013<br>Value: 8863\", \"County: Carroll<br>State: Indiana<br>FIPS: 18015<br>Value: 9510\", \"County: Cass<br>State: Indiana<br>FIPS: 18017<br>Value: 15141\", \"County: Clark<br>State: Indiana<br>FIPS: 18019<br>Value: 57411\", \"County: Clay<br>State: Indiana<br>FIPS: 18021<br>Value: 12182\", \"County: Clinton<br>State: Indiana<br>FIPS: 18023<br>Value: 12891\", \"County: Crawford<br>State: Indiana<br>FIPS: 18025<br>Value: 4891\", \"County: Daviess<br>State: Indiana<br>FIPS: 18027<br>Value: 11860\", \"County: Dearborn<br>State: Indiana<br>FIPS: 18029<br>Value: 25193\", \"County: Decatur<br>State: Indiana<br>FIPS: 18031<br>Value: 12252\", \"County: DeKalb<br>State: Indiana<br>FIPS: 18033<br>Value: 19493\", \"County: Delaware<br>State: Indiana<br>FIPS: 18035<br>Value: 47698\", \"County: Dubois<br>State: Indiana<br>FIPS: 18037<br>Value: 21587\", \"County: Elkhart<br>State: Indiana<br>FIPS: 18039<br>Value: 73200\", \"County: Fayette<br>State: Indiana<br>FIPS: 18041<br>Value: 10054\", \"County: Floyd<br>State: Indiana<br>FIPS: 18043<br>Value: 41570\", \"County: Fountain<br>State: Indiana<br>FIPS: 18045<br>Value: 7947\", \"County: Franklin<br>State: Indiana<br>FIPS: 18047<br>Value: 11822\", \"County: Fulton<br>State: Indiana<br>FIPS: 18049<br>Value: 9089\", \"County: Gibson<br>State: Indiana<br>FIPS: 18051<br>Value: 16130\", \"County: Grant<br>State: Indiana<br>FIPS: 18053<br>Value: 27021\", \"County: Greene<br>State: Indiana<br>FIPS: 18055<br>Value: 14694\", \"County: Hamilton<br>State: Indiana<br>FIPS: 18057<br>Value: 193538\", \"County: Hancock<br>State: Indiana<br>FIPS: 18059<br>Value: 42547\", \"County: Harrison<br>State: Indiana<br>FIPS: 18061<br>Value: 20167\", \"County: Hendricks<br>State: Indiana<br>FIPS: 18063<br>Value: 87857\", \"County: Henry<br>State: Indiana<br>FIPS: 18065<br>Value: 21160\", \"County: Howard<br>State: Indiana<br>FIPS: 18067<br>Value: 40410\", \"County: Huntington<br>State: Indiana<br>FIPS: 18069<br>Value: 17730\", \"County: Jackson<br>State: Indiana<br>FIPS: 18071<br>Value: 19136\", \"County: Jasper<br>State: Indiana<br>FIPS: 18073<br>Value: 15371\", \"County: Jay<br>State: Indiana<br>FIPS: 18075<br>Value: 8405\", \"County: Jefferson<br>State: Indiana<br>FIPS: 18077<br>Value: 14532\", \"County: Jennings<br>State: Indiana<br>FIPS: 18079<br>Value: 12150\", \"County: Johnson<br>State: Indiana<br>FIPS: 18081<br>Value: 77256\", \"County: Knox<br>State: Indiana<br>FIPS: 18083<br>Value: 15839\", \"County: Kosciusko<br>State: Indiana<br>FIPS: 18085<br>Value: 35619\", \"County: LaGrange<br>State: Indiana<br>FIPS: 18087<br>Value: 10575\", \"County: Lake<br>State: Indiana<br>FIPS: 18089<br>Value: 217139\", \"County: LaPorte<br>State: Indiana<br>FIPS: 18091<br>Value: 48605\", \"County: Lawrence<br>State: Indiana<br>FIPS: 18093<br>Value: 20868\", \"County: Madison<br>State: Indiana<br>FIPS: 18095<br>Value: 51682\", \"County: Marion<br>State: Indiana<br>FIPS: 18097<br>Value: 390124\", \"County: Marshall<br>State: Indiana<br>FIPS: 18099<br>Value: 19801\", \"County: Martin<br>State: Indiana<br>FIPS: 18101<br>Value: 5118\", \"County: Miami<br>State: Indiana<br>FIPS: 18103<br>Value: 14361\", \"County: Monroe<br>State: Indiana<br>FIPS: 18105<br>Value: 62506\", \"County: Montgomery<br>State: Indiana<br>FIPS: 18107<br>Value: 17183\", \"County: Morgan<br>State: Indiana<br>FIPS: 18109<br>Value: 35942\", \"County: Newton<br>State: Indiana<br>FIPS: 18111<br>Value: 6556\", \"County: Noble<br>State: Indiana<br>FIPS: 18113<br>Value: 19088\", \"County: Ohio<br>State: Indiana<br>FIPS: 18115<br>Value: 3120\", \"County: Orange<br>State: Indiana<br>FIPS: 18117<br>Value: 8759\", \"County: Owen<br>State: Indiana<br>FIPS: 18119<br>Value: 9844\", \"County: Parke<br>State: Indiana<br>FIPS: 18121<br>Value: 6970\", \"County: Perry<br>State: Indiana<br>FIPS: 18123<br>Value: 8646\", \"County: Pike<br>State: Indiana<br>FIPS: 18125<br>Value: 6141\", \"County: Porter<br>State: Indiana<br>FIPS: 18127<br>Value: 86308\", \"County: Posey<br>State: Indiana<br>FIPS: 18129<br>Value: 13221\", \"County: Pulaski<br>State: Indiana<br>FIPS: 18131<br>Value: 5768\", \"County: Putnam<br>State: Indiana<br>FIPS: 18133<br>Value: 16520\", \"County: Randolph<br>State: Indiana<br>FIPS: 18135<br>Value: 10993\", \"County: Ripley<br>State: Indiana<br>FIPS: 18137<br>Value: 14207\", \"County: Rush<br>State: Indiana<br>FIPS: 18139<br>Value: 7880\", \"County: St. Joseph<br>State: Indiana<br>FIPS: 18141<br>Value: 114656\", \"County: Scott<br>State: Indiana<br>FIPS: 18143<br>Value: 9970\", \"County: Shelby<br>State: Indiana<br>FIPS: 18145<br>Value: 19867\", \"County: Spencer<br>State: Indiana<br>FIPS: 18147<br>Value: 10651\", \"County: Starke<br>State: Indiana<br>FIPS: 18149<br>Value: 10183\", \"County: Steuben<br>State: Indiana<br>FIPS: 18151<br>Value: 16076\", \"County: Sullivan<br>State: Indiana<br>FIPS: 18153<br>Value: 8912\", \"County: Switzerland<br>State: Indiana<br>FIPS: 18155<br>Value: 4080\", \"County: Tippecanoe<br>State: Indiana<br>FIPS: 18157<br>Value: 71180\", \"County: Tipton<br>State: Indiana<br>FIPS: 18159<br>Value: 8076\", \"County: Union<br>State: Indiana<br>FIPS: 18161<br>Value: 3458\", \"County: Vanderburgh<br>State: Indiana<br>FIPS: 18163<br>Value: 77372\", \"County: Vermillion<br>State: Indiana<br>FIPS: 18165<br>Value: 7386\", \"County: Vigo<br>State: Indiana<br>FIPS: 18167<br>Value: 43259\", \"County: Wabash<br>State: Indiana<br>FIPS: 18169<br>Value: 14511\", \"County: Warren<br>State: Indiana<br>FIPS: 18171<br>Value: 4458\", \"County: Warrick<br>State: Indiana<br>FIPS: 18173<br>Value: 33518\", \"County: Washington<br>State: Indiana<br>FIPS: 18175<br>Value: 12069\", \"County: Wayne<br>State: Indiana<br>FIPS: 18177<br>Value: 27619\", \"County: Wells<br>State: Indiana<br>FIPS: 18179<br>Value: 14050\", \"County: White<br>State: Indiana<br>FIPS: 18181<br>Value: 10353\", \"County: Whitley<br>State: Indiana<br>FIPS: 18183<br>Value: 17446\"], \"type\": \"scatter\", \"unselected\": {\"marker\": {\"opacity\": 0}}, \"x\": [-84.93661258689704, -85.06656535803705, -85.89759410880043, -87.31093761870721, -85.32482175935667, -86.46870611008832, -86.22737676893095, -86.56350014212417, -86.34598359185367, -85.7072977443679, -87.1157582047657, -86.47514550569281, -86.45171947873378, -87.07204044334352, -84.97332225666213, -85.50110907630223, -84.99906667802482, -85.39689960478887, -86.8798054857907, -85.85874778608294, -85.17876388409131, -85.90690795851012, -87.24197108216225, -85.06014321506426, -86.26353786331894, -87.58459182175227, -85.6547152482447, -86.96205202377435, -86.05202740393763, -85.77324512878198, -86.11147706130485, -86.50997024748594, -85.39641910002494, -86.1169593860795, -85.48813074500185, -86.03752851999425, -87.11612383002729, -85.00570498422263, -85.4385254523546, -85.62805184306187, -86.10160835025722, -87.41804891310808, -85.86072324091121, -85.42649136538262, -87.38208615726013, -86.73997334433405, -86.48345141047642, -85.71935930872587, -86.13847020550236, -86.26176640307644, -86.80306342018244, -86.04504067308183, -86.52313289383241, -86.89330921298041, -86.44622925301451, -87.39759166987544, -85.41750352943959, -84.96510224823444, -86.4950483164608, -86.83764878502913, -87.20638411339704, -86.6380295423269, -87.2321542222806, -87.06726395953476, -87.86839209768209, -86.69878741085134, -86.8449958986742, -85.01144273778672, -85.2623769022878, -85.46575251481501, -86.28987361553595, -85.74748516520062, -85.79167069442276, -87.00771102594024, -86.64764261226475, -85.00085890126095, -87.41479737144711, -85.03697688148057, -86.89405929127801, -86.05185146852709, -84.92513790104026, -87.58583574359245, -87.46397607568822, -87.38993071603439, -85.79399141420579, -87.35329537781654, -87.27209734508726, -86.10530274029983, -85.00983243848547, -85.22119400261002, -86.8654844372822, -85.50512032038068], \"y\": [40.74562742534462, 41.09087046948823, 39.20595691876169, 40.60625531685453, 40.473637704618206, 40.05079558465367, 39.19623155164186, 40.58284243417269, 40.76153588437454, 38.477311296137046, 39.39277661111556, 40.30169239351301, 38.29237119100631, 38.70243893026185, 39.145230262588356, 39.307001474391214, 41.397568494175715, 40.227546017435664, 38.364271035409146, 41.597387617866765, 39.64002907719432, 38.31903826703929, 40.120898390231886, 39.41486835734236, 41.04697781739442, 38.31188594588299, 40.51579979915063, 39.0363609245441, 40.07247958997317, 39.823556103377925, 38.19525910265289, 39.769519913190805, 39.931063980335786, 40.48360753227319, 40.8292194566336, 38.90641949767664, 41.022981967313285, 40.437957274883686, 38.785766374480694, 38.99691943045164, 39.48995695522139, 38.68903065069526, 41.244071683451565, 41.64262145134996, 41.417060652354394, 41.54598225098704, 38.841158539313355, 40.16161816894611, 39.78171127843707, 41.3248434965934, 38.70800869871118, 40.76945813498364, 39.16092090801307, 40.040387521700914, 39.4815689810793, 40.955842692351624, 41.39860403553759, 38.95004093731065, 38.54178320680499, 39.31282208706149, 39.77363277732545, 38.07964650973008, 38.39879276048043, 41.46054910334028, 38.0218410361168, 41.04185512519282, 39.666281229586126, 40.1575877420675, 39.10347440040938, 39.61996631403219, 41.61666052752475, 38.68507562445014, 39.52371752394631, 38.014186505922346, 41.280935136453245, 41.64389154152893, 39.088814915531074, 38.82618395564633, 40.38861979378914, 40.31134431513603, 39.62559477637996, 38.02525244774655, 39.85379926799608, 39.430658391209086, 40.84565305505859, 40.34693518847448, 38.09223902089479, 38.59998565984803, 39.864379561206846, 40.72918907332118, 40.74975960357019, 41.13938043632151]}, {\"hoverinfo\": \"text\", \"legendgroup\": \"States\", \"line\": {\"color\": \"rgb(240, 240, 240)\", \"width\": 1}, \"mode\": \"lines\", \"showlegend\": false, \"type\": \"scatter\", \"x\": [-88.09776, -88.01345099999999, -88.06889199999999, -88.012929, -88.00763099999999, -88.040432, -87.967226, -87.96046299999999, -88.01666499999999, -87.911428, -87.975819, -87.987618, -87.960225, -87.936819, -87.908542, -87.870537, -87.838979, -87.822721, -87.745254, -87.75246299999999, -87.64835, -87.670071, -87.611104, -87.62012, -87.53123099999999, -87.496494, -87.553394, -87.513346, -87.577415, -87.572588, -87.658745, -87.574558, -87.6209, -87.531204, -87.52404399999999, -87.470742, -87.41581599999999, -87.420765, -87.29902299999999, -87.09904999999999, -86.824828, -84.805883, -84.820157, -84.897364, -84.82985699999999, -84.877029, -84.785234, -84.82995799999999, -84.812877, -84.990006, -85.172528, -85.275454, -85.43406499999999, -85.45697799999999, -85.42307699999999, -85.49886599999999, -85.607629, -85.683561, -85.744862, -85.829364, -85.90876399999999, -85.925418, -86.02950899999999, -86.042354, -86.095766, -86.261273, -86.271802, -86.360377, -86.377434, -86.323453, -86.401653, -86.463248, -86.43009099999999, -86.52182499999999, -86.50662, -86.58858099999999, -86.598108, -86.63826499999999, -86.661637, -86.647081, -86.73146, -86.820071, -87.033444, -87.067836, -87.111133, -87.162319, -87.380247, -87.447786, -87.511499, -87.589816, -87.628286, -87.588426, -87.615399, -87.675538, -87.67573, -87.830578, -87.898062, -87.940839, -87.904595, -87.95259, -88.09003899999999, -88.027127, -88.09776, null], \"y\": [37.904026, 37.893951, 37.923120999999995, 37.966544, 38.029145, 38.048445, 38.067105, 38.099086, 38.100335, 38.16174, 38.197834, 38.257380999999995, 38.237117999999995, 38.293014, 38.268581, 38.312219999999996, 38.282326999999995, 38.346911999999996, 38.408995999999995, 38.4711, 38.506060999999995, 38.545237, 38.590181, 38.639489, 38.684036, 38.742728, 38.86241, 38.956, 38.984854999999996, 39.057286, 39.135996999999996, 39.218404, 39.306021, 39.355104, 41.708335, 41.672835, 41.688182999999995, 41.641011, 41.619093, 41.65177, 41.760239999999996, 41.760216, 39.10548, 39.057378, 38.969384999999996, 38.909016, 38.880438999999996, 38.830632, 38.786086999999995, 38.778383, 38.688082, 38.741172, 38.729455, 38.689135, 38.531580999999996, 38.468242, 38.439295, 38.295469, 38.26717, 38.276769, 38.161169, 38.023455999999996, 37.99264, 37.958017999999996, 38.00893, 38.052721, 38.137874, 38.198796, 38.171379, 38.139032, 38.105396, 38.119278, 38.078638, 38.038326999999995, 37.930718999999996, 37.921158999999996, 37.867382, 37.842718, 37.849714, 37.908621, 37.89434, 37.999392, 37.906593, 37.806065, 37.782512, 37.840159, 37.935596, 37.942426999999995, 37.906425999999996, 37.976042, 37.924617, 37.868791, 37.831973999999995, 37.831731999999995, 37.90193, 37.876515999999995, 37.927513999999995, 37.883337999999995, 37.812526, 37.771741999999996, 37.816770999999996, 37.836521, 37.904026, null]}],                        {\"annotations\": [{\"showarrow\": false, \"text\": \"<b>Total Votes by County</b>\", \"x\": 1, \"xanchor\": \"right\", \"xref\": \"paper\", \"y\": 1.05, \"yref\": \"paper\"}], \"dragmode\": \"select\", \"height\": 400, \"hovermode\": \"closest\", \"legend\": {\"traceorder\": \"reversed\", \"x\": 1, \"xanchor\": \"right\", \"y\": 1, \"yanchor\": \"top\"}, \"margin\": {\"b\": 0, \"l\": 0, \"r\": 0, \"t\": 0}, \"paper_bgcolor\": \"rgb(229,229,229)\", \"plot_bgcolor\": \"rgb(229,229,229)\", \"title\": {\"text\": \"Indiana\"}, \"width\": 750, \"xaxis\": {\"autorange\": false, \"fixedrange\": true, \"range\": [-91.42748001383464, -81.45551398616536], \"showgrid\": false, \"showticklabels\": false, \"zeroline\": false}, \"yaxis\": {\"autorange\": false, \"fixedrange\": true, \"range\": [37.771741999999996, 41.7605284110677], \"showgrid\": false, \"showticklabels\": false, \"zeroline\": false}},                        {\"responsive\": true}                    ).then(function(){\n",
       "                            \n",
       "var gd = document.getElementById('29b0c26f-cb80-4d37-9845-d755c106d4a3');\n",
       "var x = new MutationObserver(function (mutations, observer) {{\n",
       "        var display = window.getComputedStyle(gd).display;\n",
       "        if (!display || display === 'none') {{\n",
       "            console.log([gd, 'removed!']);\n",
       "            Plotly.purge(gd);\n",
       "            observer.disconnect();\n",
       "        }}\n",
       "}});\n",
       "\n",
       "// Listen for the removal of the full notebook cells\n",
       "var notebookContainer = gd.closest('#notebook-container');\n",
       "if (notebookContainer) {{\n",
       "    x.observe(notebookContainer, {childList: true});\n",
       "}}\n",
       "\n",
       "// Listen for the clearing of the current output cell\n",
       "var outputEl = gd.closest('.output');\n",
       "if (outputEl) {{\n",
       "    x.observe(outputEl, {childList: true});\n",
       "}}\n",
       "\n",
       "                        })                };                });            </script>        </div>"
      ]
     },
     "metadata": {},
     "output_type": "display_data"
    }
   ],
   "source": [
    "county = Indiana_County['county'].tolist()\n",
    "values = Indiana_County['current_votes'].tolist()\n",
    "fips = Indiana_County['Flips'].tolist()\n",
    "\n",
    "endpts = list(np.mgrid[min(values):max(values):4j])\n",
    "\n",
    "fig = ff.create_choropleth(\n",
    "    fips=fips, values=values, scope=['Indiana'], show_state_data=True,\n",
    "    binning_endpoints=endpts, round_legend_values=True,\n",
    "    plot_bgcolor='rgb(229,229,229)',\n",
    "    paper_bgcolor='rgb(229,229,229)',\n",
    "    legend_title='Total Votes by County',\n",
    "    show_hover=True,\n",
    "    county_outline={'color': 'rgb(255,255,255)', 'width': 0.5},\n",
    "    exponent_format=True,\n",
    "    title='Indiana'\n",
    ")\n",
    "fig.update_layout(height=400, width=750, margin={\"r\":0,\"t\":0,\"l\":0,\"b\":0})\n",
    "fig.layout.template = None\n",
    "fig.show()"
   ]
  },
  {
   "cell_type": "markdown",
   "metadata": {
    "id": "nwHz7y-7mfNM",
    "papermill": {
     "duration": 0.054342,
     "end_time": "2020-11-10T13:53:02.905880",
     "exception": false,
     "start_time": "2020-11-10T13:53:02.851538",
     "status": "completed"
    },
    "tags": []
   },
   "source": [
    "## Missouri"
   ]
  },
  {
   "cell_type": "code",
   "execution_count": 18,
   "metadata": {
    "execution": {
     "iopub.execute_input": "2020-11-10T13:53:03.022089Z",
     "iopub.status.busy": "2020-11-10T13:53:03.021361Z",
     "iopub.status.idle": "2020-11-10T13:53:03.024331Z",
     "shell.execute_reply": "2020-11-10T13:53:03.023714Z"
    },
    "id": "hXMftp9OmjCt",
    "papermill": {
     "duration": 0.064059,
     "end_time": "2020-11-10T13:53:03.024441",
     "exception": false,
     "start_time": "2020-11-10T13:53:02.960382",
     "status": "completed"
    },
    "tags": []
   },
   "outputs": [],
   "source": [
    "Missouri_County = gov_county[gov_county['state'] == 'Missouri']\n",
    "Missouri_Flips = flips[flips['state']=='Missouri']"
   ]
  },
  {
   "cell_type": "code",
   "execution_count": 19,
   "metadata": {
    "execution": {
     "iopub.execute_input": "2020-11-10T13:53:03.151538Z",
     "iopub.status.busy": "2020-11-10T13:53:03.141825Z",
     "iopub.status.idle": "2020-11-10T13:53:03.156019Z",
     "shell.execute_reply": "2020-11-10T13:53:03.155443Z"
    },
    "id": "jOPA3paKJu_N",
    "outputId": "7364a991-e7e1-4eb9-d73e-03d371060f04",
    "papermill": {
     "duration": 0.076036,
     "end_time": "2020-11-10T13:53:03.156153",
     "exception": false,
     "start_time": "2020-11-10T13:53:03.080117",
     "status": "completed"
    },
    "tags": []
   },
   "outputs": [
    {
     "data": {
      "text/html": [
       "<div>\n",
       "<style scoped>\n",
       "    .dataframe tbody tr th:only-of-type {\n",
       "        vertical-align: middle;\n",
       "    }\n",
       "\n",
       "    .dataframe tbody tr th {\n",
       "        vertical-align: top;\n",
       "    }\n",
       "\n",
       "    .dataframe thead th {\n",
       "        text-align: right;\n",
       "    }\n",
       "</style>\n",
       "<table border=\"1\" class=\"dataframe\">\n",
       "  <thead>\n",
       "    <tr style=\"text-align: right;\">\n",
       "      <th></th>\n",
       "      <th>state_x</th>\n",
       "      <th>county</th>\n",
       "      <th>current_votes</th>\n",
       "      <th>total_votes</th>\n",
       "      <th>percent</th>\n",
       "      <th>Flips</th>\n",
       "    </tr>\n",
       "  </thead>\n",
       "  <tbody>\n",
       "    <tr>\n",
       "      <th>0</th>\n",
       "      <td>Missouri</td>\n",
       "      <td>Adair County</td>\n",
       "      <td>10292</td>\n",
       "      <td>10337</td>\n",
       "      <td>99</td>\n",
       "      <td>29001</td>\n",
       "    </tr>\n",
       "    <tr>\n",
       "      <th>1</th>\n",
       "      <td>Missouri</td>\n",
       "      <td>Andrew County</td>\n",
       "      <td>9733</td>\n",
       "      <td>9774</td>\n",
       "      <td>99</td>\n",
       "      <td>29003</td>\n",
       "    </tr>\n",
       "  </tbody>\n",
       "</table>\n",
       "</div>"
      ],
      "text/plain": [
       "    state_x         county  current_votes  total_votes  percent  Flips\n",
       "0  Missouri   Adair County          10292        10337       99  29001\n",
       "1  Missouri  Andrew County           9733         9774       99  29003"
      ]
     },
     "execution_count": 19,
     "metadata": {},
     "output_type": "execute_result"
    }
   ],
   "source": [
    "Missouri_County = Missouri_County.merge(Missouri_Flips, on='county', how='left')\n",
    "Missouri_County = Missouri_County.drop(['state_y'],axis=1)\n",
    "Missouri_County.head(2)"
   ]
  },
  {
   "cell_type": "code",
   "execution_count": 20,
   "metadata": {
    "execution": {
     "iopub.execute_input": "2020-11-10T13:53:03.291503Z",
     "iopub.status.busy": "2020-11-10T13:53:03.285648Z",
     "iopub.status.idle": "2020-11-10T13:53:05.484099Z",
     "shell.execute_reply": "2020-11-10T13:53:05.483389Z"
    },
    "id": "anKgst7Km_7P",
    "outputId": "b89d33e7-c5e0-4157-921d-277821487b32",
    "papermill": {
     "duration": 2.272564,
     "end_time": "2020-11-10T13:53:05.484222",
     "exception": false,
     "start_time": "2020-11-10T13:53:03.211658",
     "status": "completed"
    },
    "tags": []
   },
   "outputs": [
    {
     "data": {
      "text/html": [
       "<div>                            <div id=\"5684ccd7-c25d-459e-9459-b1609c194cea\" class=\"plotly-graph-div\" style=\"height:400px; width:750px;\"></div>            <script type=\"text/javascript\">                require([\"plotly\"], function(Plotly) {                    window.PLOTLYENV=window.PLOTLYENV || {};                                    if (document.getElementById(\"5684ccd7-c25d-459e-9459-b1609c194cea\")) {                    Plotly.newPlot(                        \"5684ccd7-c25d-459e-9459-b1609c194cea\",                        [{\"fill\": \"toself\", \"fillcolor\": \"rgb(68, 1, 84)\", \"hoverinfo\": \"none\", \"line\": {\"color\": \"rgb(255,255,255)\", \"width\": 0.5}, \"mode\": \"lines\", \"name\": \"< 1.09K\", \"type\": \"scatter\", \"x\": [-94.632032, -94.23224004467359, -94.214278, -94.608415, -94.632032, null], \"y\": [40.571186, 40.5719073719895, 40.384254, 40.386686999999995, 40.571186, null]}, {\"fill\": \"toself\", \"fillcolor\": \"rgb(59, 82, 139)\", \"hoverinfo\": \"none\", \"line\": {\"color\": \"rgb(255,255,255)\", \"width\": 0.5}, \"mode\": \"lines\", \"name\": \"1.09K - 176.48K\", \"type\": \"scatter\", \"x\": [-92.856045, -92.855629, -92.349975, -92.345064, -92.856191, -92.856045, null, -95.06028099999999, -95.04307999999999, -94.605942, -94.602819, -94.916918, -94.93449299999999, -94.99341025106669, -95.010542, -95.06028099999999, null, -95.773549, -95.2022644684083, -95.18061399999999, -95.554817342733, -95.562157, -95.654294, -95.623728, -95.699969, -95.65341, -95.67871799999999, -95.708591, -95.75711, -95.773549, null, -92.313836, -92.310028, -91.43823499999999, -91.409033, -91.629598, -91.63399799999999, -92.110387, -92.10437399999999, -92.313836, null, -94.077146, -94.06273999999999, -93.611003, -93.612929, -93.5738, -93.5842819998356, -94.077146, null, -94.61762499999999, -94.6175754334997, -94.07352399999999, -94.082083, -94.61762499999999, null, -94.61406099999999, -94.6128650452802, -94.065713, -94.06133299999999, -94.131396, -94.236588, -94.24064299999999, -94.61406099999999, null, -93.523484, -93.512743, -93.067352, -93.06519899999999, -93.503946, -93.49727999999999, -93.523484, null, -90.222864, -90.217657, -90.145699, -90.14676299999999, -89.86112299999999, -89.866627, -89.95957399999999, -89.95919599999999, -89.99571999999999, -90.11124699999999, -90.110354, -90.222864, null, -92.56972499999999, -92.430229, -92.10437399999999, -92.110387, -92.131512, -92.168769, -92.135245, -92.22538399999999, -92.22066099999999, -92.36090999999999, -92.344093, -92.408636, -92.384391, -92.439906, -92.47610499999999, -92.56972499999999, null, -95.11307699999999, -95.05480399999999, -95.04951799999999, -94.971317, -94.96008599999999, -94.870143, -94.867143, -94.93578199999999, -94.876544, -94.602819, -94.60124599999999, -95.10140799999999, -95.11307699999999, null, -90.678562, -90.258563, -90.134457, -90.21769425663429, -90.57617955600901, -90.59216599999999, -90.62838699999999, -90.627517, -90.662617, -90.678562, null, -94.207691, -94.205844, -93.75899199999999, -93.759183, -94.207691, null, -92.22538399999999, -92.135245, -92.168769, -92.131512, -91.63399799999999, -91.647171, -91.854867, -91.943936, -92.06523299999999, -92.20053899999999, -92.22538399999999, null, -93.08216399999999, -93.06113599999999, -92.983395, -93.02, -93.0062, -92.956898, -92.93199299999999, -92.962994, -92.640085, -92.570281, -92.515979, -92.406275, -92.40923099999999, -92.54907399999999, -92.620181, -93.072447, -93.059073, -93.08216399999999, null, -89.8668, -89.86112299999999, -89.60645199999999, -89.59269599999999, -89.5217295671219, -89.42132, -89.432836, -89.511842, -89.489769, -89.620256, -89.758112, -89.866627, -89.8668, null, -93.759183, -93.75835699999999, -93.278098, -93.253605, -93.28585799999999, -93.275848, -93.246927, -93.224576, -93.22875499999999, -93.120646, -93.104485, -93.193101, -93.22166899999999, -93.336856, -93.329121, -93.382104, -93.473272, -93.500211, -93.650526, -93.75846299999999, -93.759183, null, -91.22446699999999, -91.21714999999999, -90.99989, -90.963562, -90.964466, -90.729722, -90.661231, -90.662617, -91.22446699999999, null, -94.612696, -94.60803299999999, -94.119096, -94.119664, -94.064317, -94.065713, -94.612696, null, -94.07352399999999, -94.065675, -93.80864799999999, -93.811692, -93.62840399999999, -93.616033, -94.075385, -94.07352399999999, null, -93.287446, -92.689331, -92.70736699999999, -92.790369, -92.84922399999999, -92.91166899999999, -92.958148, -93.061533, -93.117177, -93.219212, -93.228095, -93.246927, -93.275848, -93.28585799999999, -93.253605, -93.287446, null, -93.610177, -93.608899, -92.90292199999999, -92.909336, -93.342041, -93.337451, -93.610177, null, -91.95078, -91.94311318663401, -91.729115, -91.68870000000001, -91.620071, -91.57474599999999, -91.52508999999999, -91.52461199999999, -91.419422, -91.4972633213575, -91.95078, null, -94.60829, -94.600819, -94.21064199999999, -94.212515, -94.289873, -94.363556, -94.40722799999999, -94.402328, -94.46159, -94.506406, -94.60829, null, -94.602257, -94.205961, -94.21064199999999, -94.600819, -94.602257, null, -92.48789699999999, -92.394866, -92.344093, -92.357813, -92.215746, -92.16023299999999, -92.0035, -92.02655399999999, -92.167357, -92.116277, -92.247778, -92.408407, -92.40348399999999, -92.49518499999999, -92.48789699999999, null, -93.05954899999999, -93.048245, -92.934569, -92.852628, -92.562079, -92.49837699999999, -92.617147, -93.05954899999999, null, -91.535333, -91.095765, -91.100017, -91.14652099999999, -91.14697199999999, -91.310655, -91.30831099999999, -91.528797, -91.535333, null, -94.082083, -94.075385, -93.616033, -93.625844, -94.083833, -94.082083, null, -93.190691, -93.182648, -92.855384, -92.853481, -93.071584, -93.07338, -93.18248899999999, -93.190691, null, -94.218459, -94.216696, -93.764021, -93.75899199999999, -94.205844, -94.218459, null, -94.60537699999999, -94.203457, -94.205961, -94.602257, -94.60537699999999, null, -91.808371, -91.806219, -91.30831099999999, -91.310655, -91.153345, -91.155073, -91.31245799999999, -91.314236, -91.210984, -91.211863, -91.75504, -91.754795, -91.809105, -91.808371, null, -92.908987, -92.903273, -92.088708, -92.09598199999999, -92.908987, null, -90.37789, -90.31916799999999, -90.06398, -90.064514, -90.13851199999999, -90.152481, -90.21769425663429, -90.176262, -90.15437899999999, -89.95878599999999, -89.9593753420007, -90.37789, null, -91.369192, -91.313093, -91.224986, -91.055898, -90.926767, -90.732328, -90.78018499999999, -91.36762999999999, -91.369192, null, -91.644818, -91.640372, -91.552196, -91.487792, -91.369192, -91.367482, -91.535333, -91.534384, -91.644818, null, -94.605942, -94.59848699999999, -94.214278, -94.2188, -94.606596, -94.605942, null, -93.624415, -93.62115299999999, -93.07338, -93.065274, -93.608899, -93.624415, null, -93.764921, -93.763324, -93.36721399999999, -93.36195699999999, -93.761973, -93.764921, null, -94.23224004467359, -93.7743442708352, -93.764021, -94.216696, -94.23224004467359, null, -94.07372099999999, -94.064317, -93.51102999999999, -93.523484, -94.075214, -94.07372099999999, null, -93.573202, -93.568709, -93.512103, -93.503946, -93.06519899999999, -93.072447, -93.182648, -93.18791499999999, -93.573202, null, -95.554817342733, -95.071593, -95.06566199999999, -95.033587, -95.060797, -95.010542, -94.99341025106669, -95.037767, -95.128166, -95.315271, -95.40726, -95.395369, -95.479193, -95.47750099999999, -95.554817342733, null, -92.945317, -92.859083, -92.790369, -92.430229, -92.55808599999999, -92.852628, -92.91447699999999, -92.935096, -92.907438, -92.945317, null, -92.1204149758124, -92.088708, -91.65560699999999, -91.672343, -92.1204149758124, null, -91.15444, -91.14652099999999, -90.645135, -90.647874, -90.535006, -90.550603, -90.753627, -90.768695, -91.155073, -91.15444, null, -94.618505, -94.61753771716201, -94.082083, -94.083833, -94.052313, -94.05921099999999, -94.6178750047381, -94.618505, null, -90.773549, -90.73203, -90.678775, -90.654549, -90.61368499999999, -90.591123, -90.405262, -90.410463, -90.336135, -90.372519, -90.35955899999999, -90.24985799999999, -90.416022, -90.628084, -90.61291399999999, -90.684776, -90.78018499999999, -90.773549, null, -94.128304, -94.11417499999999, -93.497278, -93.51102999999999, -94.119664, -94.128304, null, -92.34926999999999, -92.34780099999999, -91.949747, -91.952726, -92.344708, -92.34926999999999, null, -92.85929399999999, -92.855384, -92.620181, -92.54907399999999, -92.40923099999999, -92.41366099999999, -92.248937, -92.25226099999999, -92.853481, -92.85929399999999, null, -94.11426999999999, -94.104823, -94.045566, -94.032046, -93.971971, -93.98889199999999, -93.96701399999999, -93.855434, -93.71121, -93.65377699999999, -93.505836, -93.477233, -93.497278, -94.11426999999999, null, -94.06272899999999, -94.052313, -93.60509499999999, -93.611003, -94.06272899999999, null, -91.95252699999999, -91.950812, -91.4972633213575, -91.494878, -91.43547750086269, -91.952726, -91.95252699999999, null, -91.26382, -91.260232, -91.18545999999999, -91.182942, -90.721835, -90.681086, -90.713629, -90.6655700805267, -90.70814899999999, -90.728841, -90.792678, -90.817827, -90.950643, -90.958536, -91.111251, -91.110187, -91.189348, -91.188396, -91.26382, null, -93.364665, -93.36195099999999, -92.847477, -92.85792, -93.364665, null, -93.761973, -93.361359, -93.364808, -93.26696799999999, -93.287446, -93.261803, -93.75835699999999, -93.761973, null, -94.618307, -94.067145, -94.077089, -94.617919, -94.618307, null, -92.857097, -92.847477, -92.34294, -92.344708, -92.287882, -92.29931599999999, -92.692149, -92.689331, -92.85792, -92.857097, null, -90.548632, -90.535016, -90.146778, -90.145699, -90.549729, -90.548632, null, -92.19735, -92.195675, -91.644729, -91.632431, -92.18536999999999, -92.19735, null, -91.846752, -91.840353, -91.43547750086269, -91.43605099999999, -91.367966, -91.370009, -91.3066819759012, -91.846752, null, -93.774671, -93.7743442708352, -93.3743860081406, -93.36721399999999, -93.763324, -93.774671, null, -92.693713, -92.68983399999999, -92.63375599999999, -92.63019, -92.40348399999999, -92.408407, -92.194476, -92.18536999999999, -92.515979, -92.596761, -92.60468399999999, -92.641314, -92.640085, -92.695886, -92.693713, null, -89.519932, -89.347107, -89.26624199999999, -89.307726, -89.25493, -89.185491, -89.099594, -89.13194399999999, -89.178888, -89.119198, -89.197808, -89.15908, -89.236542, -89.294637, -89.519932, null, -92.84195, -92.839792, -92.617147, -92.49837699999999, -92.439906, -92.381304, -92.49518499999999, -92.62518899999999, -92.84195, null, -92.31000999999999, -92.300871, -92.186691, -92.184986, -91.71524699999999, -91.717968, -92.31000999999999, null, -91.64642099999999, -91.629598, -91.260232, -91.264927, -91.415832, -91.41863699999999, -91.487792, -91.552196, -91.64642099999999, null, -93.077061, -93.059974, -92.839837, -92.841871, -92.62518899999999, -92.63375599999999, -92.68983399999999, -92.695886, -92.764539, -92.962994, -92.93199299999999, -92.956898, -93.0062, -93.02, -92.984895, -93.077061, null, -89.971289, -89.963284, -89.700952, -89.704833, -89.519809, -89.32747599999999, -89.375453, -89.460436, -89.494074, -89.47909299999999, -89.566817, -89.51950099999999, -89.545503, -89.509558, -89.53182199999999, -89.59230000000001, -89.725501, -89.75564899999999, -89.971289, null, -94.618658, -94.6178750047381, -94.05921099999999, -94.06889799999999, -94.618307, -94.618658, null, -95.2022644684083, -94.632035122503, -94.59848699999999, -94.605629, -95.05291899999999, -95.071593, -95.18061399999999, -95.2022644684083, null, -91.678333, -91.65811099999999, -91.22283, -91.224825, -91.115926, -91.12652899999999, -91.672343, -91.678333, null, -92.195222, -92.19317799999999, -92.114977, -92.167357, -92.02055399999999, -92.024875, -91.86057, -91.640372, -91.644729, -92.195222, null, -92.7723406785747, -92.76486899999999, -92.112346, -92.1204149758124, -92.7723406785747, null, -89.961697, -89.96131, -89.75564899999999, -89.725501, -89.59230000000001, -89.545006, -89.620255, -89.534745, -89.70351099999999, -89.591605, -89.678821, -89.706932, -89.9593753420007, -89.961697, null, -90.146778, -89.999923, -89.844786, -89.66964399999999, -89.66335199999999, -89.516685, -89.47603, -89.528082, -89.60645199999999, -90.14676299999999, -90.146778, null, -93.512441, -93.496377, -93.05045299999999, -93.067291, -93.512441, null, -92.02856, -92.021165, -91.89513199999999, -91.632431, -91.63055399999999, -91.525025, -91.528797, -91.806219, -91.809105, -92.029258, -92.02856, null, -91.460442, -91.178012, -91.03827, -90.793461, -90.721835, -91.182942, -91.18545999999999, -91.409033, -91.460442, null, -95.10140799999999, -94.601326, -94.601733, -94.74193799999999, -94.823791, -94.831471, -94.905329, -94.885026, -94.942039, -95.10140799999999, null, -93.63203299999999, -93.62840399999999, -93.18791499999999, -93.18248899999999, -93.62115299999999, -93.609489, -93.63203299999999, null, -92.412212, -92.406275, -92.021165, -92.029258, -92.24946299999999, -92.248937, -92.41366099999999, -92.412212, null, -93.37521699999999, -93.3743860081406, -92.7145977730885, -92.68982299999999, -92.717545, -92.683043, -92.707638, -92.670812, -92.710128, -92.666145, -92.680739, -92.724584, -92.855629, -92.855313, -93.366935, -93.37521699999999, null, -91.717968, -91.715497, -91.3066819759012, -91.178012, -91.460442, -91.43823499999999, -91.717968, null, -92.706318, -92.696592, -92.300871, -92.314471, -92.430229, -92.706318, null, -94.212188, -94.208423, -93.759183, -93.75846299999999, -93.855434, -93.96874799999999, -93.980088, -94.07860699999999, -94.18584, -94.169423, -94.212515, -94.212188, null, -91.313176, -91.31245799999999, -90.768695, -90.772949, -90.75012, -90.734438, -90.737146, -90.77902999999999, -90.77955299999999, -90.964466, -90.963562, -91.017766, -91.034346, -91.12602799999999, -91.12315199999999, -91.15932099999999, -91.210984, -91.314236, -91.313176, null, -91.1268, -91.115926, -90.627517, -90.62838699999999, -90.59216599999999, -90.57617955600901, -91.1268, null, -94.064723, -94.04989499999999, -93.49727999999999, -93.512103, -93.568709, -93.57230299999999, -93.811692, -93.80864799999999, -94.065675, -94.064723, null, -90.459133, -90.32287, -90.416022, -90.25266473951389, -90.00010999999999, -89.925085, -89.974918, -89.938617, -90.110537, -90.154187, -90.20020799999999, -90.459133, null, -90.647843, -90.63998, -90.612011, -90.628084, -90.41695299999999, -90.32287, -90.459133, -90.20020799999999, -90.154187, -90.110537, -90.146778, -90.647843, null, -93.495195, -93.477233, -93.404775, -93.411414, -93.36813599999999, -93.329121, -93.336856, -93.22522099999999, -93.17745099999999, -93.08775899999999, -93.052043, -92.959801, -92.91166899999999, -92.849809, -92.94385, -92.90736199999999, -93.048245, -93.05045299999999, -93.496377, -93.495195, null, -92.721158, -92.35080671229349, -92.349975, -92.684167, -92.664616, -92.709294, -92.670812, -92.721158, null, -92.351404, -92.35080671229349, -91.94311318663401, -91.949747, -92.349897, -92.351404, null, -89.786819, -89.649659, -89.470525, -89.456105, -89.37871, -89.38393699999999, -89.3126416196891, -89.46539299999999, -89.519809, -89.691603, -89.68661999999999, -89.786819, null, -91.657814, -91.646626, -91.175405, -91.15932099999999, -91.12315199999999, -91.12602799999999, -91.034346, -91.017766, -91.21714999999999, -91.22283, -91.657814, null, -92.29851599999999, -92.287882, -91.840353, -91.84674299999999, -92.184986, -92.186691, -92.29931599999999, -92.29851599999999, null, -90.259757, -90.149447, -90.14851999999999, -89.95919599999999, -89.95957399999999, -89.765211, -89.78587, -89.684754, -89.700952, -90.148398, -90.139804, -90.259757, null, -93.61286, -93.610126, -93.337451, -93.342041, -93.30435899999999, -93.31532440839989, -93.5842819998356, -93.5738, -93.61286, null, -93.367295, -93.366935, -92.855313, -92.856191, -93.366556, -93.367295, null, -93.314903, -93.30435899999999, -92.76486899999999, -92.7723406785747, -93.314903, null, -92.253209, -92.24946299999999, -91.754795, -91.75504, -91.646626, -91.65560699999999, -92.251359, -92.253209, null, -94.617808, -94.6140548972092, -94.058285, -94.07352399999999, -94.6175754334997, -94.617808, null, -91.418302, -91.415832, -91.264927, -91.264287, -91.188396, -91.189348, -91.110187, -91.111251, -90.958536, -90.964461, -91.055898, -91.224986, -91.313093, -91.418302, null, -91.097582, -91.095765, -90.78018499999999, -90.684776, -90.63998, -90.645135, -91.100017, -91.097582, null, -90.778938, -90.737146, -90.73545299999999, -90.550603, -90.549729, -90.217657, -90.22323, -90.110354, -90.11124699999999, -90.14851999999999, -90.149447, -90.24181, -90.696891, -90.729722, -90.77955299999999, -90.778938, null, -93.07677799999999, -93.071584, -92.68667099999999, -92.685867, -93.065274, -93.07677799999999, null, -92.691904, -92.68667099999999, -92.25226099999999, -92.251359, -92.685867, -92.691904, null, -90.320515, -90.251773, -90.16657184776219, -90.21190999999999, -90.17770999999999, -90.191811, -90.2577725855853, -90.320515, null], \"y\": [40.121128, 40.342735999999995, 40.346505, 40.037209999999995, 40.037253, 40.121128, null, 40.070975, 40.130095999999995, 40.126127, 39.819607999999995, 39.836138, 39.893366, 39.8977932373378, 40.046761, 40.070975, null, 40.578205, 40.578527764403404, 40.261706, 40.26445984121119, 40.297359, 40.307905999999996, 40.346567, 40.505275, 40.541892999999995, 40.56256, 40.521550999999995, 40.52599, 40.578205, null, 39.249986, 39.347795, 39.318715999999995, 39.142542, 39.147853, 39.059056999999996, 39.064204, 39.239809, 39.249986, null, 36.503777, 36.931775, 36.922830999999995, 36.820561999999995, 36.820032, 36.498896002062004, 36.503777, null, 37.367576, 37.6535765775648, 37.639722, 37.349291, 37.367576, null, 38.067343, 38.477602354122006, 38.447086999999996, 38.031551, 38.057995, 38.025952, 38.050821, 38.067343, null, 38.207215999999995, 38.512476, 38.530094, 38.062478999999996, 38.073122999999995, 38.199087, 38.207215999999995, null, 37.10058, 37.314966999999996, 37.312090999999995, 37.597434, 37.599286, 37.126227, 37.127251, 37.05438, 37.04011, 37.041205, 37.085871, 37.10058, null, 38.980311, 39.248795, 39.239809, 39.064204, 39.064484, 38.898252, 38.813894, 38.699469, 38.643167, 38.681847999999995, 38.715069, 38.758243, 38.815487999999995, 38.831345999999996, 38.904387, 38.980311, null, 39.559132999999996, 39.582488, 39.637876, 39.686409999999995, 39.743065, 39.734594, 39.771694, 39.778906, 39.820594, 39.819607999999995, 39.530372, 39.533255, 39.559132999999996, null, 36.92649, 36.922042999999995, 36.662529, 36.4978037021766, 36.4984463732781, 36.679368, 36.679544, 36.810953999999995, 36.811453, 36.92649, null, 39.541643, 39.788954, 39.784673999999995, 39.524558, 39.541643, null, 38.699469, 38.813894, 38.898252, 39.064484, 39.059056999999996, 38.703396, 38.670336, 38.597075, 38.557079, 38.601548, 38.699469, null, 38.186502999999995, 38.271616, 38.218227999999996, 38.204797, 38.186001999999995, 38.229507999999996, 38.216229, 38.197229, 38.213032, 38.066635, 38.022335999999996, 38.021179, 37.859179999999995, 37.800539, 37.892520999999995, 37.902626999999995, 38.185685, 38.186502999999995, null, 37.218975, 37.599286, 37.603463999999995, 37.57512, 37.5662095222196, 37.392077, 37.347055999999995, 37.310825, 37.248821, 37.233008, 37.126038, 37.126227, 37.218975, null, 39.524558, 39.611407, 39.615632, 39.54354, 39.537856999999995, 39.458301999999996, 39.442972, 39.472124, 39.436296999999996, 39.417922999999995, 39.383655999999995, 39.409278, 39.331326, 39.307032, 39.255081, 39.228829999999995, 39.293296, 39.218005, 39.248214, 39.207021, 39.524558, null, 36.840395, 37.086197, 37.100404, 37.097359999999995, 37.053584, 37.049534, 36.882779, 36.811453, 36.840395, null, 38.483154, 38.847207, 38.833166999999996, 38.568712, 38.56738, 38.447086999999996, 38.483154, null, 37.639722, 37.900987, 37.892775, 37.834786, 37.829435, 37.572689, 37.58157, 37.639722, null, 39.6833, 39.698094, 39.321614, 39.343585999999995, 39.226217999999996, 39.223946, 39.311142, 39.325565999999995, 39.415861, 39.430402, 39.473214999999996, 39.442972, 39.458301999999996, 39.537856999999995, 39.54354, 39.6833, null, 37.003099, 37.098152999999996, 37.085221, 36.809177999999996, 36.817301, 36.992494, 37.003099, null, 40.257585999999996, 40.60584170797, 40.61364, 40.55739, 40.540817, 40.465664, 40.457845, 40.410765, 40.378264, 40.248761318639396, 40.257585999999996, null, 39.117944, 39.456154999999995, 39.454682, 39.207086, 39.237107, 39.163655999999996, 39.195302999999996, 39.164766, 39.120371999999996, 39.150914, 39.117944, null, 39.747195, 39.745841, 39.454682, 39.456154999999995, 39.747195, null, 38.449853999999995, 38.739129999999996, 38.715069, 38.679517, 38.641284999999996, 38.577461, 38.56026, 38.472577, 38.469687, 38.398837, 38.322935, 38.341344, 38.425331, 38.427828999999996, 38.449853999999995, null, 38.700905, 38.972598, 39.064547, 38.982183, 38.972014, 38.922084, 38.680012999999995, 38.700905, null, 38.210936, 38.204083, 37.740012, 37.740811, 37.697198, 37.700047999999995, 37.787186, 37.788989, 38.210936, null, 37.349291, 37.58157, 37.572689, 37.282011, 37.290850999999996, 37.349291, null, 37.744521999999996, 37.904232, 37.895736, 37.48397, 37.487443999999996, 37.414989, 37.417204, 37.744521999999996, null, 40.049406, 40.136626, 40.132909, 39.784673999999995, 39.788954, 40.049406, null, 40.039217, 40.034538999999995, 39.745841, 39.747195, 40.039217, null, 37.678269, 37.791286, 37.787186, 37.700047999999995, 37.69734, 37.588091999999996, 37.592824, 37.505131999999996, 37.501911, 37.415276999999996, 37.42411, 37.598768, 37.598863, 37.678269, null, 36.819885, 37.070651, 37.056248, 36.794011, 36.819885, null, 35.995683, 36.089976, 36.303038, 36.382085, 36.413952, 36.497952, 36.4978037021766, 36.605173, 36.630413, 36.629331, 35.9990200098294, 35.995683, null, 38.699324, 38.706714999999996, 38.620782999999996, 38.608267, 38.53429, 38.639302, 38.204111999999995, 38.204012999999996, 38.699324, null, 38.155468, 38.703792, 38.676322, 38.713114, 38.699324, 38.209741, 38.210936, 38.152592999999996, 38.155468, null, 40.126127, 40.386714, 40.384254, 40.034884999999996, 40.039203, 40.126127, null, 37.324748, 37.427423, 37.414989, 37.088694, 37.098152999999996, 37.324748, null, 40.102019999999996, 40.263988, 40.266314, 39.967605999999996, 39.959551999999995, 40.102019999999996, null, 40.5719073719895, 40.5775843690663, 40.132909, 40.136626, 40.5719073719895, null, 38.258083, 38.56738, 38.55621, 38.207215999999995, 38.214501999999996, 38.258083, null, 37.828035, 37.914918, 37.913534999999996, 38.073122999999995, 38.062478999999996, 37.902626999999995, 37.904232, 37.802737, 37.828035, null, 40.26445984121119, 40.260855, 40.15097, 40.108717999999996, 40.070262, 40.046761, 39.8977932373378, 39.865542, 39.874165, 40.01207, 40.033111999999996, 40.122811, 40.185652, 40.24272, 40.26445984121119, null, 39.114685, 39.202974999999995, 39.343585999999995, 39.248795, 38.970692, 38.982183, 39.021187999999995, 39.06099, 39.092655, 39.114685, null, 36.498863012436004, 37.056248, 37.048925, 36.499463, 36.498863012436004, null, 37.617245, 37.740811, 37.734812999999995, 37.642809, 37.645019, 37.272608, 37.270112999999995, 37.603010999999995, 37.588091999999996, 37.617245, null, 37.181184, 37.3641671035633, 37.349291, 37.290850999999996, 37.290078, 37.048127, 37.0567971439288, 37.181184, null, 38.24068, 38.482153, 38.445876999999996, 38.487108, 38.471328, 38.501652, 38.501152999999995, 38.453469, 38.453491, 38.323353999999995, 38.224525, 38.11455, 38.042314999999995, 38.007743, 38.071631, 38.08627, 38.204111999999995, 38.24068, null, 38.677754, 38.917304, 38.92843, 38.55621, 38.568712, 38.677754, null, 40.239762999999996, 40.302755999999995, 40.300832, 39.949425999999995, 39.953297, 40.239762999999996, null, 37.745940999999995, 37.895736, 37.892520999999995, 37.800539, 37.859179999999995, 37.71416, 37.648471, 37.472944, 37.48397, 37.745940999999995, null, 38.928542, 39.143507, 39.14084, 39.189961, 39.202176, 39.152786, 39.142376, 39.212874, 39.206261999999995, 39.248011, 39.216712, 39.292795999999996, 38.92843, 38.928542, null, 36.936985, 37.290078, 37.281482, 36.922830999999995, 36.936985, null, 39.981170999999996, 40.25721, 40.248761318639396, 40.036453, 39.945277915357394, 39.949425999999995, 39.981170999999996, null, 39.007608, 39.139845, 39.13905, 39.227233, 39.224108, 39.10059, 39.053976999999996, 38.934198408333195, 38.902591, 38.931141, 38.917408, 38.875966, 38.894988, 38.870864999999995, 38.872709, 38.931900999999996, 38.932151, 38.991797999999996, 39.007608, null, 39.720763999999996, 40.033097999999995, 40.037301, 39.699985, 39.720763999999996, null, 39.959551999999995, 39.967628, 39.703803, 39.703562, 39.6833, 39.622719, 39.611407, 39.959551999999995, null, 36.76656, 36.74774, 36.49873, 36.499414, 36.76656, null, 39.729375999999995, 40.037301, 40.037163, 39.953297, 39.95249, 39.605343999999995, 39.610265, 39.698094, 39.699985, 39.729375999999995, null, 37.382321, 37.643640999999995, 37.641618, 37.312090999999995, 37.317594, 37.382321, null, 38.189318, 38.292237, 38.288509999999995, 38.050951, 38.015138, 38.189318, null, 39.664904, 39.948235, 39.945277915357394, 39.84551, 39.800402999999996, 39.732524, 39.6848809168884, 39.664904, null, 40.508764, 40.5775843690663, 40.5803343112705, 40.266314, 40.263988, 40.508764, null, 38.260812, 38.348472, 38.348082, 38.430958, 38.425331, 38.341344, 38.335536, 38.016338, 38.022335999999996, 38.110754, 38.170733, 38.171631, 38.213032, 38.222031, 38.260812, null, 36.876965, 37.009192999999996, 36.996302, 37.069654, 37.072013999999996, 36.973518, 36.964543, 36.857437, 36.831368, 36.759802, 36.739412, 36.666351999999996, 36.566824, 36.593728999999996, 36.876965, null, 38.60315, 38.684948, 38.680012999999995, 38.922084, 38.831345999999996, 38.808732, 38.427828999999996, 38.430778, 38.60315, null, 39.348769999999995, 39.605348, 39.604082, 39.662932, 39.657644, 39.339121999999996, 39.348769999999995, null, 38.716178, 39.147853, 39.139845, 38.843833, 38.8453, 38.709778, 38.713114, 38.676322, 38.716178, null, 38.273964, 38.693076999999995, 38.683974, 38.596792, 38.430778, 38.348082, 38.348472, 38.222031, 38.189619, 38.197229, 38.216229, 38.229507999999996, 38.186001999999995, 38.204797, 38.220228, 38.273964, null, 36.393135, 36.625471, 36.627452999999996, 36.859285, 36.869617, 36.644968999999996, 36.615719, 36.45814, 36.473225, 36.568205999999996, 36.564216, 36.475418999999995, 36.4307, 36.375065, 36.339245999999996, 36.403805, 36.427209999999995, 36.384803999999995, 36.393135, null, 36.880064, 37.0567971439288, 37.048127, 36.747817999999995, 36.76656, 36.880064, null, 40.578527764403404, 40.571186037110195, 40.386714, 40.126335999999995, 40.132784, 40.260855, 40.261706, 40.578527764403404, null, 36.62506, 36.888723999999996, 36.883857, 36.825679, 36.823671999999995, 36.497712, 36.499463, 36.62506, null, 38.308918999999996, 38.370835, 38.401937, 38.469687, 38.47629, 38.553627, 38.668174, 38.703792, 38.288509999999995, 38.308918999999996, null, 36.497772035561795, 36.806097, 36.794230999999996, 36.498863012436004, 36.497772035561795, null, 36.293971, 36.388802999999996, 36.384803999999995, 36.427209999999995, 36.403805, 36.336808999999995, 36.323006, 36.252576, 36.243412, 36.144096, 36.084635999999996, 36.000980999999996, 35.9990200098294, 36.293971, null, 37.641618, 37.821523, 37.905572, 37.799921999999995, 37.750052, 37.692761999999995, 37.590226, 37.563964999999996, 37.603463999999995, 37.597434, 37.641618, null, 38.519808, 38.942837, 38.928244, 38.529995, 38.519808, null, 37.706841, 38.010639, 38.051199, 38.050951, 38.153518999999996, 38.152432999999995, 37.788989, 37.791286, 37.598863, 37.602542, 37.706841, null, 39.450722, 39.598196, 39.448436, 39.309498, 39.224108, 39.227233, 39.13905, 39.142542, 39.450722, null, 39.533255, 39.532137999999996, 39.159603, 39.170203, 39.209874, 39.256273, 39.311952, 39.389801, 39.389499, 39.533255, null, 37.749584, 37.829435, 37.802737, 37.417204, 37.427423, 37.741755, 37.749584, null, 37.757084, 38.021179, 38.010639, 37.602542, 37.604543, 37.648471, 37.71416, 37.757084, null, 40.552654, 40.5803343112705, 40.5895641799538, 40.570389, 40.558347999999995, 40.560252, 40.534987, 40.519543999999996, 40.443988999999995, 40.396512, 40.346374, 40.342666, 40.342735999999995, 40.385894, 40.382999, 40.552654, null, 39.339121999999996, 39.686492, 39.6848809168884, 39.598196, 39.450722, 39.318715999999995, 39.339121999999996, null, 39.341679, 39.610371, 39.605348, 39.246454, 39.248795, 39.341679, null, 39.234333, 39.5272, 39.524558, 39.207021, 39.212874, 39.142292999999995, 39.205874, 39.134246999999995, 39.18103, 39.210614, 39.207086, 39.234333, null, 37.555046, 37.592824, 37.603010999999995, 37.373658999999996, 37.372878, 37.227146, 37.166413, 37.137631999999996, 37.050323999999996, 37.053584, 37.097359999999995, 37.095676999999995, 37.169343, 37.19948, 37.254504, 37.255038, 37.501911, 37.505131999999996, 37.555046, null, 36.500064, 36.823671999999995, 36.810953999999995, 36.679544, 36.679368, 36.4984463732781, 36.500064, null, 37.921084, 38.213985, 38.199087, 37.913534999999996, 37.914918, 37.827935, 37.834786, 37.892775, 37.900987, 37.921084, null, 37.878924, 37.981730999999996, 38.042314999999995, 38.1278129416306, 37.964563, 37.960021, 37.926719, 37.874289, 37.67134, 37.699766, 37.669627999999996, 37.878924, null, 37.644602, 38.076547999999995, 38.069585, 38.007743, 38.042701, 37.981730999999996, 37.878924, 37.669627999999996, 37.699766, 37.67134, 37.641618, 37.644602, null, 38.964653999999996, 39.292795999999996, 39.263273999999996, 39.231058, 39.233309999999996, 39.255081, 39.307032, 39.328863, 39.411713999999996, 39.378912, 39.320724999999996, 39.312526, 39.223946, 39.231839, 39.121738, 39.084206, 38.972598, 38.928244, 38.942837, 38.964653999999996, null, 40.584019999999995, 40.597273187449304, 40.346505, 40.343466, 40.409400999999995, 40.459989, 40.519543999999996, 40.584019999999995, null, 40.491572999999995, 40.597273187449304, 40.60584170797, 40.300832, 40.302732999999996, 40.491572999999995, null, 37.087824, 37.218267999999995, 37.253357, 37.18812, 37.094586, 37.046441, 37.0090469003899, 36.935728999999995, 36.869617, 36.859517, 36.928293, 37.087824, null, 36.889648, 37.422731, 37.414805, 37.255038, 37.254504, 37.19948, 37.169343, 37.095676999999995, 37.086197, 36.883857, 36.889648, null, 39.641844, 39.95249, 39.948235, 39.658513, 39.662932, 39.604082, 39.605343999999995, 39.641844, null, 36.907633, 37.007444, 37.04144, 37.05438, 37.127251, 37.126066, 37.083424, 36.922720999999996, 36.627452999999996, 36.630656, 36.696072, 36.907633, null, 36.825866, 36.99581, 36.992494, 36.817301, 36.816866, 36.4984079629635, 36.498896002062004, 36.820032, 36.825866, null, 40.324664999999996, 40.382999, 40.385894, 40.037253, 40.033099, 40.324664999999996, null, 36.51426, 36.816866, 36.806097, 36.497772035561795, 36.51426, null, 37.386537, 37.604543, 37.598768, 37.42411, 37.422731, 37.048925, 37.059653, 37.386537, null, 37.729707, 38.0600558584152, 38.036626999999996, 37.639722, 37.6535765775648, 37.729707, null, 38.720749999999995, 38.8453, 38.843833, 38.992762, 38.991797999999996, 38.932151, 38.931900999999996, 38.872709, 38.870864999999995, 38.547545, 38.608267, 38.620782999999996, 38.706714999999996, 38.720749999999995, null, 37.840299, 38.204083, 38.204111999999995, 38.08627, 38.076547999999995, 37.734812999999995, 37.740012, 37.840299, null, 37.107794999999996, 37.166413, 37.27104, 37.272608, 37.317594, 37.314966999999996, 37.086518999999996, 37.085871, 37.041205, 37.04144, 37.007444, 36.921807, 36.927186, 37.049534, 37.050323999999996, 37.107794999999996, null, 37.270412, 37.487443999999996, 37.481545, 37.067051, 37.088694, 37.270412, null, 37.281743, 37.481545, 37.472944, 37.059653, 37.067051, 37.281743, null, 38.594152, 38.718849999999996, 38.77244627115319, 38.717949999999995, 38.64275, 38.598951, 38.53200774918, 38.594152, null]}, {\"fill\": \"toself\", \"fillcolor\": \"rgb(33, 145, 140)\", \"hoverinfo\": \"none\", \"line\": {\"color\": \"rgb(255,255,255)\", \"width\": 0.5}, \"mode\": \"lines\", \"name\": \"176.48K - 351.86K\", \"type\": \"scatter\", \"x\": [-94.608334, -94.607354, -94.506406, -94.46159, -94.402328, -94.40722799999999, -94.363556, -94.29510499999999, -94.173519, -94.18584, -94.104823, -94.118786, -94.60803299999999, -94.608334, null, -90.963771, -90.95644999999999, -90.817827, -90.792678, -90.728841, -90.73561099999999, -90.70814899999999, -90.6655700805267, -90.56655699999999, -90.440078, -90.250248, -90.10940699999999, -90.117707, -90.18892699999999, -90.3245, -90.364601, -90.448117, -90.541612, -90.66050899999999, -90.77362199999999, -90.91088599999999, -90.964461, -90.963771, null], \"y\": [38.981806, 39.113444, 39.150914, 39.120371999999996, 39.164766, 39.195302999999996, 39.163655999999996, 39.235523, 39.213829, 39.18103, 39.143507, 38.833208, 38.847207, 38.981806, null, 38.578145, 38.894163999999996, 38.875966, 38.917408, 38.931141, 38.915832, 38.902591, 38.934198408333195, 38.868846999999995, 38.967363999999996, 38.919343999999995, 38.843548, 38.805748, 38.818509999999996, 38.890260999999995, 38.826439, 38.82205, 38.685266999999996, 38.688551, 38.594617, 38.535924, 38.547545, 38.578145, null]}, {\"fill\": \"toself\", \"fillcolor\": \"rgb(94, 201, 98)\", \"hoverinfo\": \"none\", \"line\": {\"color\": \"rgb(255,255,255)\", \"width\": 0.5}, \"mode\": \"lines\", \"name\": \"351.86K - 527.24K\", \"type\": \"scatter\", \"x\": [-90.73643, -90.732328, -90.66050899999999, -90.541612, -90.44061699999999, -90.364601, -90.31423, -90.18892699999999, -90.123064, -90.301828, -90.320515, -90.2577725855853, -90.285215, -90.3407573658894, -90.336135, -90.410463, -90.405262, -90.591123, -90.61368499999999, -90.654549, -90.678775, -90.73643, null], \"y\": [38.469853, 38.639302, 38.688551, 38.685266999999996, 38.82765, 38.826439, 38.891146, 38.818509999999996, 38.816035, 38.655642, 38.594152, 38.53200774918, 38.443453, 38.387506287665495, 38.453491, 38.453469, 38.501152999999995, 38.501652, 38.471328, 38.487108, 38.445876999999996, 38.469853, null]}, {\"fill\": \"toself\", \"fillcolor\": \"rgb(253, 231, 37)\", \"hoverinfo\": \"none\", \"line\": {\"color\": \"rgb(255,255,255)\", \"width\": 0.5}, \"mode\": \"lines\", \"name\": \"> 527.24K\", \"type\": \"scatter\", \"x\": [], \"y\": []}, {\"hoverinfo\": \"text\", \"legendgroup\": \"centroids\", \"marker\": {\"color\": \"white\", \"opacity\": 0}, \"mode\": \"markers\", \"name\": \"US Counties\", \"selected\": {\"marker\": {\"color\": \"white\", \"opacity\": 1, \"size\": 3}}, \"showlegend\": false, \"text\": [\"County: Adair<br>State: Missouri<br>FIPS: 29001<br>Value: 10292\", \"County: Andrew<br>State: Missouri<br>FIPS: 29003<br>Value: 9733\", \"County: Atchison<br>State: Missouri<br>FIPS: 29005<br>Value: 2770\", \"County: Audrain<br>State: Missouri<br>FIPS: 29007<br>Value: 10603\", \"County: Barry<br>State: Missouri<br>FIPS: 29009<br>Value: 15527\", \"County: Barton<br>State: Missouri<br>FIPS: 29011<br>Value: 6032\", \"County: Bates<br>State: Missouri<br>FIPS: 29013<br>Value: 8356\", \"County: Benton<br>State: Missouri<br>FIPS: 29015<br>Value: 10427\", \"County: Bollinger<br>State: Missouri<br>FIPS: 29017<br>Value: 5943\", \"County: Boone<br>State: Missouri<br>FIPS: 29019<br>Value: 90592\", \"County: Buchanan<br>State: Missouri<br>FIPS: 29021<br>Value: 36394\", \"County: Butler<br>State: Missouri<br>FIPS: 29023<br>Value: 18000\", \"County: Caldwell<br>State: Missouri<br>FIPS: 29025<br>Value: 4695\", \"County: Callaway<br>State: Missouri<br>FIPS: 29027<br>Value: 21096\", \"County: Camden<br>State: Missouri<br>FIPS: 29029<br>Value: 24692\", \"County: Cape Girardeau<br>State: Missouri<br>FIPS: 29031<br>Value: 40106\", \"County: Carroll<br>State: Missouri<br>FIPS: 29033<br>Value: 4498\", \"County: Carter<br>State: Missouri<br>FIPS: 29035<br>Value: 2861\", \"County: Cass<br>State: Missouri<br>FIPS: 29037<br>Value: 57102\", \"County: Cedar<br>State: Missouri<br>FIPS: 29039<br>Value: 7025\", \"County: Chariton<br>State: Missouri<br>FIPS: 29041<br>Value: 4071\", \"County: Christian<br>State: Missouri<br>FIPS: 29043<br>Value: 46642\", \"County: Clark<br>State: Missouri<br>FIPS: 29045<br>Value: 3372\", \"County: Clay<br>State: Missouri<br>FIPS: 29047<br>Value: 125978\", \"County: Clinton<br>State: Missouri<br>FIPS: 29049<br>Value: 10812\", \"County: Cole<br>State: Missouri<br>FIPS: 29051<br>Value: 39546\", \"County: Cooper<br>State: Missouri<br>FIPS: 29053<br>Value: 8666\", \"County: Crawford<br>State: Missouri<br>FIPS: 29055<br>Value: 10932\", \"County: Dade<br>State: Missouri<br>FIPS: 29057<br>Value: 4105\", \"County: Dallas<br>State: Missouri<br>FIPS: 29059<br>Value: 8094\", \"County: Daviess<br>State: Missouri<br>FIPS: 29061<br>Value: 3850\", \"County: DeKalb<br>State: Missouri<br>FIPS: 29063<br>Value: 4815\", \"County: Dent<br>State: Missouri<br>FIPS: 29065<br>Value: 7113\", \"County: Douglas<br>State: Missouri<br>FIPS: 29067<br>Value: 6965\", \"County: Dunklin<br>State: Missouri<br>FIPS: 29069<br>Value: 10309\", \"County: Franklin<br>State: Missouri<br>FIPS: 29071<br>Value: 53339\", \"County: Gasconade<br>State: Missouri<br>FIPS: 29073<br>Value: 7870\", \"County: Gentry<br>State: Missouri<br>FIPS: 29075<br>Value: 3219\", \"County: Greene<br>State: Missouri<br>FIPS: 29077<br>Value: 137470\", \"County: Grundy<br>State: Missouri<br>FIPS: 29079<br>Value: 4426\", \"County: Harrison<br>State: Missouri<br>FIPS: 29081<br>Value: 3800\", \"County: Henry<br>State: Missouri<br>FIPS: 29083<br>Value: 10703\", \"County: Hickory<br>State: Missouri<br>FIPS: 29085<br>Value: 5061\", \"County: Holt<br>State: Missouri<br>FIPS: 29087<br>Value: 2333\", \"County: Howard<br>State: Missouri<br>FIPS: 29089<br>Value: 5064\", \"County: Howell<br>State: Missouri<br>FIPS: 29091<br>Value: 18522\", \"County: Iron<br>State: Missouri<br>FIPS: 29093<br>Value: 4531\", \"County: Jackson<br>State: Missouri<br>FIPS: 29095<br>Value: 328951\", \"County: Jasper<br>State: Missouri<br>FIPS: 29097<br>Value: 52137\", \"County: Jefferson<br>State: Missouri<br>FIPS: 29099<br>Value: 115661\", \"County: Johnson<br>State: Missouri<br>FIPS: 29101<br>Value: 22997\", \"County: Knox<br>State: Missouri<br>FIPS: 29103<br>Value: 1836\", \"County: Laclede<br>State: Missouri<br>FIPS: 29105<br>Value: 16763\", \"County: Lafayette<br>State: Missouri<br>FIPS: 29107<br>Value: 17024\", \"County: Lawrence<br>State: Missouri<br>FIPS: 29109<br>Value: 17807\", \"County: Lewis<br>State: Missouri<br>FIPS: 29111<br>Value: 4556\", \"County: Lincoln<br>State: Missouri<br>FIPS: 29113<br>Value: 28704\", \"County: Linn<br>State: Missouri<br>FIPS: 29115<br>Value: 5670\", \"County: Livingston<br>State: Missouri<br>FIPS: 29117<br>Value: 6707\", \"County: McDonald<br>State: Missouri<br>FIPS: 29119<br>Value: 8966\", \"County: Macon<br>State: Missouri<br>FIPS: 29121<br>Value: 7796\", \"County: Madison<br>State: Missouri<br>FIPS: 29123<br>Value: 5653\", \"County: Maries<br>State: Missouri<br>FIPS: 29125<br>Value: 4770\", \"County: Marion<br>State: Missouri<br>FIPS: 29127<br>Value: 13276\", \"County: Mercer<br>State: Missouri<br>FIPS: 29129<br>Value: 1765\", \"County: Miller<br>State: Missouri<br>FIPS: 29131<br>Value: 12325\", \"County: Mississippi<br>State: Missouri<br>FIPS: 29133<br>Value: 4695\", \"County: Moniteau<br>State: Missouri<br>FIPS: 29135<br>Value: 7144\", \"County: Monroe<br>State: Missouri<br>FIPS: 29137<br>Value: 4422\", \"County: Montgomery<br>State: Missouri<br>FIPS: 29139<br>Value: 5739\", \"County: Morgan<br>State: Missouri<br>FIPS: 29141<br>Value: 9453\", \"County: New Madrid<br>State: Missouri<br>FIPS: 29143<br>Value: 7176\", \"County: Newton<br>State: Missouri<br>FIPS: 29145<br>Value: 28228\", \"County: Nodaway<br>State: Missouri<br>FIPS: 29147<br>Value: 9832\", \"County: Oregon<br>State: Missouri<br>FIPS: 29149<br>Value: 4688\", \"County: Osage<br>State: Missouri<br>FIPS: 29151<br>Value: 7447\", \"County: Ozark<br>State: Missouri<br>FIPS: 29153<br>Value: 4818\", \"County: Pemiscot<br>State: Missouri<br>FIPS: 29155<br>Value: 5592\", \"County: Perry<br>State: Missouri<br>FIPS: 29157<br>Value: 9335\", \"County: Pettis<br>State: Missouri<br>FIPS: 29159<br>Value: 18964\", \"County: Phelps<br>State: Missouri<br>FIPS: 29161<br>Value: 19451\", \"County: Pike<br>State: Missouri<br>FIPS: 29163<br>Value: 7655\", \"County: Platte<br>State: Missouri<br>FIPS: 29165<br>Value: 58404\", \"County: Polk<br>State: Missouri<br>FIPS: 29167<br>Value: 15070\", \"County: Pulaski<br>State: Missouri<br>FIPS: 29169<br>Value: 14258\", \"County: Putnam<br>State: Missouri<br>FIPS: 29171<br>Value: 2330\", \"County: Ralls<br>State: Missouri<br>FIPS: 29173<br>Value: 5633\", \"County: Randolph<br>State: Missouri<br>FIPS: 29175<br>Value: 10702\", \"County: Ray<br>State: Missouri<br>FIPS: 29177<br>Value: 11533\", \"County: Reynolds<br>State: Missouri<br>FIPS: 29179<br>Value: 3218\", \"County: Ripley<br>State: Missouri<br>FIPS: 29181<br>Value: 5641\", \"County: St. Charles<br>State: Missouri<br>FIPS: 29183<br>Value: 220238\", \"County: St. Clair<br>State: Missouri<br>FIPS: 29185<br>Value: 5172\", \"County: Ste. Genevieve<br>State: Missouri<br>FIPS: 29186<br>Value: 9370\", \"County: St. Francois<br>State: Missouri<br>FIPS: 29187<br>Value: 27758\", \"County: St. Louis<br>State: Missouri<br>FIPS: 29189<br>Value: 527244\", \"County: Saline<br>State: Missouri<br>FIPS: 29195<br>Value: 9489\", \"County: Schuyler<br>State: Missouri<br>FIPS: 29197<br>Value: 1976\", \"County: Scotland<br>State: Missouri<br>FIPS: 29199<br>Value: 1958\", \"County: Scott<br>State: Missouri<br>FIPS: 29201<br>Value: 17623\", \"County: Shannon<br>State: Missouri<br>FIPS: 29203<br>Value: 3875\", \"County: Shelby<br>State: Missouri<br>FIPS: 29205<br>Value: 3329\", \"County: Stoddard<br>State: Missouri<br>FIPS: 29207<br>Value: 13305\", \"County: Stone<br>State: Missouri<br>FIPS: 29209<br>Value: 18310\", \"County: Sullivan<br>State: Missouri<br>FIPS: 29211<br>Value: 2450\", \"County: Taney<br>State: Missouri<br>FIPS: 29213<br>Value: 26062\", \"County: Texas<br>State: Missouri<br>FIPS: 29215<br>Value: 11276\", \"County: Vernon<br>State: Missouri<br>FIPS: 29217<br>Value: 9096\", \"County: Warren<br>State: Missouri<br>FIPS: 29219<br>Value: 18281\", \"County: Washington<br>State: Missouri<br>FIPS: 29221<br>Value: 9877\", \"County: Wayne<br>State: Missouri<br>FIPS: 29223<br>Value: 5809\", \"County: Webster<br>State: Missouri<br>FIPS: 29225<br>Value: 18689\", \"County: Worth<br>State: Missouri<br>FIPS: 29227<br>Value: 1095\", \"County: Wright<br>State: Missouri<br>FIPS: 29229<br>Value: 8675\", \"County: St. Louis<br>State: Missouri<br>FIPS: 29510<br>Value: 131408\"], \"type\": \"scatter\", \"unselected\": {\"marker\": {\"opacity\": 0}}, \"x\": [-92.60070838571288, -94.80207124978301, -95.42808898266885, -91.8415842321469, -93.82905788408756, -94.34712465797504, -94.34002547512192, -93.28792355087427, -90.02592435038608, -92.30967563911895, -94.80611937645318, -90.40657877121956, -93.98270005485418, -91.92602100160256, -92.76604799198518, -89.68446554402558, -93.50517861044072, -90.96234493304878, -94.35488969661986, -93.85661449830002, -92.96264483643519, -93.18885961003937, -91.73835829690162, -94.42088591050936, -94.40458563537597, -92.28163009030905, -92.8101064866902, -91.30394491765644, -93.85025595375699, -93.02366278708614, -93.985493627751, -94.40472352679204, -91.50791413106421, -92.49879576605568, -90.09091218015942, -91.07502681518606, -91.50792467587156, -94.40987116243392, -93.341992677162, -93.5653473063977, -93.9920363361101, -93.79274526237506, -93.3207422906791, -95.21555826887021, -92.69627275915398, -91.88651870222174, -90.77343645277122, -94.3461342367217, -94.34061135434766, -90.5377332778865, -93.80641474089823, -92.14806378663678, -92.5903383711317, -93.78550282020588, -93.83295946285745, -91.72210769632964, -90.96006663803276, -93.10719838099891, -93.54825368964867, -94.34833867890943, -92.56461432881024, -90.3450150124722, -91.92485463827448, -91.62243122579473, -93.56854525646396, -92.42838372187711, -89.29114653690294, -92.58309196829777, -92.00072935900711, -91.47023070236057, -92.88598941322078, -89.65174553028767, -94.33925608112278, -94.88343388327851, -91.40337425000695, -91.86183552253485, -92.44468245692734, -89.78539819456505, -89.82441976570739, -93.28509755474913, -91.79233714515854, -91.17137211137457, -94.77365308696653, -93.40053271297398, -92.20763840580707, -93.01616700350523, -91.52202997513879, -92.49708237787797, -93.98991437848501, -90.96909921486244, -90.8638655808061, -90.67487068800833, -93.77598158889614, -90.19452582121909, -90.47228355267578, -90.44337213378267, -93.20184487193426, -92.52098168410988, -92.14707278013547, -89.56852207790783, -91.40046341148022, -92.07659830342354, -89.94430327650953, -93.45599202219739, -93.11149289857647, -93.04113496036805, -91.9650498340403, -94.34244135609502, -91.16067058642258, -90.87741804464896, -90.46140508913847, -92.87587525715364, -94.4220935894213, -92.4687135234319, -90.24511419760037], \"y\": [40.190587541360834, 39.98350601266345, 40.430819151771345, 39.21574099248976, 36.70986340969855, 37.50232192421676, 38.25725903666411, 38.29485045911546, 37.32218379698652, 38.99061635527145, 39.65990533030152, 36.716420080529815, 39.65574611310038, 38.83551800858418, 38.02703276318502, 37.384029342291406, 39.42698181578326, 36.941236174098925, 38.64698528372375, 37.72384925604781, 39.51509563900586, 36.96956845743163, 40.41034403736345, 39.310506403499986, 39.60177221438847, 38.505410575362085, 38.84354765301385, 37.97635686195244, 37.432057360679, 37.68043637177984, 39.960764790619926, 39.893154634332234, 37.60663065225175, 36.9325974384114, 36.27210769722398, 38.41111653284048, 38.440880252185316, 40.21204979804036, 37.2580560005369, 40.113937009679276, 40.354668593104705, 38.38516988564549, 37.94080743954784, 40.09441905685222, 39.14250041520455, 36.77403388199136, 37.555146776779, 39.00847294743205, 37.20355774897412, 38.26106418762738, 38.74405968986328, 40.12823838625164, 37.65832647609656, 39.06555482675081, 37.10638091938467, 40.09688074620433, 39.05803366369022, 39.870204321858864, 39.78211840472801, 36.628687985515896, 39.830783290156326, 37.478082536227454, 38.16162984524388, 39.805942338520886, 40.42233654608464, 38.21450534405265, 36.828088680995776, 38.63275722736804, 39.49545482917907, 38.94147106823148, 38.42372096292502, 36.594587032574324, 36.905505738464676, 40.36075290555801, 36.686665479010294, 38.46035867967353, 36.649315704253944, 36.211379273924905, 37.707168235554235, 38.72829184996164, 37.877166731402376, 39.34383003910033, 39.38046443083117, 37.616499614531136, 37.82458078384015, 40.47891307730032, 39.527676813902936, 39.440133117276076, 39.35239185374327, 37.362344316366276, 36.6527899488677, 38.78193279706554, 38.037184657209274, 37.89441219065088, 37.81029224878417, 38.64053718022244, 39.136847165205964, 40.47026844519711, 40.45258978004928, 37.0530421299106, 37.157360875668346, 39.797765111911986, 36.85559475851395, 36.746923606909014, 40.21059955542947, 36.65476028907521, 37.31731398779072, 37.850578476405644, 38.76460566036097, 37.961684989363846, 37.11265240055947, 37.28089767389598, 40.47909085150845, 37.27016245561158, 38.63582859233907]}, {\"hoverinfo\": \"text\", \"legendgroup\": \"States\", \"line\": {\"color\": \"rgb(240, 240, 240)\", \"width\": 1}, \"mode\": \"lines\", \"showlegend\": false, \"type\": \"scatter\", \"x\": [-95.773549, -94.08919399999999, -91.729115, -91.68870000000001, -91.620071, -91.57474599999999, -91.52508999999999, -91.52461199999999, -91.419422, -91.492727, -91.510322, -91.494878, -91.41936, -91.43605099999999, -91.361571, -91.370009, -91.181936, -91.153628, -91.100307, -91.03827, -90.72995999999999, -90.681086, -90.713629, -90.657254, -90.55569299999999, -90.440078, -90.250248, -90.10940699999999, -90.20991, -90.18450999999999, -90.368219, -90.35955899999999, -90.11052, -89.997103, -89.925085, -89.974918, -89.950594, -89.901832, -89.842649, -89.66964399999999, -89.66335199999999, -89.51425499999999, -89.517718, -89.475932, -89.519808, -89.517051, -89.421054, -89.51834, -89.458827, -89.456105, -89.37871, -89.38393699999999, -89.278628, -89.260003, -89.30829, -89.25493, -89.185491, -89.099594, -89.13194399999999, -89.178888, -89.119198, -89.199798, -89.15908, -89.236542, -89.326731, -89.36554799999999, -89.464153, -89.494074, -89.47909299999999, -89.56318499999999, -89.51950099999999, -89.545255, -89.509722, -89.53182199999999, -89.620255, -89.534745, -89.70351099999999, -89.591605, -89.678821, -89.706932, -90.37789, -90.31916799999999, -90.06398, -90.064514, -90.13851199999999, -90.152481, -94.617919, -94.588413, -94.823791, -94.831471, -94.905329, -94.885026, -94.942039, -95.109304, -95.103228, -95.04927699999999, -95.027644, -94.971317, -94.965318, -94.862943, -94.869644, -94.935302, -94.87594399999999, -94.93976699999999, -94.929574, -95.128166, -95.315271, -95.40726, -95.39334699999999, -95.479193, -95.47750099999999, -95.55247299999999, -95.562157, -95.65732799999999, -95.623728, -95.699969, -95.65584799999999, -95.67871799999999, -95.708591, -95.75711, -95.773549, null], \"y\": [40.578205, 40.572806, 40.61364, 40.55739, 40.540817, 40.465664, 40.457845, 40.410765, 40.378264, 40.278217, 40.127994, 40.036453, 39.927717, 39.84551, 39.787548, 39.732524, 39.602677, 39.548248, 39.538695, 39.448436, 39.255894, 39.10059, 39.053976999999996, 38.920269999999995, 38.870785, 38.967363999999996, 38.919343999999995, 38.843548, 38.72605, 38.611551, 38.340254, 38.224525, 38.026547, 37.963225, 37.960021, 37.926719, 37.881526, 37.869822, 37.905196, 37.799921999999995, 37.750052, 37.689923, 37.641217, 37.592998, 37.582747999999995, 37.537278, 37.387668, 37.285497, 37.248661, 37.18812, 37.094586, 37.046441, 36.98867, 37.023288, 37.068371, 37.072013999999996, 36.973518, 36.964543, 36.857437, 36.831368, 36.759802, 36.734217, 36.666351999999996, 36.566824, 36.632186, 36.625059, 36.457189, 36.473225, 36.568205999999996, 36.568749, 36.475418999999995, 36.427079, 36.373626, 36.339245999999996, 36.323006, 36.252576, 36.243412, 36.144096, 36.084635999999996, 36.000980999999996, 35.995683, 36.089976, 36.303038, 36.382085, 36.413952, 36.497952, 36.499414, 39.149868999999995, 39.209874, 39.256273, 39.311952, 39.389801, 39.389499, 39.542285, 39.577783, 39.589583, 39.665454, 39.686409999999995, 39.739065, 39.742993999999996, 39.772894, 39.77561, 39.813294, 39.851929999999996, 39.888754, 39.874165, 40.01207, 40.033111999999996, 40.119212, 40.185652, 40.24272, 40.261904, 40.297359, 40.310856, 40.346567, 40.505275, 40.546609, 40.56256, 40.521550999999995, 40.52599, 40.578205, null]}],                        {\"annotations\": [{\"showarrow\": false, \"text\": \"<b>Total Votes by County</b>\", \"x\": 1, \"xanchor\": \"right\", \"xref\": \"paper\", \"y\": 1.05, \"yref\": \"paper\"}], \"dragmode\": \"select\", \"height\": 400, \"hovermode\": \"closest\", \"legend\": {\"traceorder\": \"reversed\", \"x\": 1, \"xanchor\": \"right\", \"y\": 1, \"yanchor\": \"top\"}, \"margin\": {\"b\": 0, \"l\": 0, \"r\": 0, \"t\": 0}, \"paper_bgcolor\": \"rgb(229,229,229)\", \"plot_bgcolor\": \"rgb(229,229,229)\", \"title\": {\"text\": \"Missouri\"}, \"width\": 750, \"xaxis\": {\"autorange\": false, \"fixedrange\": true, \"range\": [-98.20901775, -86.66412525], \"showgrid\": false, \"showticklabels\": false, \"zeroline\": false}, \"yaxis\": {\"autorange\": false, \"fixedrange\": true, \"range\": [35.995683, 40.61364], \"showgrid\": false, \"showticklabels\": false, \"zeroline\": false}},                        {\"responsive\": true}                    ).then(function(){\n",
       "                            \n",
       "var gd = document.getElementById('5684ccd7-c25d-459e-9459-b1609c194cea');\n",
       "var x = new MutationObserver(function (mutations, observer) {{\n",
       "        var display = window.getComputedStyle(gd).display;\n",
       "        if (!display || display === 'none') {{\n",
       "            console.log([gd, 'removed!']);\n",
       "            Plotly.purge(gd);\n",
       "            observer.disconnect();\n",
       "        }}\n",
       "}});\n",
       "\n",
       "// Listen for the removal of the full notebook cells\n",
       "var notebookContainer = gd.closest('#notebook-container');\n",
       "if (notebookContainer) {{\n",
       "    x.observe(notebookContainer, {childList: true});\n",
       "}}\n",
       "\n",
       "// Listen for the clearing of the current output cell\n",
       "var outputEl = gd.closest('.output');\n",
       "if (outputEl) {{\n",
       "    x.observe(outputEl, {childList: true});\n",
       "}}\n",
       "\n",
       "                        })                };                });            </script>        </div>"
      ]
     },
     "metadata": {},
     "output_type": "display_data"
    }
   ],
   "source": [
    "county = Missouri_County['county'].tolist()\n",
    "values = Missouri_County['current_votes'].tolist()\n",
    "fips = Missouri_County['Flips'].tolist()\n",
    "\n",
    "endpts = list(np.mgrid[min(values):max(values):4j])\n",
    "\n",
    "fig = ff.create_choropleth(\n",
    "    fips=fips, values=values, scope=['Missouri'], show_state_data=True,\n",
    "    binning_endpoints=endpts, round_legend_values=True,\n",
    "    plot_bgcolor='rgb(229,229,229)',\n",
    "    paper_bgcolor='rgb(229,229,229)',\n",
    "    legend_title='Total Votes by County',\n",
    "    show_hover=True,\n",
    "    county_outline={'color': 'rgb(255,255,255)', 'width': 0.5},\n",
    "    exponent_format=True,\n",
    "    title='Missouri'\n",
    ")\n",
    "fig.update_layout(height=400, width=750, margin={\"r\":0,\"t\":0,\"l\":0,\"b\":0})\n",
    "fig.layout.template = None\n",
    "fig.show()"
   ]
  },
  {
   "cell_type": "markdown",
   "metadata": {
    "id": "HSjX9jKupBqZ",
    "papermill": {
     "duration": 0.058338,
     "end_time": "2020-11-10T13:53:05.600994",
     "exception": false,
     "start_time": "2020-11-10T13:53:05.542656",
     "status": "completed"
    },
    "tags": []
   },
   "source": [
    "## Montana"
   ]
  },
  {
   "cell_type": "code",
   "execution_count": 21,
   "metadata": {
    "execution": {
     "iopub.execute_input": "2020-11-10T13:53:05.723181Z",
     "iopub.status.busy": "2020-11-10T13:53:05.722430Z",
     "iopub.status.idle": "2020-11-10T13:53:05.725387Z",
     "shell.execute_reply": "2020-11-10T13:53:05.724882Z"
    },
    "id": "mtJvN1D9oaaQ",
    "papermill": {
     "duration": 0.066623,
     "end_time": "2020-11-10T13:53:05.725495",
     "exception": false,
     "start_time": "2020-11-10T13:53:05.658872",
     "status": "completed"
    },
    "tags": []
   },
   "outputs": [],
   "source": [
    "Montana_County = gov_county[gov_county['state'] == 'Montana']\n",
    "Montana_Flips = flips[flips['state']=='Montana']"
   ]
  },
  {
   "cell_type": "code",
   "execution_count": 22,
   "metadata": {
    "execution": {
     "iopub.execute_input": "2020-11-10T13:53:05.856952Z",
     "iopub.status.busy": "2020-11-10T13:53:05.855994Z",
     "iopub.status.idle": "2020-11-10T13:53:05.860834Z",
     "shell.execute_reply": "2020-11-10T13:53:05.860296Z"
    },
    "id": "a-Cv_l0WpJ1y",
    "outputId": "d2256aac-f003-488c-fa9b-0e2ab3c2a28b",
    "papermill": {
     "duration": 0.078163,
     "end_time": "2020-11-10T13:53:05.860952",
     "exception": false,
     "start_time": "2020-11-10T13:53:05.782789",
     "status": "completed"
    },
    "tags": []
   },
   "outputs": [
    {
     "data": {
      "text/html": [
       "<div>\n",
       "<style scoped>\n",
       "    .dataframe tbody tr th:only-of-type {\n",
       "        vertical-align: middle;\n",
       "    }\n",
       "\n",
       "    .dataframe tbody tr th {\n",
       "        vertical-align: top;\n",
       "    }\n",
       "\n",
       "    .dataframe thead th {\n",
       "        text-align: right;\n",
       "    }\n",
       "</style>\n",
       "<table border=\"1\" class=\"dataframe\">\n",
       "  <thead>\n",
       "    <tr style=\"text-align: right;\">\n",
       "      <th></th>\n",
       "      <th>state_x</th>\n",
       "      <th>county</th>\n",
       "      <th>current_votes</th>\n",
       "      <th>total_votes</th>\n",
       "      <th>percent</th>\n",
       "      <th>Flips</th>\n",
       "    </tr>\n",
       "  </thead>\n",
       "  <tbody>\n",
       "    <tr>\n",
       "      <th>0</th>\n",
       "      <td>Montana</td>\n",
       "      <td>Beaverhead County</td>\n",
       "      <td>5655</td>\n",
       "      <td>5664</td>\n",
       "      <td>99</td>\n",
       "      <td>30001</td>\n",
       "    </tr>\n",
       "    <tr>\n",
       "      <th>1</th>\n",
       "      <td>Montana</td>\n",
       "      <td>Big Horn County</td>\n",
       "      <td>4677</td>\n",
       "      <td>5191</td>\n",
       "      <td>90</td>\n",
       "      <td>30003</td>\n",
       "    </tr>\n",
       "  </tbody>\n",
       "</table>\n",
       "</div>"
      ],
      "text/plain": [
       "   state_x             county  current_votes  total_votes  percent  Flips\n",
       "0  Montana  Beaverhead County           5655         5664       99  30001\n",
       "1  Montana    Big Horn County           4677         5191       90  30003"
      ]
     },
     "execution_count": 22,
     "metadata": {},
     "output_type": "execute_result"
    }
   ],
   "source": [
    "Montana_County = Montana_County.merge(Montana_Flips, on='county', how='left')\n",
    "Montana_County = Montana_County.drop(['state_y'],axis=1)\n",
    "Montana_County.head(2)"
   ]
  },
  {
   "cell_type": "code",
   "execution_count": 23,
   "metadata": {
    "execution": {
     "iopub.execute_input": "2020-11-10T13:53:05.995207Z",
     "iopub.status.busy": "2020-11-10T13:53:05.991267Z",
     "iopub.status.idle": "2020-11-10T13:53:08.140685Z",
     "shell.execute_reply": "2020-11-10T13:53:08.140139Z"
    },
    "id": "hJTqm1hEpbtu",
    "outputId": "9c662148-778e-4d36-cfcc-2900c181abfa",
    "papermill": {
     "duration": 2.222692,
     "end_time": "2020-11-10T13:53:08.140822",
     "exception": false,
     "start_time": "2020-11-10T13:53:05.918130",
     "status": "completed"
    },
    "tags": []
   },
   "outputs": [
    {
     "data": {
      "text/html": [
       "<div>                            <div id=\"57268be9-b8ac-4219-95c0-127c00d93d35\" class=\"plotly-graph-div\" style=\"height:400px; width:750px;\"></div>            <script type=\"text/javascript\">                require([\"plotly\"], function(Plotly) {                    window.PLOTLYENV=window.PLOTLYENV || {};                                    if (document.getElementById(\"57268be9-b8ac-4219-95c0-127c00d93d35\")) {                    Plotly.newPlot(                        \"57268be9-b8ac-4219-95c0-127c00d93d35\",                        [{\"fill\": \"toself\", \"fillcolor\": \"rgb(68, 1, 84)\", \"hoverinfo\": \"none\", \"line\": {\"color\": \"rgb(255,255,255)\", \"width\": 0.5}, \"mode\": \"lines\", \"name\": \"< 0\", \"type\": \"scatter\", \"x\": [-113.349046, -112.575864, -112.576891, -112.02116, -111.990944, -111.990889, -111.79590999999999, -111.795855, -111.665756, -111.665599, -111.409018, -111.408514, -111.984263, -111.984125, -112.048342, -112.047999, -112.177751, -112.177755, -113.051183, -113.070412, -113.129823, -113.182615, -113.230906, -113.236777, -113.349046, null, -107.738548, -107.174531, -107.153444, -107.028422, -107.007394, -106.939067, -106.939095, -107.052159, -107.051946, -107.17636, -107.176358, -107.425128, -107.424929, -107.517629, -107.474487, -107.466131, -107.61239499999999, -107.612411, -107.738548, null], \"y\": [48.310263, 48.309684, 48.483348, 48.451992999999995, 48.438545999999995, 48.394265, 48.393080999999995, 48.349812, 48.349455999999996, 48.219549, 48.219542, 47.987178, 47.984592, 48.042767, 48.042908999999995, 48.086611999999995, 48.087162, 48.130717, 48.12131, 48.152653, 48.135417, 48.175093, 48.170426, 48.247211, 48.310263, null, 46.481806, 46.482713, 46.395613, 46.39546, 46.134198, 46.136666999999996, 45.870041, 45.870052, 45.913489, 45.913323, 45.956761, 45.956674, 46.043374, 46.050042, 46.102996, 46.177774, 46.308113, 46.351557, 46.481806, null]}, {\"fill\": \"toself\", \"fillcolor\": \"rgb(59, 82, 139)\", \"hoverinfo\": \"none\", \"line\": {\"color\": \"rgb(255,255,255)\", \"width\": 0.5}, \"mode\": \"lines\", \"name\": \"0 - 26,694\", \"type\": \"scatter\", \"x\": [-113.937372, -113.906529, -113.896496, -113.830242, -113.712522, -113.592215, -113.528581, -113.503957, -113.431961, -113.378004, -113.335912, -113.158146, -113.100273, -112.999274, -112.784782, -112.692273, -112.687839, -112.59855, -112.505568, -112.46426, -112.45685399999999, -112.333899, -112.334248, -112.191187, -112.167108, -112.065678, -112.065797, -111.78115700000001, -111.781099, -111.47994747467, -111.473178, -111.525764, -111.463487, -111.700917, -111.821488, -111.869216, -112.10675499999999, -112.286187, -112.35421, -112.387389, -112.71911, -112.781294, -112.836034, -112.81324, -112.855395, -112.884667, -113.003544, -113.026148, -113.007194, -113.08703, -113.049349, -113.06775999999999, -113.131453, -113.24716599999999, -113.343749, -113.356062, -113.454858, -113.497904, -113.443782, -113.45197, -113.520001, -113.512923, -113.55865299999999, -113.594219, -113.684946, -113.738729, -113.733092, -113.776721, -113.766297, -113.834555, -113.806729, -113.90317, -113.937372, null, -108.69962, -108.682223, -108.645325, -108.316374, -108.316245, -108.193191, -108.193205, -108.069752, -108.047352, -107.881846, -107.881873, -107.798821, -107.798753, -107.674468, -107.674454, -107.424929, -107.425128, -107.176358, -107.17636, -107.051946, -107.052159, -106.939095, -106.939077, -106.877217, -106.877116, -106.9128, -106.912959, -106.727573, -106.729543, -106.768676, -106.768014, -106.263684, -106.263715092465, -108.24942807283101, -108.168395, -108.098054, -108.69961599999999, -108.69962, null, -109.551644, -109.51908, -109.51877999999999, -109.497028, -109.49673, -109.464318, -109.464318, -109.496881, -109.50533300000001, -109.489554646273, -108.23639299999999, -108.259384, -108.319119, -108.346292, -108.411186, -108.43398, -108.607579, -108.625698, -108.888316, -108.891115, -108.945635, -108.920422, -108.93902, -108.995265, -109.27594500000001, -109.425315, -109.538677, -109.551644, null, -111.787949, -111.631906, -111.639261, -111.606584, -111.464901, -111.410268, -111.33035100000001, -111.319996, -111.344736, -111.257378, -111.246519, -111.122461, -111.057226, -111.12707, -111.074914, -111.061956, -111.346652, -111.349372, -111.423831, -111.419618, -111.458936, -111.471285, -111.58735899999999, -111.660057, -111.660422, -111.784565, -111.787949, null, -109.798673, -109.687792, -109.687857, -109.608504, -109.588222, -109.479697, -109.356417, -109.191761, -109.191551, -109.128225, -109.126798, -108.78200000000001, -108.801761, -108.699283, -108.698102, -108.645325, -108.682223, -108.69961599999999, -108.098054, -108.168395, -108.24942807283101, -109.79848479260801, -109.798673, null, -105.038281, -105.038205, -104.987318, -104.98194, -104.939289, -104.939205, -104.516126, -104.516078, -104.390744, -104.390876, -104.134842, -104.134826, -104.044030081588, -104.039138, -105.038252994286, -105.038281, null, -111.409097, -110.827168, -110.827413, -110.625543, -110.625409, -109.845932, -109.845812, -109.726943, -109.726914, -109.5338, -109.538677, -109.677536, -109.72371, -109.829635, -109.849102, -110.159579, -110.639559, -110.640599, -110.76912899999999, -110.76846499999999, -110.863942, -111.043131, -110.976171, -111.40885, -111.409097, null, -106.191524, -106.191629, -106.153433, -106.155143, -106.120366, -106.12063, -106.086341, -106.086585, -105.618158, -105.618097, -105.576394, -105.576063, -105.492002, -105.491919, -105.449406, -105.449196, -104.984714, -104.98474, -104.858749, -104.858738, -104.733059, -104.732672, -104.905988, -104.885495, -104.939205, -104.939289, -106.191734, -106.191524, null, -106.15193, -106.112003, -106.11206332368401, -105.05764171669101, -105.038548, -104.973283, -104.973354, -106.021307, -106.021251, -106.151908, -106.15193, null, -105.406581, -105.363507, -105.363262, -105.234771, -105.235016, -104.97809, -104.978553, -104.593664, -104.594046, -104.513049, -104.513292, -104.42034, -104.451018, -104.34168, -104.306062, -104.412124, -104.496582, -105.027526, -105.069524, -105.197011, -105.196735, -105.324757, -105.324853, -105.406309, -105.406581, null, -113.516818, -113.277973, -113.284532, -113.036818, -113.036825, -112.558599, -112.597936, -112.577106, -112.681004, -112.77712, -112.777717, -112.852763, -112.877993, -112.922793, -112.92806, -113.024083, -113.213542, -113.275418, -113.339665, -113.371731, -113.431961, -113.441622, -113.516818, null, -104.905988, -104.732672, -104.732843, -104.606835, -104.606903, -104.417998, -104.354701, -104.354835, -104.04527115812101, -104.044030081588, -104.134826, -104.134842, -104.390876, -104.390744, -104.516078, -104.516126, -104.885495, -104.905988, null, -110.213596, -109.849102, -109.829635, -109.72371, -109.579712, -109.425315, -109.274171, -108.978383, -108.920749, -108.945635, -108.821449, -108.771619, -108.505486, -108.444936, -108.3489, -108.313048, -108.315481, -108.590835, -108.591111, -108.719189, -108.736838, -108.608954, -108.631462, -109.389208, -109.389092, -109.745745, -109.756666, -109.835424, -109.75542300000001, -109.756568, -109.871985, -109.872475, -110.000024, -110.000289, -110.127699, -110.127952, -110.213285, -110.213596, null, -107.968626, -107.934961, -107.963887, -107.909603, -107.923011, -107.86186000000001, -107.86287899999999, -107.765854, -107.694687, -107.648861, -107.654416, -107.451508, -107.409161, -107.247874, -106.892753, -106.853714, -106.746573, -106.710492, -106.609813, -106.608369, -106.528095, -106.54270700000001, -106.508186, -106.53081, -106.489428, -106.506471, -106.436035, -106.426686, -106.358288, -106.358085, -106.260932, -106.261121, -106.298073, -106.298158, -106.170675, -106.17042000000001, -106.086777, -106.086463, -107.901462, -107.941377, -107.882471, -107.922009, -107.913912, -107.960582, -107.923007, -107.968626, null, -114.068179566579, -112.193410146198, -112.184784, -112.576891, -112.575864, -113.349046, -113.387137, -113.334014, -113.356379, -113.47916000000001, -113.467372, -113.543853, -113.750454, -113.740546, -113.702657, -113.771663, -113.756941, -113.841588, -113.956864, -114.002245, -113.993032, -114.058061, -114.01360199999999, -114.047615, -114.021207, -114.068179566579, null, -109.653871, -109.402906, -109.389208, -109.00957, -108.988995, -108.904904, -108.862277, -108.77927199999999, -108.779733, -109.41622699999999, -109.417158, -109.605153, -109.60419, -109.65384, -109.653871, null, -113.87835799999999, -113.809694, -113.827743, -113.667996, -113.668166, -113.479856, -113.479832, -113.417085, -113.416599, -113.259909, -113.177083, -113.038702, -113.036818, -113.284532, -113.285442, -113.45836299999999, -113.480172, -113.579165, -113.64869, -113.68725, -113.803677, -113.753097, -113.822893, -113.748547, -113.784181, -113.782841, -113.858336, -113.87835799999999, null, -110.756177, -110.743064, -109.489554646273, -109.50533300000001, -109.496881, -109.464318, -109.464318, -109.49673, -109.497028, -109.51877999999999, -109.51908, -109.551644, -109.534295, -109.726914, -109.726943, -109.845812, -109.845932, -110.625409, -110.625543, -110.755873, -110.756177, null, -112.597936, -112.532675, -112.45408499999999, -112.403784, -112.176235, -112.205757, -112.063232, -112.029231, -111.787949, -111.784565, -111.660422, -111.661185, -111.78820999999999, -111.930143, -112.085801, -112.18538, -112.41421199999999, -112.435848, -112.520093, -112.505377, -112.577106, -112.597936, null, -110.788302, -110.767032, -110.767125, -110.63891100000001, -110.639559, -110.213596, -110.213285, -110.127952, -110.127699, -110.000289, -110.000024, -109.872475, -109.871985, -109.756568, -109.75542300000001, -109.835424, -109.756666, -109.745745, -109.969221, -110.269707, -110.33376, -110.465685, -110.561491, -110.563704, -110.649524, -110.645212, -110.772508, -110.788302, null, -114.60449, -114.47729, -114.49219, -114.038545, -114.078282, -114.029042, -113.884541, -113.842199, -113.672014, -113.681896, -113.598113, -113.634079, -113.948745, -113.908581, -113.951167, -113.87111, -113.900685, -113.824348, -113.821447, -113.933568, -113.933503, -114.18717, -114.203026, -114.327667, -114.342196, -114.284781, -114.382952, -114.320528, -114.58376, -114.60449, null, -111.409018, -111.275306, -111.26986200082901, -110.743064, -110.755873, -110.827413, -110.827168, -111.409097, -111.409018, null, -116.04966720193102, -116.049193, -114.727045223277, -114.684887, -114.718806, -114.691763, -114.73248, -114.61266499999999, -114.691264, -114.690227, -114.63900699999999, -114.888592, -114.888679, -114.849803, -114.848098, -115.020079, -115.010672, -115.154527, -115.13633899999999, -115.17575, -115.184978, -115.27843, -115.31924, -115.38369, -115.399817, -115.427001, -115.546534, -115.544858, -115.641047, -115.645768, -115.696719, -115.672492, -115.737266, -115.936899, -115.957251, -116.009237, -116.016723, -116.049773718343, -116.04966720193102, null, -106.430075, -106.394163, -106.12941000000001, -106.1452, -106.119878, -106.079148, -106.029368, -106.017371, -105.907061, -105.894617, -105.852698, -105.774461, -105.750561, -105.651506, -105.647941, -105.535409, -105.503195, -105.194783, -105.195122, -105.234651, -105.234771, -105.363262, -105.363507, -105.406581, -105.406309, -105.833044, -105.832637, -105.959897, -105.959819, -106.17042000000001, -106.170675, -106.298158, -106.298073, -106.261121, -106.260932, -106.358085, -106.358288, -106.41862, -106.430075, null, -112.704848, -112.687054, -112.549953, -112.498432, -112.168767, -112.11796, -112.037399, -111.930143, -111.910327, -111.810637, -111.80538, -111.721847, -111.721683, -111.659738, -111.536241, -111.35138, -111.37701665531002, -111.414271, -111.781099, -111.78115700000001, -112.065797, -112.065678, -112.167108, -112.191187, -112.334248, -112.333899, -112.45685399999999, -112.46426, -112.505568, -112.59855, -112.658441, -112.704848, null, -111.658132, -111.539214, -111.539373, -111.15838600000001, -111.158559, -111.080723, -111.104792, -111.084285, -110.925452, -110.856038, -110.759828, -110.754751, -110.650755, -110.631712, -110.563704, -110.561491, -110.466812, -110.33376, -110.273337, -110.281916, -111.061956, -111.074914, -111.12707, -111.057226, -111.122461, -111.246519, -111.257378, -111.344736, -111.319996, -111.33035100000001, -111.410268, -111.505769, -111.639502, -111.602722, -111.658132, null, -115.759233, -115.519272, -115.44427, -115.282181, -115.123832, -115.027637, -114.979189, -114.96897799999999, -114.842453, -114.842324, -114.797204, -114.775833, -114.712274, -114.712283, -114.586735, -114.56609399999999, -114.483694, -114.483227, -114.419374, -114.525358, -114.566129, -114.549127, -114.674925, -114.76689, -114.785386, -114.894614, -114.947413, -114.923899, -115.001274, -115.049538, -115.142446, -115.300504, -115.321032, -115.529301, -115.578619, -115.759233, null, -109.00957, -107.827687, -107.792939, -107.837732, -107.795473, -107.782087, -107.928547, -108.011948, -108.029363, -108.320812, -108.404856, -108.40479500000001, -108.779733, -108.77927199999999, -108.862277, -108.904904, -108.988995, -109.00957, null, -111.04661, -111.038169, -110.917899, -110.919222, -110.858252, -110.857382, -110.794774, -110.783833, -110.281916, -110.292662, -110.220908, -110.228052, -109.798666, -109.79848479260801, -111.045065708123, -111.04661, null, -108.736077, -108.719189, -108.591111, -108.590835, -108.315481, -108.313048, -108.062975, -107.931105, -107.896976, -107.909603, -107.963887, -107.934961, -107.964662, -107.923007, -107.960582, -107.913912, -107.922009, -107.882471, -107.941329, -107.861812, -107.827687, -108.631462, -108.608954, -108.736838, -108.736077, null, -108.891069, -108.888316, -108.625698, -108.607579, -108.43398, -108.411186, -108.346292, -108.319119, -108.259384, -108.23639299999999, -107.179812011685, -107.179823, -107.206032, -107.192691, -107.251091, -107.257944, -107.301721, -107.301073, -107.260279, -107.260458, -107.369252, -107.36973, -107.404513, -107.414886, -107.442748, -107.654416, -107.648861, -107.694687, -107.765854, -107.839431, -107.860388, -107.905241, -107.926205, -107.985263, -108.3489, -108.444936, -108.505486, -108.771619, -108.78406, -108.891115, -108.891069, null, -106.279549, -106.235716, -106.234502, -104.98194, -104.987318, -105.038205, -105.038252994286, -106.263715092465, -106.279549, null, -113.466485, -113.130834, -113.11455, -113.059199, -113.059053, -112.795808, -112.795642, -112.535748, -112.535597, -112.41084599999999, -112.410638, -112.320871, -112.293205, -112.316705, -112.293709, -112.312528, -112.403784, -112.45408499999999, -112.532675, -112.570046, -112.558599, -113.036825, -113.038702, -113.177083, -113.249346, -113.291406, -113.302943, -113.46645, -113.466485, null, -106.086777, -105.959819, -105.959897, -105.832637, -105.833044, -105.324853, -105.324757, -105.196735, -105.197011, -105.069524, -105.027526, -104.603766, -104.606835, -104.732843, -104.733059, -104.858738, -104.858749, -104.98474, -104.984714, -105.449196, -105.449406, -105.491919, -105.492002, -105.576063, -105.576394, -105.618097, -105.618158, -106.086585, -106.086777, null, -105.23463, -105.234651, -105.195122, -105.177722, -105.119117, -105.061071, -105.043563, -105.006225, -104.986975, -104.983595, -104.938251, -104.898447, -104.67734, -104.607559, -104.589754, -104.462515, -104.349492, -104.233517, -104.196359, -104.17073, -104.132903, -104.092657, -104.100932, -104.04411999999999, -104.04506544260501, -104.131508, -104.131863, -104.513292, -104.513049, -104.594046, -104.593664, -104.978553, -104.97809, -105.235016, -105.23463, null, -105.84405, -105.843823, -105.804599, -105.804436, -104.757619, -104.757643, -104.627726, -104.62776, -104.046910665796, -104.04411999999999, -104.100932, -104.092657, -104.132903, -104.176012, -104.189097, -104.224029, -104.349492, -104.468664, -104.589754, -104.609167, -104.67734, -104.891321, -104.938251, -104.983595, -104.986975, -105.006225, -105.043563, -105.061071, -105.119117, -105.177722, -105.210871, -105.231833, -105.503195, -105.535409, -105.647941, -105.651506, -105.750561, -105.774461, -105.843891, -105.84405, null, -107.897356, -106.086463, -106.12063, -106.153433, -106.191629, -106.191734, -106.234502, -106.235716, -106.279549, -106.279709, -106.768014, -106.768676, -106.729543, -106.727573, -106.912959, -106.9128, -106.877116, -106.877217, -106.939077, -106.939067, -107.007394, -107.028422, -107.153444, -107.174531, -107.796755, -107.795473, -107.837732, -107.792939, -107.826004, -107.808446, -107.853286, -107.847172, -107.897356, null, -116.049773718343, -116.016723, -116.009237, -115.957251, -115.936899, -115.800172, -115.759161, -115.709824, -115.641047, -115.544858, -115.557574, -115.524695, -115.399817, -115.38369, -115.31924, -115.27843, -115.184978, -115.17575, -115.13633899999999, -115.154527, -115.010672, -114.989344, -114.604584, -114.58376, -114.320528, -114.382952, -114.284781, -114.342196, -114.327667, -114.203026, -114.187173, -114.292604, -114.35592199999999, -114.35384, -114.631423, -114.842324, -114.842453, -114.96897799999999, -114.979189, -115.249057, -115.683892, -115.70127099999999, -115.75553, -115.688976, -115.73627, -115.72377, -115.831755, -115.852291, -116.04885, -116.049773718343, null, -105.05764171669101, -104.048736, -104.046910665796, -104.62776, -104.627726, -104.757643, -104.757619, -104.973354, -104.973283, -105.038548, -105.05764171669101, null, -113.085517, -112.928661, -112.939033, -112.877993, -112.852763, -112.777717, -112.77712, -112.505377, -112.520093, -112.466304, -112.476952, -112.441988, -112.404349, -112.426464, -112.189986, -112.498432, -112.549953, -112.687054, -112.784782, -112.999274, -113.085517, null, -110.064581, -109.931984, -109.931139, -109.808841, -109.808793, -109.685385, -109.685385, -109.56207, -109.548822, -109.505963, -109.506604, -109.423026, -109.41622699999999, -108.924589, -108.904726, -108.843016, -109.126798, -109.128225, -109.191551, -109.191761, -109.356417, -109.479697, -109.588222, -109.608504, -109.687857, -109.687792, -110.06451799999999, -110.064581, null, -110.29288199999999, -110.281971, -109.653871, -109.65384, -109.60419, -109.605153, -109.417158, -109.423026, -109.506604, -109.505963, -109.548822, -109.56207, -109.685385, -109.685385, -109.808793, -109.808841, -109.931139, -109.931984, -110.064581, -110.06451799999999, -110.228052, -110.220908, -110.292662, -110.29288199999999, null, -113.014811, -112.177755, -112.177751, -112.047999, -112.048342, -111.984125, -111.984263, -111.408514, -111.40885, -111.666482, -111.66626, -111.922567, -111.926223, -112.278, -112.548591, -112.817827, -112.91422, -112.913256, -112.984734, -112.91259099999999, -112.878701, -113.014811, null, -112.193410146198, -111.26986200082901, -111.275306, -111.665599, -111.665756, -111.795855, -111.79590999999999, -111.990889, -112.004013, -112.076995, -112.175743, -112.193410146198, null, -107.414884, -107.404513, -107.36973, -107.369252, -107.260458, -107.260279, -107.301073, -107.301721, -107.257944, -107.251091, -107.192691, -107.206032, -107.179823, -107.179812011685, -106.11206332368401, -106.151908, -106.021251, -106.021307, -105.804436, -105.804599, -105.843823, -105.843891, -105.894617, -105.907061, -106.017371, -106.029368, -106.082525, -106.119878, -106.1452, -106.12941000000001, -106.394163, -106.430477, -106.41862, -106.447421, -106.501725, -106.489428, -106.53081, -106.508186, -106.54270700000001, -106.528095, -106.608369, -106.609813, -106.710492, -106.746573, -106.853714, -106.881162, -107.247874, -107.414884, null, -110.281471, -110.269707, -109.969221, -109.819866, -109.389163, -109.402906, -110.281971, -110.281471, null, -104.607307, -104.603766, -104.496582, -104.412124, -104.306062, -104.34168, -104.451018, -104.42034699999999, -104.131863, -104.131508, -104.04506544260501, -104.04527115812101, -104.354835, -104.354701, -104.417998, -104.607017, -104.607307, null], \"y\": [45.697274, 45.704175, 45.769723, 45.750718, 45.838384, 45.850224, 45.88116, 45.941505, 45.800684, 45.760116, 45.81324, 45.885256, 45.881716999999995, 45.807347, 45.763479, 45.656406999999994, 45.477239999999995, 45.429429999999996, 45.443008999999996, 45.39382, 45.088508999999995, 45.088423, 45.000519, 45.000512, 44.826738, 44.825984999999996, 44.783474999999996, 44.781026999999995, 44.708845, 44.7087009089277, 44.665479, 44.604883, 44.541396, 44.561125, 44.509285999999996, 44.565295, 44.520829, 44.568472, 44.535638, 44.448057999999996, 44.504343999999996, 44.484888, 44.422653, 44.378102999999996, 44.359975, 44.402105999999996, 44.450814, 44.497015999999995, 44.52596, 44.599985, 44.62938, 44.679474, 44.772836999999996, 44.82295, 44.785078999999996, 44.819798, 44.865572, 44.946151, 44.95989, 45.059247, 45.092931, 45.115091, 45.114419, 45.186015999999995, 45.253706, 45.329741, 45.390173, 45.413872999999995, 45.520385999999995, 45.520728999999996, 45.602146, 45.621376999999995, 45.697274, null, 45.348946, 45.433132, 45.464073, 45.460508999999995, 45.489503, 45.489526, 45.518538, 45.518535, 45.899316, 45.899232999999995, 45.928149, 45.956723, 45.985679999999995, 45.985758999999995, 46.04361, 46.043374, 45.956674, 45.956761, 45.913323, 45.913489, 45.870052, 45.870041, 45.831607999999996, 45.831714, 45.788216999999996, 45.788221, 45.683915, 45.676469, 45.351479999999995, 45.352826, 45.179728, 45.179722999999996, 44.9937884330015, 44.999461014126794, 45.170815, 45.220517, 45.217709, 45.348946, null, 48.293479, 48.293457, 48.394726, 48.394739, 48.452729999999995, 48.452638, 48.525259999999996, 48.525206999999995, 48.56791, 49.0006056503142, 48.99952991858989, 48.742225, 48.742208999999995, 48.422795, 48.444981, 47.976552999999996, 47.990997, 47.92042, 47.922722, 47.734455999999994, 47.730363999999994, 47.756493999999996, 47.790216, 47.803424, 47.792936, 47.720152999999996, 47.738864, 48.293479, null, 46.569465, 46.569972, 46.73818, 46.776362999999996, 46.751691, 46.639223, 46.633337999999995, 46.56227, 46.545429, 46.498484999999995, 46.438109, 46.452639, 46.403407, 46.273754, 46.25065, 46.192834, 46.187785, 46.122606999999995, 46.061951, 45.996322, 45.99828, 45.951474999999995, 45.906802, 45.8335, 46.049192, 46.049813, 46.569465, null, 45.167339, 45.167339, 45.26144, 45.261444999999995, 45.333905, 45.420834, 45.464326, 45.464504, 45.523095, 45.523025, 45.58773, 45.638639, 45.551964999999996, 45.522628999999995, 45.464071999999994, 45.464073, 45.433132, 45.217709, 45.220517, 45.170815, 44.999461014126794, 45.002185541820594, 45.167339, null, 45.271713999999996, 45.352035, 45.352039999999995, 45.786981999999995, 45.786964, 46.136575, 46.136196, 46.054843999999996, 46.054826, 45.970363, 45.968833, 45.881927999999995, 45.881978657009796, 44.99852, 45.000344363702396, 45.271713999999996, null, 48.132217999999995, 48.133205, 48.219566, 48.219730999999996, 48.306478999999996, 48.305971, 48.219004, 48.221525, 48.132858999999996, 48.134561999999995, 47.738864, 47.734749, 47.702377, 47.715978, 47.540357, 47.415312, 47.416486, 47.446306, 47.446096, 47.525638, 47.525059999999996, 47.590866, 47.698738, 47.698122999999995, 48.132217999999995, null, 45.869765, 46.137183, 46.13726, 46.483633999999995, 46.483647999999995, 46.831438, 46.831461999999995, 46.86029, 46.832148, 46.744932, 46.745021, 46.658003, 46.658117, 46.600085, 46.600010999999995, 46.570966999999996, 46.540389, 46.569385999999994, 46.569115, 46.612556999999995, 46.612694999999995, 46.482202, 46.482251, 46.136595, 46.136575, 45.786964, 45.7886, 45.869765, null, 48.910637, 48.910647, 48.99927943840029, 48.9992288873925, 48.650099, 48.650059999999996, 48.56319, 48.563224999999996, 48.823975, 48.823927, 48.910637, null, 47.529534, 47.529557999999994, 47.790419, 47.790502, 47.703581, 47.703292999999995, 47.616271999999995, 47.616293999999996, 47.529334999999996, 47.529441999999996, 47.354718999999996, 47.354445999999996, 47.317629, 47.245391999999995, 47.042046, 46.904002999999996, 46.860813, 46.861456999999994, 46.919171999999996, 46.919191999999995, 46.977171999999996, 46.977196, 47.181495999999996, 47.181582999999996, 47.529534, null, 45.942096, 46.045342999999995, 46.222783, 46.22333, 46.266825999999995, 46.265820999999995, 46.236894, 46.178981, 46.135672, 46.135825999999994, 46.048313, 46.048434, 45.999416, 46.004811, 45.927654, 45.871393, 45.875264, 45.817972999999995, 45.810798, 45.758869, 45.800684, 45.855957, 45.942096, null, 46.482251, 46.482202, 46.656264, 46.655968, 46.684923999999995, 46.684892, 46.670381, 46.641408999999996, 46.6415014128297, 45.881978657009796, 45.881927999999995, 45.968833, 45.970363, 46.054826, 46.054843999999996, 46.136196, 46.136595, 46.482251, null, 47.416657, 47.540357, 47.715978, 47.702377, 47.747800000000005, 47.720152999999996, 47.793239, 47.802658, 47.757867999999995, 47.730363999999994, 47.709084, 47.645523, 47.599934, 47.615351, 47.566683999999995, 47.58365, 47.315152, 47.306515999999995, 47.270134999999996, 47.270342, 47.098217999999996, 47.098126, 46.749392, 46.751351, 46.693625, 46.693593, 46.780389, 46.809160999999996, 46.896023, 47.185694, 47.185323, 47.228882999999996, 47.228716, 47.272133, 47.27191, 47.35902, 47.358771, 47.416657, null, 47.249823, 47.318369, 47.354012, 47.401579999999996, 47.444781, 47.456482, 47.515387, 47.545435, 47.629762, 47.625374, 47.652563, 47.622141, 47.692505999999995, 47.661474999999996, 47.674817999999995, 47.740316, 47.731316, 47.773236, 47.777234, 47.806714, 47.851701999999996, 47.875827, 47.880216, 47.903562, 47.927381999999994, 47.953542, 47.981314999999995, 47.953783, 47.957215999999995, 47.868412, 47.868431, 47.529052, 47.529041, 47.354298, 47.354495, 47.180825999999996, 47.180938, 46.845881, 46.852498, 46.893723, 46.999154999999995, 47.020744, 47.069243, 47.125333, 47.178965999999996, 47.249823, null, 48.9989189290043, 48.998899920427796, 48.477578, 48.483348, 48.309684, 48.310263, 48.342146, 48.381944, 48.424091999999995, 48.453115, 48.547554999999996, 48.587025, 48.614335, 48.692906, 48.717935, 48.787757, 48.818318, 48.855841999999996, 48.817474, 48.831869999999995, 48.854123, 48.889064999999995, 48.910081999999996, 48.936712, 48.961343, 48.9989189290043, null, 46.219404, 46.219705999999995, 46.751351, 46.750702, 46.577850999999995, 46.576907999999996, 46.364585999999996, 46.277398, 46.132456999999995, 46.132371, 46.044759, 46.044993999999996, 46.132484, 46.132464999999996, 46.219404, null, 46.503198999999995, 46.594276, 46.660896, 46.658372, 46.716229, 46.744713999999995, 46.802772, 46.802495, 46.832113, 46.824746, 46.730734999999996, 46.73554, 46.22333, 46.222783, 46.038109, 45.984064, 45.939682999999995, 45.938665, 45.965246, 46.035236, 46.037675, 46.11214, 46.208881, 46.26862, 46.284932, 46.364204, 46.420185, 46.503198999999995, null, 48.566492, 48.998557502115595, 49.0006056503142, 48.56791, 48.525206999999995, 48.525259999999996, 48.452638, 48.452729999999995, 48.394739, 48.394726, 48.293457, 48.293479, 48.134564, 48.132858999999996, 48.221525, 48.219004, 48.305971, 48.306478999999996, 48.219730999999996, 48.219601, 48.566492, null, 46.236894, 46.335147, 46.328931999999995, 46.386565999999995, 46.456342, 46.499748, 46.523716, 46.568805, 46.569465, 46.049813, 46.049192, 45.828648, 45.792511999999995, 45.857620999999995, 45.851101, 45.747367999999994, 45.836684, 46.014275999999995, 46.137265, 46.184317, 46.178981, 46.236894, null, 47.307848, 47.297064999999996, 47.359128, 47.359032, 47.416486, 47.416657, 47.358771, 47.35902, 47.27191, 47.272133, 47.228716, 47.228882999999996, 47.185323, 47.185694, 46.896023, 46.809160999999996, 46.780389, 46.694097, 46.752908999999995, 46.712115999999995, 46.672056, 46.678408999999995, 46.732088, 46.771363, 46.801473, 47.09587, 47.095925, 47.307848, null, 47.783901, 47.789941, 47.961988999999996, 47.96255, 48.023148, 48.051652999999995, 48.0519, 47.978241999999995, 47.896349, 47.796189, 47.68315, 47.600027, 47.599992, 47.514435999999996, 47.476017999999996, 47.39197, 47.311316999999995, 47.274412999999996, 47.181709, 47.18172, 47.138289, 47.138191, 47.355745999999996, 47.357043999999995, 47.438525999999996, 47.478493, 47.48187, 47.594550999999996, 47.601718, 47.783901, null, 48.219542, 48.219530999999996, 48.997229786811594, 48.998557502115595, 48.219601, 48.219566, 48.133205, 48.132217999999995, 48.219542, null, 48.4403221865285, 49.000912, 49.0005870038886, 48.971534, 48.938677999999996, 48.84243, 48.809304, 48.754698999999995, 48.708895999999996, 48.677552, 48.658877999999994, 48.658525999999995, 48.573546, 48.573502, 48.226124999999996, 48.225953999999994, 48.017621, 48.017692, 47.984182999999994, 47.974394, 47.919269, 47.890268, 47.921569999999996, 47.905107, 47.936116999999996, 47.911097, 47.922079, 47.9994, 48.078812, 48.134142, 48.177433, 48.206573999999996, 48.263273999999996, 48.184062999999995, 48.149041999999994, 48.159669, 48.206216999999995, 48.216117548345196, 48.4403221865285, null, 48.021294, 48.064726, 48.03225, 48.007503, 48.004067, 48.03554, 48.004058, 48.033625, 48.00561, 48.038184, 48.008430999999995, 48.048345, 48.025397, 48.046498, 48.077304, 48.066444999999995, 48.097792, 48.066617, 47.868081, 47.868057, 47.790502, 47.790419, 47.529557999999994, 47.529534, 47.181582999999996, 47.181092, 47.093109, 47.092968, 47.181000000000004, 47.180825999999996, 47.354495, 47.354298, 47.529041, 47.529052, 47.868431, 47.868412, 47.957215999999995, 47.957457, 48.021294, null, 45.533232, 45.624854, 45.684158, 45.759764999999994, 45.749981, 45.834109999999995, 45.858387, 45.857620999999995, 45.828562999999995, 45.812937999999995, 45.786747999999996, 45.772369, 45.743278, 45.743344, 45.642257, 45.641937999999996, 44.7516382083018, 44.710741, 44.708845, 44.781026999999995, 44.783474999999996, 44.825984999999996, 44.826738, 45.000512, 45.000519, 45.088423, 45.088508999999995, 45.39382, 45.443008999999996, 45.429429999999996, 45.457481, 45.533232, null, 46.913422999999995, 46.913371, 47.000558999999996, 47.011770999999996, 47.088301, 47.087868, 47.029036, 47.010613, 46.985158999999996, 46.921347, 46.900161999999995, 46.846584, 46.824504, 46.779644999999995, 46.771363, 46.732088, 46.678795, 46.672056, 46.710508999999995, 46.184397, 46.192834, 46.25065, 46.273754, 46.403407, 46.452639, 46.438109, 46.498484999999995, 46.545429, 46.56227, 46.633337999999995, 46.639223, 46.814115, 46.832133999999996, 46.891391, 46.913422999999995, null, 47.423471, 47.496789, 47.465711999999996, 47.486923, 47.420688999999996, 47.414431, 47.395391, 47.312625, 47.297943, 47.268847, 47.268916, 47.225573, 47.22559, 47.182187, 47.123757, 47.06738, 47.067508, 47.023357999999995, 47.008896, 47.009249999999994, 46.963404999999995, 46.747366, 46.747414, 46.696901, 46.780308, 46.801862, 46.859324, 46.916992, 46.971900999999995, 46.970774, 47.101029, 47.188139, 47.256105, 47.29927, 47.367007, 47.423471, null, 46.750702, 46.755874999999996, 46.679829999999995, 46.596647, 46.596652, 46.395182, 46.395284, 46.336813, 46.264055, 46.263996999999996, 46.23596, 46.132951999999996, 46.132456999999995, 46.277398, 46.364585999999996, 46.576907999999996, 46.577850999999995, 46.750702, null, 45.176327, 45.351391, 45.351273, 45.524861, 45.524879, 45.59065, 45.590682, 46.192699, 46.184397, 45.785056999999995, 45.784973, 45.172129, 45.172128, 45.002185541820594, 45.0013432628163, 45.176327, null, 47.183414, 47.270342, 47.270134999999996, 47.306515999999995, 47.315152, 47.58365, 47.598417999999995, 47.569072999999996, 47.506980999999996, 47.401579999999996, 47.354012, 47.318369, 47.230489, 47.178965999999996, 47.125333, 47.069243, 47.020744, 46.999154999999995, 46.883162999999996, 46.835606, 46.755874999999996, 46.749392, 47.098126, 47.098217999999996, 47.183414, null, 47.870608, 47.922722, 47.92042, 47.990997, 47.976552999999996, 48.444981, 48.422795, 48.742208999999995, 48.742225, 48.99952991858989, 48.9999246229794, 48.912668, 48.91271, 48.509401999999994, 48.517193999999996, 48.480989, 48.480942999999996, 48.394000000000005, 48.394079999999995, 48.304767999999996, 48.305163, 48.218373, 48.21844, 47.691734, 47.623672, 47.652563, 47.625374, 47.629762, 47.545435, 47.534405, 47.458073, 47.449376, 47.565185, 47.588716999999995, 47.566683999999995, 47.615351, 47.599934, 47.645523, 47.682103999999995, 47.734455999999994, 47.870608, null, 45.351797, 45.351796, 45.788578, 45.786981999999995, 45.352039999999995, 45.352035, 45.000344363702396, 44.9937884330015, 45.351797, null, 47.600057, 47.587674, 47.490409, 47.488599, 47.17957, 47.177004, 46.831665, 46.834233999999995, 46.699481999999996, 46.699504999999995, 46.656011, 46.655927, 46.605089, 46.574923, 46.531127999999995, 46.418388, 46.386565999999995, 46.328931999999995, 46.335147, 46.304972, 46.265820999999995, 46.266825999999995, 46.73554, 46.730734999999996, 46.820569, 46.806931999999996, 47.179643, 47.179186, 47.600057, null, 47.180938, 47.181000000000004, 47.092968, 47.093109, 47.181092, 47.181495999999996, 46.977196, 46.977171999999996, 46.919191999999995, 46.919171999999996, 46.861456999999994, 46.860853, 46.655968, 46.656264, 46.612694999999995, 46.612556999999995, 46.569115, 46.569385999999994, 46.540389, 46.570966999999996, 46.600010999999995, 46.600085, 46.658117, 46.658003, 46.745021, 46.744932, 46.832148, 46.86029, 47.180938, null, 47.78776, 47.868057, 47.868081, 48.103100000000005, 48.0596, 48.078067, 48.053565, 48.085364999999996, 48.068625, 48.101583999999995, 48.095852, 48.149314999999994, 48.102976999999996, 48.142418, 48.107254999999995, 48.12101, 48.046434999999995, 48.029945999999995, 48.067831, 48.035381, 48.055054, 48.03217, 48.000617999999996, 47.996106999999995, 47.3970733821092, 47.397403, 47.353901, 47.354718999999996, 47.529441999999996, 47.529334999999996, 47.616293999999996, 47.616271999999995, 47.703292999999995, 47.703581, 47.78776, null, 48.047819999999994, 48.219034, 48.219037, 48.563358, 48.563126999999994, 48.476555999999995, 48.476349, 48.389362, 48.3893008786193, 47.996106999999995, 48.000617999999996, 48.03217, 48.055054, 48.03799, 48.068470999999995, 48.03044, 48.046434999999995, 48.122963999999996, 48.107254999999995, 48.142402999999995, 48.102976999999996, 48.15069, 48.095852, 48.101583999999995, 48.068625, 48.085364999999996, 48.053565, 48.078067, 48.0596, 48.103100000000005, 48.06325, 48.090143999999995, 48.097792, 48.066444999999995, 48.077304, 48.046498, 48.025397, 48.048345, 48.010289, 48.047819999999994, null, 46.849722, 46.845881, 46.831438, 46.13726, 46.137183, 45.7886, 45.788578, 45.351796, 45.351797, 45.179728, 45.179728, 45.352826, 45.351479999999995, 45.676469, 45.683915, 45.788221, 45.788216999999996, 45.831714, 45.831607999999996, 46.136666999999996, 46.134198, 46.39546, 46.395613, 46.482713, 46.495874, 46.596652, 46.596647, 46.679829999999995, 46.71413, 46.735758999999995, 46.777888, 46.819171999999995, 46.849722, null, 48.216117548345196, 48.206216999999995, 48.159669, 48.149041999999994, 48.184062999999995, 48.222818, 48.263996999999996, 48.248427, 48.078812, 47.9994, 47.939364999999995, 47.908594, 47.936116999999996, 47.905107, 47.921569999999996, 47.890268, 47.919269, 47.974394, 47.984182999999994, 48.017692, 48.017621, 47.872806999999995, 47.875605, 47.601718, 47.594550999999996, 47.48187, 47.478493, 47.438525999999996, 47.357043999999995, 47.355745999999996, 47.137645, 47.125693, 47.157903, 47.190995, 47.268457999999995, 47.268847, 47.297943, 47.312625, 47.395391, 47.480416, 47.484547, 47.532996, 47.547311, 47.593892, 47.654762, 47.696670999999995, 47.755784999999996, 47.827991, 47.977185999999996, 48.216117548345196, null, 48.9992288873925, 48.999877, 48.3893008786193, 48.389362, 48.476349, 48.476555999999995, 48.563126999999994, 48.56319, 48.650059999999996, 48.650099, 48.9992288873925, null, 45.860648, 45.927071, 45.993016, 45.999416, 46.048434, 46.048313, 46.135825999999994, 46.184317, 46.137265, 46.092727, 46.051714999999994, 46.029478999999995, 45.888048999999995, 45.843725, 45.749534, 45.759764999999994, 45.684158, 45.624854, 45.763479, 45.807347, 45.860648, null, 45.348755, 45.348755, 45.522456999999996, 45.52247, 45.565925, 45.56561, 45.609021999999996, 45.609119, 45.870748999999996, 45.870218, 45.959112, 45.960010999999994, 46.132371, 46.132369999999995, 45.682821, 45.611042, 45.58773, 45.523025, 45.523095, 45.464504, 45.464326, 45.420834, 45.333905, 45.261444999999995, 45.26144, 45.167339, 45.172129, 45.348755, null, 45.927374, 46.220605, 46.219404, 46.132464999999996, 46.132484, 46.044993999999996, 46.044759, 45.960010999999994, 45.959112, 45.870218, 45.870748999999996, 45.609119, 45.609021999999996, 45.56561, 45.565925, 45.52247, 45.522456999999996, 45.348755, 45.348755, 45.172129, 45.172129, 45.784973, 45.785056999999995, 45.927374, null, 48.131029999999996, 48.130717, 48.087162, 48.086611999999995, 48.042908999999995, 48.042767, 47.984592, 47.987178, 47.698122999999995, 47.697761, 47.611253, 47.611259, 47.500288999999995, 47.505623, 47.651824, 47.607589, 47.694958, 47.826215999999995, 47.953917999999994, 47.946407, 47.977163, 48.131029999999996, null, 48.998899920427796, 48.997229786811594, 48.219530999999996, 48.219549, 48.349455999999996, 48.349812, 48.393080999999995, 48.394265, 48.448643999999994, 48.435226, 48.468356, 48.998899920427796, null, 47.705000000000005, 48.21844, 48.218373, 48.305163, 48.304767999999996, 48.394079999999995, 48.394000000000005, 48.480942999999996, 48.480989, 48.517193999999996, 48.509401999999994, 48.91271, 48.912668, 48.9999246229794, 48.99927943840029, 48.823927, 48.823975, 48.563224999999996, 48.563358, 48.219037, 48.219034, 48.010289, 48.038184, 48.00561, 48.033625, 48.004058, 48.035469, 48.004067, 48.007503, 48.03225, 48.064726, 48.019718, 47.957457, 47.982859999999995, 47.958287, 47.927381999999994, 47.903562, 47.880216, 47.875827, 47.851701999999996, 47.806714, 47.777234, 47.773236, 47.731316, 47.740316, 47.678128, 47.661474999999996, 47.705000000000005, null, 46.489826, 46.712115999999995, 46.752908999999995, 46.693445999999994, 46.693625, 46.219705999999995, 46.220605, 46.489826, null, 46.831877, 46.860853, 46.860813, 46.904002999999996, 47.042046, 47.245391999999995, 47.317629, 47.354434999999995, 47.353901, 47.397403, 47.3970733821092, 46.6415014128297, 46.641408999999996, 46.670381, 46.684892, 46.684926, 46.831877, null]}, {\"fill\": \"toself\", \"fillcolor\": \"rgb(33, 145, 140)\", \"hoverinfo\": \"none\", \"line\": {\"color\": \"rgb(255,255,255)\", \"width\": 0.5}, \"mode\": \"lines\", \"name\": \"26,694 - 53,389\", \"type\": \"scatter\", \"x\": [-112.04607899999999, -111.92457999999999, -111.922567, -111.66626, -111.666482, -110.976171, -111.043131, -110.863942, -110.76846499999999, -110.76912899999999, -110.639589, -110.63891100000001, -110.767125, -110.788068, -110.772508, -110.645212, -110.636381, -110.662308, -110.751046, -110.759828, -110.856038, -110.913035, -111.084285, -111.104792, -111.080723, -111.158559, -111.15838600000001, -111.539373, -111.539214, -111.790236, -111.789278, -111.896359, -111.977382, -112.044829, -112.04607899999999, null, -113.165339, -113.080997, -113.061498, -113.086634, -112.984734, -112.913256, -112.91422, -112.817827, -112.548591, -112.278, -112.047781, -112.044829, -111.977382, -111.896359, -111.789278, -111.790236, -111.621404, -111.603296, -111.642219, -111.639502, -111.58927800000001, -111.509208, -111.498095, -111.587914, -111.639261, -111.631906, -112.029231, -112.063232, -112.205757, -112.187354, -112.316782, -112.293205, -112.320871, -112.410638, -112.41084599999999, -112.535597, -112.535748, -112.795642, -112.795808, -113.059053, -113.059199, -113.118359, -113.14720000000001, -113.12847, -113.165339, null, -114.562509, -114.509303, -114.409477, -114.388243, -114.430826, -114.403712, -114.507632, -114.460049, -114.527096, -114.444677, -114.470479, -114.427309, -114.422458, -114.367922, -114.403019, -114.342072, -114.332683698235, -113.827743, -113.809694, -113.878276, -113.858336, -113.782841, -113.784181, -113.74819600000001, -113.822893, -113.753097, -113.803677, -113.68725, -113.64869, -113.517409, -113.528581, -113.712522, -113.830242, -113.896496, -113.910416, -114.015633, -114.014973, -114.086584, -114.192802, -114.248121, -114.270717, -114.333218, -114.456154, -114.564691, -114.539107, -114.563652, -114.507826, -114.495421, -114.562509, null], \"y\": [47.516484, 47.501225999999996, 47.611259, 47.611253, 47.697761, 47.698738, 47.590866, 47.525059999999996, 47.525638, 47.446096, 47.445425, 47.359032, 47.359128, 47.249133, 47.095925, 47.09587, 46.837160999999995, 46.818025999999996, 46.844485999999996, 46.900161999999995, 46.921347, 46.980559, 47.010613, 47.029036, 47.087868, 47.088301, 47.011770999999996, 47.000558999999996, 46.913371, 46.913764, 47.128921999999996, 47.121280999999996, 47.183932, 47.192710999999996, 47.516484, null, 47.7224, 47.749916999999996, 47.78816, 47.918181999999995, 47.953917999999994, 47.826215999999995, 47.694958, 47.607589, 47.651824, 47.505623, 47.516034, 47.192710999999996, 47.183932, 47.121280999999996, 47.128921999999996, 46.913764, 46.903177, 46.88865, 46.86539, 46.832133999999996, 46.805599, 46.816246, 46.762502, 46.781752, 46.73818, 46.569972, 46.568805, 46.523716, 46.499748, 46.449931, 46.422478, 46.605089, 46.655927, 46.656011, 46.699504999999995, 46.699481999999996, 46.834233999999995, 46.831665, 47.177004, 47.17957, 47.488599, 47.497896, 47.602464999999995, 47.661046999999996, 47.7224, null, 45.779927, 45.845531, 45.851639999999996, 45.88234, 45.936631, 45.967048999999996, 46.031605, 46.097103999999995, 46.146218, 46.167024, 46.26732, 46.283623999999996, 46.387097, 46.437176, 46.498675, 46.519679, 46.66058077521689, 46.660896, 46.594276, 46.497422, 46.420185, 46.364204, 46.284932, 46.265496999999996, 46.208881, 46.11214, 46.037675, 46.035236, 45.965246, 45.940089, 45.88116, 45.838384, 45.750718, 45.769723, 45.699355999999995, 45.696127, 45.654008, 45.59118, 45.536595999999996, 45.545877, 45.486115999999996, 45.459316, 45.562129, 45.558026999999996, 45.60828, 45.637412, 45.657508, 45.703320999999995, 45.779927, null]}, {\"fill\": \"toself\", \"fillcolor\": \"rgb(94, 201, 98)\", \"hoverinfo\": \"none\", \"line\": {\"color\": \"rgb(255,255,255)\", \"width\": 0.5}, \"mode\": \"lines\", \"name\": \"53,389 - 80,084\", \"type\": \"scatter\", \"x\": [-115.020079, -114.848098, -114.849803, -114.888679, -114.888592, -114.63900699999999, -114.690227, -114.691264, -114.61266499999999, -114.73248, -114.691763, -114.718806, -114.684887, -114.73331999999999, -114.068179566579, -114.021207, -114.047615, -114.01360199999999, -114.058061, -113.993032, -114.002245, -113.956864, -113.841588, -113.756941, -113.771663, -113.702657, -113.740546, -113.750454, -113.473384, -113.47916000000001, -113.356379, -113.334014, -113.387137, -113.236777, -113.231652, -113.000624, -112.981771, -112.93777, -112.950029, -112.90767, -112.878701, -112.91259099999999, -113.086634, -113.061498, -113.080997, -113.165555, -113.12847, -113.144368, -113.634079, -113.598647, -113.66383, -113.667242, -113.747183, -113.842199, -113.884541, -114.029042, -114.078282, -114.038545, -114.49219, -114.47729, -114.604462, -114.604584, -114.989344, -115.020079, null, -111.805259, -111.703019, -111.58735899999999, -111.471285, -111.460645, -111.415802, -111.398521, -111.349372, -111.346652, -110.783833, -110.794774, -110.857382, -110.858252, -110.919222, -110.917899, -111.038169, -111.048974, -111.122654, -111.135388, -111.228113, -111.220193, -111.37701665531002, -111.35138, -111.536241, -111.659738, -111.721683, -111.721847, -111.805259, null, -114.797204, -114.550364, -114.35384, -114.35592199999999, -114.264148, -113.933503, -113.933568, -113.821447, -113.821166, -113.900685, -113.87111, -113.951167, -113.908581, -113.948745, -113.466485, -113.46645, -113.302943, -113.302903, -113.479832, -113.479856, -113.545081, -113.55153, -113.668166, -113.667996, -114.360709, -114.466902, -114.593292, -114.63979, -114.620859, -114.674925, -114.549127, -114.566129, -114.525358, -114.451265, -114.419532, -114.483227, -114.483694, -114.56609399999999, -114.586735, -114.65047, -114.650226, -114.712283, -114.712274, -114.775833, -114.797204, null, -108.924589, -108.40479500000001, -108.404856, -108.320812, -108.029363, -108.011948, -107.928547, -107.782087, -107.781214, -107.612411, -107.61239499999999, -107.528646, -107.462651, -107.511534, -107.674454, -107.674468, -107.798753, -107.798821, -107.881873, -107.881846, -108.047352, -108.069752, -108.193205, -108.193191, -108.316245, -108.316374, -108.698102, -108.699283, -108.801761, -108.78200000000001, -108.843016, -108.904726, -108.924589, null], \"y\": [48.225953999999994, 48.226124999999996, 48.573502, 48.573546, 48.658525999999995, 48.658877999999994, 48.677552, 48.708895999999996, 48.754698999999995, 48.809304, 48.84243, 48.938677999999996, 48.971534, 48.997676999999996, 48.9989189290043, 48.961343, 48.936712, 48.910081999999996, 48.889064999999995, 48.854123, 48.831869999999995, 48.817474, 48.855841999999996, 48.818318, 48.787757, 48.717935, 48.692906, 48.614335, 48.552482999999995, 48.453115, 48.424091999999995, 48.381944, 48.342146, 48.247211, 48.171077, 48.130734, 48.07376, 48.060925999999995, 48.033527, 48.02959, 47.977163, 47.946407, 47.918181999999995, 47.78816, 47.749916999999996, 47.727962999999995, 47.661046999999996, 47.595507, 47.600027, 47.697463, 47.744885, 47.889534999999995, 47.952951999999996, 47.978241999999995, 48.0519, 48.051652999999995, 48.023148, 47.96255, 47.961988999999996, 47.789941, 47.789871, 47.875605, 47.872806999999995, 48.225953999999994, null, 45.798306, 45.796617, 45.906802, 45.951474999999995, 45.997040999999996, 46.001785, 46.105849, 46.122606999999995, 46.187785, 46.192699, 45.590682, 45.59065, 45.524879, 45.524861, 45.351273, 45.351391, 44.474072, 44.493659, 44.533077, 44.578174999999995, 44.62246, 44.7516382083018, 45.641937999999996, 45.642257, 45.743344, 45.743278, 45.772369, 45.798306, null, 47.268916, 47.251722, 47.190995, 47.157903, 47.121069999999996, 47.138289, 47.18172, 47.181709, 47.2687, 47.311316999999995, 47.39197, 47.476017999999996, 47.514435999999996, 47.599992, 47.600057, 47.179186, 47.179643, 46.832159, 46.802772, 46.744713999999995, 46.744623, 46.716508, 46.716229, 46.658372, 46.669059, 46.631695, 46.632847999999996, 46.665203, 46.707415, 46.747414, 46.747366, 46.963404999999995, 47.009249999999994, 46.993201, 47.023246, 47.023357999999995, 47.067508, 47.06738, 47.123757, 47.138244, 47.167162999999995, 47.182187, 47.22559, 47.225573, 47.268916, null, 46.132369999999995, 46.132951999999996, 46.23596, 46.263996999999996, 46.264055, 46.336813, 46.395284, 46.395182, 46.496013999999995, 46.351557, 46.308113, 46.250245, 46.141425999999996, 46.043403, 46.04361, 45.985758999999995, 45.985679999999995, 45.956723, 45.928149, 45.899232999999995, 45.899316, 45.518535, 45.518538, 45.489526, 45.489503, 45.460508999999995, 45.464071999999994, 45.522628999999995, 45.551964999999996, 45.638639, 45.611042, 45.682821, 46.132369999999995, null]}, {\"fill\": \"toself\", \"fillcolor\": \"rgb(253, 231, 37)\", \"hoverinfo\": \"none\", \"line\": {\"color\": \"rgb(255,255,255)\", \"width\": 0.5}, \"mode\": \"lines\", \"name\": \"> 80,084\", \"type\": \"scatter\", \"x\": [], \"y\": []}, {\"hoverinfo\": \"text\", \"legendgroup\": \"centroids\", \"marker\": {\"color\": \"white\", \"opacity\": 0}, \"mode\": \"markers\", \"name\": \"US Counties\", \"selected\": {\"marker\": {\"color\": \"white\", \"opacity\": 1, \"size\": 3}}, \"showlegend\": false, \"text\": [\"County: Beaverhead<br>State: Montana<br>FIPS: 30001<br>Value: 5655\", \"County: Big Horn<br>State: Montana<br>FIPS: 30003<br>Value: 4677\", \"County: Blaine<br>State: Montana<br>FIPS: 30005<br>Value: 3117\", \"County: Broadwater<br>State: Montana<br>FIPS: 30007<br>Value: 4058\", \"County: Carbon<br>State: Montana<br>FIPS: 30009<br>Value: 7022\", \"County: Carter<br>State: Montana<br>FIPS: 30011<br>Value: 857\", \"County: Cascade<br>State: Montana<br>FIPS: 30013<br>Value: 37407\", \"County: Chouteau<br>State: Montana<br>FIPS: 30015<br>Value: 2965\", \"County: Custer<br>State: Montana<br>FIPS: 30017<br>Value: 5864\", \"County: Daniels<br>State: Montana<br>FIPS: 30019<br>Value: 1009\", \"County: Dawson<br>State: Montana<br>FIPS: 30021<br>Value: 4826\", \"County: Deer Lodge<br>State: Montana<br>FIPS: 30023<br>Value: 4870\", \"County: Fallon<br>State: Montana<br>FIPS: 30025<br>Value: 1555\", \"County: Fergus<br>State: Montana<br>FIPS: 30027<br>Value: 6456\", \"County: Flathead<br>State: Montana<br>FIPS: 30029<br>Value: 59701\", \"County: Gallatin<br>State: Montana<br>FIPS: 30031<br>Value: 70821\", \"County: Garfield<br>State: Montana<br>FIPS: 30033<br>Value: 813\", \"County: Glacier<br>State: Montana<br>FIPS: 30035<br>Value: 5674\", \"County: Golden Valley<br>State: Montana<br>FIPS: 30037<br>Value: 503\", \"County: Granite<br>State: Montana<br>FIPS: 30039<br>Value: 2094\", \"County: Hill<br>State: Montana<br>FIPS: 30041<br>Value: 7167\", \"County: Jefferson<br>State: Montana<br>FIPS: 30043<br>Value: 8169\", \"County: Judith Basin<br>State: Montana<br>FIPS: 30045<br>Value: 1338\", \"County: Lake<br>State: Montana<br>FIPS: 30047<br>Value: 16580\", \"County: Lewis and Clark<br>State: Montana<br>FIPS: 30049<br>Value: 42435\", \"County: Liberty<br>State: Montana<br>FIPS: 30051<br>Value: 1083\", \"County: Lincoln<br>State: Montana<br>FIPS: 30053<br>Value: 11526\", \"County: McCone<br>State: Montana<br>FIPS: 30055<br>Value: 1117\", \"County: Madison<br>State: Montana<br>FIPS: 30057<br>Value: 6083\", \"County: Meagher<br>State: Montana<br>FIPS: 30059<br>Value: 1112\", \"County: Mineral<br>State: Montana<br>FIPS: 30061<br>Value: 2551\", \"County: Missoula<br>State: Montana<br>FIPS: 30063<br>Value: 71572\", \"County: Musselshell<br>State: Montana<br>FIPS: 30065<br>Value: 2870\", \"County: Park<br>State: Montana<br>FIPS: 30067<br>Value: 11574\", \"County: Petroleum<br>State: Montana<br>FIPS: 30069<br>Value: 350\", \"County: Phillips<br>State: Montana<br>FIPS: 30071<br>Value: 2371\", \"County: Pondera<br>State: Montana<br>FIPS: 30073<br>Value: 0\", \"County: Powder River<br>State: Montana<br>FIPS: 30075<br>Value: 1129\", \"County: Powell<br>State: Montana<br>FIPS: 30077<br>Value: 3178\", \"County: Prairie<br>State: Montana<br>FIPS: 30079<br>Value: 730\", \"County: Ravalli<br>State: Montana<br>FIPS: 30081<br>Value: 28485\", \"County: Richland<br>State: Montana<br>FIPS: 30083<br>Value: 5745\", \"County: Roosevelt<br>State: Montana<br>FIPS: 30085<br>Value: 3993\", \"County: Rosebud<br>State: Montana<br>FIPS: 30087<br>Value: 3745\", \"County: Sanders<br>State: Montana<br>FIPS: 30089<br>Value: 7585\", \"County: Sheridan<br>State: Montana<br>FIPS: 30091<br>Value: 2012\", \"County: Silver Bow<br>State: Montana<br>FIPS: 30093<br>Value: 18921\", \"County: Stillwater<br>State: Montana<br>FIPS: 30095<br>Value: 5694\", \"County: Sweet Grass<br>State: Montana<br>FIPS: 30097<br>Value: 2448\", \"County: Teton<br>State: Montana<br>FIPS: 30099<br>Value: 3685\", \"County: Toole<br>State: Montana<br>FIPS: 30101<br>Value: 2115\", \"County: Treasure<br>State: Montana<br>FIPS: 30103<br>Value: 0\", \"County: Valley<br>State: Montana<br>FIPS: 30105<br>Value: 4248\", \"County: Wheatland<br>State: Montana<br>FIPS: 30107<br>Value: 770\", \"County: Wibaux<br>State: Montana<br>FIPS: 30109<br>Value: 585\", \"County: Yellowstone<br>State: Montana<br>FIPS: 30111<br>Value: 80084\"], \"type\": \"scatter\", \"unselected\": {\"marker\": {\"opacity\": 0}}, \"x\": [-112.89908859116092, -107.48970971515766, -108.9585771100551, -111.49550063032234, -109.02813376871389, -104.53615614853891, -111.34704092923656, -110.43523287568345, -105.57171864101524, -105.54853712881807, -104.8994927083622, -113.0679160948333, -104.4173916339894, -109.2244822257969, -114.04966868233339, -111.17045317380791, -106.99288601943594, -112.9947342563639, -109.17516674134768, -113.44036510978992, -110.11118153343655, -112.09380722105513, -110.26602797911671, -114.08936027944733, -112.39045392145256, -111.0245601312946, -115.4051790625011, -105.79541776901107, -111.92026572520705, -110.88571210287053, -114.99846327223617, -113.92371868034508, -108.39818793843352, -110.5264440327833, -108.25019898075048, -107.91325626306278, -112.22633930060059, -105.6301885526547, -112.93610793302261, -105.37798179383418, -114.12068148834717, -104.56142215950933, -105.01643695361406, -106.73071104422522, -115.13323421698446, -104.50467216381377, -112.65673091122841, -109.39511796048303, -109.9410448389539, -112.24085570920755, -111.6956405249678, -107.27162934976687, -106.66745949277922, -109.84457259382482, -104.24899359165232, -108.27439578801001], \"y\": [45.13283491656326, 45.423459057804244, 48.43271316477516, 46.332420074591056, 45.22737299191989, 45.51676690064932, 47.30795686466757, 47.88061939641846, 46.25267481762476, 48.7837897658065, 47.26638218329499, 46.06073336298909, 46.334000343100485, 47.26360686863829, 48.295146375438144, 45.540679998064014, 47.277623047965704, 48.705136554011624, 46.381208996097484, 46.404483105492275, 48.62822935145995, 46.14845944609659, 47.04543353998742, 47.64590958047123, 47.122447866180366, 48.561772030312056, 48.54244227013298, 47.64520934640825, 45.30068916066673, 46.598230459486444, 47.14729732001233, 47.03652154373726, 46.496619915148905, 45.48845029521393, 47.11754280775775, 48.259189187815366, 48.22776370794901, 45.39504404749933, 46.85635000293199, 46.860524984956456, 46.08169468249967, 47.78791489977351, 48.29452250095357, 46.229690428850404, 47.67479616642446, 48.721235721140815, 45.90240162718511, 45.66908400748407, 45.81383456007968, 47.83711447639908, 48.655400442076974, 46.211452084078644, 48.365266363075015, 46.466296914771675, 46.96525476691363, 45.93734344047101]}, {\"hoverinfo\": \"text\", \"legendgroup\": \"States\", \"line\": {\"color\": \"rgb(240, 240, 240)\", \"width\": 1}, \"mode\": \"lines\", \"showlegend\": false, \"type\": \"scatter\", \"x\": [-116.04966720193102, -116.049193, -104.048736, -104.039138, -111.055199, -111.048974, -111.122654, -111.135388, -111.228113, -111.220193, -111.381665, -111.414271, -111.489339, -111.473178, -111.516588, -111.518531, -111.467804, -111.700917, -111.821488, -111.869216, -112.10675499999999, -112.286187, -112.35421, -112.387389, -112.71911, -112.781294, -112.836034, -112.81324, -112.855395, -112.884667, -113.003544, -113.026148, -113.007194, -113.08703, -113.049349, -113.06775999999999, -113.131453, -113.24716599999999, -113.343749, -113.356062, -113.454858, -113.497904, -113.443782, -113.45197, -113.520001, -113.512923, -113.55865299999999, -113.594219, -113.684946, -113.738729, -113.733092, -113.776721, -113.766297, -113.834555, -113.806729, -113.90317, -113.935505, -114.015633, -114.014973, -114.086584, -114.192802, -114.248121, -114.270717, -114.333218, -114.456154, -114.564691, -114.539107, -114.563652, -114.507826, -114.495421, -114.566172, -114.509303, -114.409477, -114.388243, -114.430826, -114.403712, -114.507632, -114.460049, -114.527096, -114.444677, -114.470479, -114.42558700000001, -114.422458, -114.367922, -114.403019, -114.342072, -114.320665, -114.360709, -114.466902, -114.593292, -114.63979, -114.620859, -114.666112, -114.76689, -114.785386, -114.894614, -114.947413, -114.923899, -115.001274, -115.049538, -115.142446, -115.300504, -115.321032, -115.529301, -115.578619, -115.759233, -115.62910000000001, -115.75553, -115.688976, -115.73627, -115.72377, -115.831755, -115.852291, -116.04885, -116.04966720193102, null, -104.048652, -104.048736, -97.22872199999999, -97.234054, -97.17779, -97.19031299999999, -97.15876, -97.18123, -97.090328, -97.17532899999999, -97.126864, -97.162668, -97.128115, -97.150542, -97.122453, -97.16328999999999, -97.133377, -97.15627599999999, -97.112231, -97.145112, -97.12074899999999, -97.137191, -97.15174599999999, -97.13505599999999, -97.11783799999999, -97.138953, -97.14633099999999, -97.12102, -97.146667, -97.072257, -97.023156, -96.974184, -96.991007, -96.93517399999999, -96.851051, -96.871663, -96.83744399999999, -96.858211, -96.8288, -96.84471099999999, -96.82155499999999, -96.841101, -96.812726, -96.839548, -96.791758, -96.75325699999999, -96.802544, -96.775686, -96.797941, -96.74188699999999, -96.721897, -96.599761, -96.592682, -96.554507, -96.57794, -96.562525, -104.045443, -104.048652, null], \"y\": [48.4403221865285, 49.000912, 48.999877, 44.99852, 45.001321, 44.474072, 44.493659, 44.533077, 44.578174999999995, 44.62246, 44.754405, 44.710741, 44.704946, 44.665479, 44.643707, 44.583284, 44.53902, 44.561125, 44.509285999999996, 44.565295, 44.520829, 44.568472, 44.535638, 44.448057999999996, 44.504343999999996, 44.484888, 44.422653, 44.378102999999996, 44.359975, 44.402105999999996, 44.450814, 44.497015999999995, 44.52596, 44.599985, 44.62938, 44.679474, 44.772836999999996, 44.82295, 44.785078999999996, 44.819798, 44.865572, 44.946151, 44.95989, 45.059247, 45.092931, 45.115091, 45.114419, 45.186015999999995, 45.253706, 45.329741, 45.390173, 45.413872999999995, 45.520385999999995, 45.520728999999996, 45.602146, 45.621376999999995, 45.694646999999996, 45.696127, 45.654008, 45.59118, 45.536595999999996, 45.545877, 45.486115999999996, 45.459316, 45.562129, 45.558026999999996, 45.60828, 45.637412, 45.657508, 45.703320999999995, 45.773863999999996, 45.845531, 45.851639999999996, 45.88234, 45.936631, 45.967048999999996, 46.031605, 46.097103999999995, 46.146218, 46.167024, 46.26732, 46.287898999999996, 46.387097, 46.437176, 46.498675, 46.519679, 46.646963, 46.669059, 46.631695, 46.632847999999996, 46.665203, 46.707415, 46.739325, 46.696901, 46.780308, 46.801862, 46.859324, 46.916992, 46.971900999999995, 46.970774, 47.101029, 47.188139, 47.256105, 47.29927, 47.367007, 47.423471, 47.47672, 47.547311, 47.593892, 47.654762, 47.696670999999995, 47.755784999999996, 47.827991, 47.977185999999996, 48.4403221865285, null, 48.865733999999996, 48.999877, 49.000561999999995, 48.947610999999995, 48.875312, 48.815714, 48.810931, 48.797889999999995, 48.684512, 48.562461, 48.519757999999996, 48.477782999999995, 48.473596, 48.441202999999994, 48.418276, 48.391987, 48.382025999999996, 48.366198, 48.296471999999994, 48.267742999999996, 48.225826, 48.226951, 48.218931999999995, 48.220648, 48.209764, 48.217075, 48.168583, 48.159085999999995, 48.143203, 48.048068, 47.873978, 47.822978, 47.807672, 47.767466, 47.59794, 47.419391999999995, 47.389274, 47.367602, 47.328137999999996, 47.192902, 47.184314, 47.151401, 47.038270999999995, 47.006727999999995, 46.928464999999996, 46.924563, 46.811521, 46.766042999999996, 46.629113, 46.564229999999995, 46.440076999999995, 46.330386, 46.175211, 46.083977999999995, 46.026874, 45.937087, 45.94531, 48.865733999999996, null]}],                        {\"annotations\": [{\"showarrow\": false, \"text\": \"<b>Total Votes by County</b>\", \"x\": 1, \"xanchor\": \"right\", \"xref\": \"paper\", \"y\": 1.05, \"yref\": \"paper\"}], \"dragmode\": \"select\", \"height\": 400, \"hovermode\": \"closest\", \"legend\": {\"traceorder\": \"reversed\", \"x\": 1, \"xanchor\": \"right\", \"y\": 1, \"yanchor\": \"top\"}, \"margin\": {\"b\": 0, \"l\": 0, \"r\": 0, \"t\": 0}, \"paper_bgcolor\": \"rgb(229,229,229)\", \"plot_bgcolor\": \"rgb(229,229,229)\", \"title\": {\"text\": \"Montana\"}, \"width\": 750, \"xaxis\": {\"autorange\": false, \"fixedrange\": true, \"range\": [-116.049773718343, -96.554507], \"showgrid\": false, \"showticklabels\": false, \"zeroline\": false}, \"yaxis\": {\"autorange\": false, \"fixedrange\": true, \"range\": [42.7813901563314, 50.57949684366859], \"showgrid\": false, \"showticklabels\": false, \"zeroline\": false}},                        {\"responsive\": true}                    ).then(function(){\n",
       "                            \n",
       "var gd = document.getElementById('57268be9-b8ac-4219-95c0-127c00d93d35');\n",
       "var x = new MutationObserver(function (mutations, observer) {{\n",
       "        var display = window.getComputedStyle(gd).display;\n",
       "        if (!display || display === 'none') {{\n",
       "            console.log([gd, 'removed!']);\n",
       "            Plotly.purge(gd);\n",
       "            observer.disconnect();\n",
       "        }}\n",
       "}});\n",
       "\n",
       "// Listen for the removal of the full notebook cells\n",
       "var notebookContainer = gd.closest('#notebook-container');\n",
       "if (notebookContainer) {{\n",
       "    x.observe(notebookContainer, {childList: true});\n",
       "}}\n",
       "\n",
       "// Listen for the clearing of the current output cell\n",
       "var outputEl = gd.closest('.output');\n",
       "if (outputEl) {{\n",
       "    x.observe(outputEl, {childList: true});\n",
       "}}\n",
       "\n",
       "                        })                };                });            </script>        </div>"
      ]
     },
     "metadata": {},
     "output_type": "display_data"
    }
   ],
   "source": [
    "county = Montana_County['county'].tolist()\n",
    "values = Montana_County['current_votes'].tolist()\n",
    "fips = Montana_County['Flips'].tolist()\n",
    "\n",
    "endpts = list(np.mgrid[min(values):max(values):4j])\n",
    "\n",
    "fig = ff.create_choropleth(\n",
    "    fips=fips, values=values, scope=['Montana','North Dakota'], show_state_data=True,\n",
    "    binning_endpoints=endpts, round_legend_values=True,\n",
    "    plot_bgcolor='rgb(229,229,229)',\n",
    "    paper_bgcolor='rgb(229,229,229)',\n",
    "    legend_title='Total Votes by County',\n",
    "    show_hover=True,\n",
    "    county_outline={'color': 'rgb(255,255,255)', 'width': 0.5},\n",
    "    exponent_format=False,\n",
    "    title='Montana'\n",
    ")\n",
    "fig.update_layout(height=400, width=750, margin={\"r\":0,\"t\":0,\"l\":0,\"b\":0})\n",
    "fig.layout.template = None\n",
    "fig.show()"
   ]
  },
  {
   "cell_type": "markdown",
   "metadata": {
    "id": "aVr4KdyT_XIv",
    "papermill": {
     "duration": 0.061148,
     "end_time": "2020-11-10T13:53:08.260563",
     "exception": false,
     "start_time": "2020-11-10T13:53:08.199415",
     "status": "completed"
    },
    "tags": []
   },
   "source": [
    "## Come back for more updates!!"
   ]
  }
 ],
 "metadata": {
  "kernelspec": {
   "display_name": "Python 3",
   "language": "python",
   "name": "python3"
  },
  "language_info": {
   "codemirror_mode": {
    "name": "ipython",
    "version": 3
   },
   "file_extension": ".py",
   "mimetype": "text/x-python",
   "name": "python",
   "nbconvert_exporter": "python",
   "pygments_lexer": "ipython3",
   "version": "3.7.6"
  },
  "papermill": {
   "duration": 55.448945,
   "end_time": "2020-11-10T13:53:08.429605",
   "environment_variables": {},
   "exception": null,
   "input_path": "__notebook__.ipynb",
   "output_path": "__notebook__.ipynb",
   "parameters": {},
   "start_time": "2020-11-10T13:52:12.980660",
   "version": "2.1.0"
  }
 },
 "nbformat": 4,
 "nbformat_minor": 4
}
